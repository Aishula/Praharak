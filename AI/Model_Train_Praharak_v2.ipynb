{
 "cells": [
  {
   "cell_type": "markdown",
   "id": "8c45ff74-9af1-4634-a521-714aa41cd592",
   "metadata": {},
   "source": [
    "## Read datasets"
   ]
  },
  {
   "cell_type": "code",
   "execution_count": 72,
   "id": "96387b00-615e-4739-a58b-c2e6ee0db698",
   "metadata": {},
   "outputs": [],
   "source": [
    "import pandas as pd"
   ]
  },
  {
   "cell_type": "code",
   "execution_count": 73,
   "id": "c31af30f-aff0-400d-b5d5-925649390b33",
   "metadata": {},
   "outputs": [],
   "source": [
    "df1 = pd.read_csv(\"cic_ids_2017_original/Wednesday-workingHours.pcap_ISCX.csv\")"
   ]
  },
  {
   "cell_type": "code",
   "execution_count": 74,
   "id": "22edc101-8b6f-4864-b02f-1ba45b89a252",
   "metadata": {},
   "outputs": [
    {
     "name": "stdout",
     "output_type": "stream",
     "text": [
      "<class 'pandas.core.frame.DataFrame'>\n",
      "RangeIndex: 692703 entries, 0 to 692702\n",
      "Data columns (total 85 columns):\n",
      " #   Column                        Non-Null Count   Dtype  \n",
      "---  ------                        --------------   -----  \n",
      " 0   Flow ID                       692703 non-null  object \n",
      " 1    Source IP                    692703 non-null  object \n",
      " 2    Source Port                  692703 non-null  int64  \n",
      " 3    Destination IP               692703 non-null  object \n",
      " 4    Destination Port             692703 non-null  int64  \n",
      " 5    Protocol                     692703 non-null  int64  \n",
      " 6    Timestamp                    692703 non-null  object \n",
      " 7    Flow Duration                692703 non-null  int64  \n",
      " 8    Total Fwd Packets            692703 non-null  int64  \n",
      " 9    Total Backward Packets       692703 non-null  int64  \n",
      " 10  Total Length of Fwd Packets   692703 non-null  int64  \n",
      " 11   Total Length of Bwd Packets  692703 non-null  float64\n",
      " 12   Fwd Packet Length Max        692703 non-null  int64  \n",
      " 13   Fwd Packet Length Min        692703 non-null  int64  \n",
      " 14   Fwd Packet Length Mean       692703 non-null  float64\n",
      " 15   Fwd Packet Length Std        692703 non-null  float64\n",
      " 16  Bwd Packet Length Max         692703 non-null  int64  \n",
      " 17   Bwd Packet Length Min        692703 non-null  int64  \n",
      " 18   Bwd Packet Length Mean       692703 non-null  float64\n",
      " 19   Bwd Packet Length Std        692703 non-null  float64\n",
      " 20  Flow Bytes/s                  691695 non-null  float64\n",
      " 21   Flow Packets/s               692703 non-null  float64\n",
      " 22   Flow IAT Mean                692703 non-null  float64\n",
      " 23   Flow IAT Std                 692703 non-null  float64\n",
      " 24   Flow IAT Max                 692703 non-null  float64\n",
      " 25   Flow IAT Min                 692703 non-null  float64\n",
      " 26  Fwd IAT Total                 692703 non-null  float64\n",
      " 27   Fwd IAT Mean                 692703 non-null  float64\n",
      " 28   Fwd IAT Std                  692703 non-null  float64\n",
      " 29   Fwd IAT Max                  692703 non-null  float64\n",
      " 30   Fwd IAT Min                  692703 non-null  float64\n",
      " 31  Bwd IAT Total                 692703 non-null  float64\n",
      " 32   Bwd IAT Mean                 692703 non-null  float64\n",
      " 33   Bwd IAT Std                  692703 non-null  float64\n",
      " 34   Bwd IAT Max                  692703 non-null  float64\n",
      " 35   Bwd IAT Min                  692703 non-null  float64\n",
      " 36  Fwd PSH Flags                 692703 non-null  int64  \n",
      " 37   Bwd PSH Flags                692703 non-null  int64  \n",
      " 38   Fwd URG Flags                692703 non-null  int64  \n",
      " 39   Bwd URG Flags                692703 non-null  int64  \n",
      " 40   Fwd Header Length            692703 non-null  int64  \n",
      " 41   Bwd Header Length            692703 non-null  int64  \n",
      " 42  Fwd Packets/s                 692703 non-null  float64\n",
      " 43   Bwd Packets/s                692703 non-null  float64\n",
      " 44   Min Packet Length            692703 non-null  int64  \n",
      " 45   Max Packet Length            692703 non-null  int64  \n",
      " 46   Packet Length Mean           692703 non-null  float64\n",
      " 47   Packet Length Std            692703 non-null  float64\n",
      " 48   Packet Length Variance       692703 non-null  float64\n",
      " 49  FIN Flag Count                692703 non-null  int64  \n",
      " 50   SYN Flag Count               692703 non-null  int64  \n",
      " 51   RST Flag Count               692703 non-null  int64  \n",
      " 52   PSH Flag Count               692703 non-null  int64  \n",
      " 53   ACK Flag Count               692703 non-null  int64  \n",
      " 54   URG Flag Count               692703 non-null  int64  \n",
      " 55   CWE Flag Count               692703 non-null  int64  \n",
      " 56   ECE Flag Count               692703 non-null  int64  \n",
      " 57   Down/Up Ratio                692703 non-null  int64  \n",
      " 58   Average Packet Size          692703 non-null  float64\n",
      " 59   Avg Fwd Segment Size         692703 non-null  float64\n",
      " 60   Avg Bwd Segment Size         692703 non-null  float64\n",
      " 61   Fwd Header Length.1          692703 non-null  int64  \n",
      " 62  Fwd Avg Bytes/Bulk            692703 non-null  int64  \n",
      " 63   Fwd Avg Packets/Bulk         692703 non-null  int64  \n",
      " 64   Fwd Avg Bulk Rate            692703 non-null  int64  \n",
      " 65   Bwd Avg Bytes/Bulk           692703 non-null  int64  \n",
      " 66   Bwd Avg Packets/Bulk         692703 non-null  int64  \n",
      " 67  Bwd Avg Bulk Rate             692703 non-null  int64  \n",
      " 68  Subflow Fwd Packets           692703 non-null  int64  \n",
      " 69   Subflow Fwd Bytes            692703 non-null  int64  \n",
      " 70   Subflow Bwd Packets          692703 non-null  int64  \n",
      " 71   Subflow Bwd Bytes            692703 non-null  int64  \n",
      " 72  Init_Win_bytes_forward        692703 non-null  int64  \n",
      " 73   Init_Win_bytes_backward      692703 non-null  int64  \n",
      " 74   act_data_pkt_fwd             692703 non-null  int64  \n",
      " 75   min_seg_size_forward         692703 non-null  int64  \n",
      " 76  Active Mean                   692703 non-null  float64\n",
      " 77   Active Std                   692703 non-null  float64\n",
      " 78   Active Max                   692703 non-null  float64\n",
      " 79   Active Min                   692703 non-null  float64\n",
      " 80  Idle Mean                     692703 non-null  float64\n",
      " 81   Idle Std                     692703 non-null  float64\n",
      " 82   Idle Max                     692703 non-null  float64\n",
      " 83   Idle Min                     692703 non-null  float64\n",
      " 84   Label                        692703 non-null  object \n",
      "dtypes: float64(37), int64(43), object(5)\n",
      "memory usage: 449.2+ MB\n"
     ]
    }
   ],
   "source": [
    "df1.info()"
   ]
  },
  {
   "cell_type": "code",
   "execution_count": 75,
   "id": "763ee1aa-fcbb-41ee-97ea-632bcab983f7",
   "metadata": {},
   "outputs": [
    {
     "data": {
      "text/plain": [
       "(692703, 85)"
      ]
     },
     "execution_count": 75,
     "metadata": {},
     "output_type": "execute_result"
    }
   ],
   "source": [
    "df1.shape"
   ]
  },
  {
   "cell_type": "code",
   "execution_count": 76,
   "id": "1f45bc14-8964-46d6-8e13-5c66c7bd40cb",
   "metadata": {},
   "outputs": [
    {
     "data": {
      "text/html": [
       "<div>\n",
       "<style scoped>\n",
       "    .dataframe tbody tr th:only-of-type {\n",
       "        vertical-align: middle;\n",
       "    }\n",
       "\n",
       "    .dataframe tbody tr th {\n",
       "        vertical-align: top;\n",
       "    }\n",
       "\n",
       "    .dataframe thead th {\n",
       "        text-align: right;\n",
       "    }\n",
       "</style>\n",
       "<table border=\"1\" class=\"dataframe\">\n",
       "  <thead>\n",
       "    <tr style=\"text-align: right;\">\n",
       "      <th></th>\n",
       "      <th>Flow ID</th>\n",
       "      <th>Source IP</th>\n",
       "      <th>Source Port</th>\n",
       "      <th>Destination IP</th>\n",
       "      <th>Destination Port</th>\n",
       "      <th>Protocol</th>\n",
       "      <th>Timestamp</th>\n",
       "      <th>Flow Duration</th>\n",
       "      <th>Total Fwd Packets</th>\n",
       "      <th>Total Backward Packets</th>\n",
       "      <th>...</th>\n",
       "      <th>min_seg_size_forward</th>\n",
       "      <th>Active Mean</th>\n",
       "      <th>Active Std</th>\n",
       "      <th>Active Max</th>\n",
       "      <th>Active Min</th>\n",
       "      <th>Idle Mean</th>\n",
       "      <th>Idle Std</th>\n",
       "      <th>Idle Max</th>\n",
       "      <th>Idle Min</th>\n",
       "      <th>Label</th>\n",
       "    </tr>\n",
       "  </thead>\n",
       "  <tbody>\n",
       "    <tr>\n",
       "      <th>0</th>\n",
       "      <td>192.168.10.14-209.48.71.168-49459-80-6</td>\n",
       "      <td>192.168.10.14</td>\n",
       "      <td>49459</td>\n",
       "      <td>209.48.71.168</td>\n",
       "      <td>80</td>\n",
       "      <td>6</td>\n",
       "      <td>5/7/2017 8:42</td>\n",
       "      <td>38308</td>\n",
       "      <td>1</td>\n",
       "      <td>1</td>\n",
       "      <td>...</td>\n",
       "      <td>20</td>\n",
       "      <td>0.0</td>\n",
       "      <td>0.0</td>\n",
       "      <td>0.0</td>\n",
       "      <td>0.0</td>\n",
       "      <td>0.0</td>\n",
       "      <td>0.0</td>\n",
       "      <td>0.0</td>\n",
       "      <td>0.0</td>\n",
       "      <td>BENIGN</td>\n",
       "    </tr>\n",
       "    <tr>\n",
       "      <th>1</th>\n",
       "      <td>192.168.10.3-192.168.10.17-389-49453-6</td>\n",
       "      <td>192.168.10.17</td>\n",
       "      <td>49453</td>\n",
       "      <td>192.168.10.3</td>\n",
       "      <td>389</td>\n",
       "      <td>6</td>\n",
       "      <td>5/7/2017 8:42</td>\n",
       "      <td>479</td>\n",
       "      <td>11</td>\n",
       "      <td>5</td>\n",
       "      <td>...</td>\n",
       "      <td>32</td>\n",
       "      <td>0.0</td>\n",
       "      <td>0.0</td>\n",
       "      <td>0.0</td>\n",
       "      <td>0.0</td>\n",
       "      <td>0.0</td>\n",
       "      <td>0.0</td>\n",
       "      <td>0.0</td>\n",
       "      <td>0.0</td>\n",
       "      <td>BENIGN</td>\n",
       "    </tr>\n",
       "    <tr>\n",
       "      <th>2</th>\n",
       "      <td>192.168.10.3-192.168.10.17-88-46124-6</td>\n",
       "      <td>192.168.10.17</td>\n",
       "      <td>46124</td>\n",
       "      <td>192.168.10.3</td>\n",
       "      <td>88</td>\n",
       "      <td>6</td>\n",
       "      <td>5/7/2017 8:42</td>\n",
       "      <td>1095</td>\n",
       "      <td>10</td>\n",
       "      <td>6</td>\n",
       "      <td>...</td>\n",
       "      <td>32</td>\n",
       "      <td>0.0</td>\n",
       "      <td>0.0</td>\n",
       "      <td>0.0</td>\n",
       "      <td>0.0</td>\n",
       "      <td>0.0</td>\n",
       "      <td>0.0</td>\n",
       "      <td>0.0</td>\n",
       "      <td>0.0</td>\n",
       "      <td>BENIGN</td>\n",
       "    </tr>\n",
       "    <tr>\n",
       "      <th>3</th>\n",
       "      <td>192.168.10.3-192.168.10.17-389-49454-6</td>\n",
       "      <td>192.168.10.17</td>\n",
       "      <td>49454</td>\n",
       "      <td>192.168.10.3</td>\n",
       "      <td>389</td>\n",
       "      <td>6</td>\n",
       "      <td>5/7/2017 8:42</td>\n",
       "      <td>15206</td>\n",
       "      <td>17</td>\n",
       "      <td>12</td>\n",
       "      <td>...</td>\n",
       "      <td>32</td>\n",
       "      <td>0.0</td>\n",
       "      <td>0.0</td>\n",
       "      <td>0.0</td>\n",
       "      <td>0.0</td>\n",
       "      <td>0.0</td>\n",
       "      <td>0.0</td>\n",
       "      <td>0.0</td>\n",
       "      <td>0.0</td>\n",
       "      <td>BENIGN</td>\n",
       "    </tr>\n",
       "    <tr>\n",
       "      <th>4</th>\n",
       "      <td>192.168.10.3-192.168.10.17-88-46126-6</td>\n",
       "      <td>192.168.10.17</td>\n",
       "      <td>46126</td>\n",
       "      <td>192.168.10.3</td>\n",
       "      <td>88</td>\n",
       "      <td>6</td>\n",
       "      <td>5/7/2017 8:42</td>\n",
       "      <td>1092</td>\n",
       "      <td>9</td>\n",
       "      <td>6</td>\n",
       "      <td>...</td>\n",
       "      <td>32</td>\n",
       "      <td>0.0</td>\n",
       "      <td>0.0</td>\n",
       "      <td>0.0</td>\n",
       "      <td>0.0</td>\n",
       "      <td>0.0</td>\n",
       "      <td>0.0</td>\n",
       "      <td>0.0</td>\n",
       "      <td>0.0</td>\n",
       "      <td>BENIGN</td>\n",
       "    </tr>\n",
       "    <tr>\n",
       "      <th>...</th>\n",
       "      <td>...</td>\n",
       "      <td>...</td>\n",
       "      <td>...</td>\n",
       "      <td>...</td>\n",
       "      <td>...</td>\n",
       "      <td>...</td>\n",
       "      <td>...</td>\n",
       "      <td>...</td>\n",
       "      <td>...</td>\n",
       "      <td>...</td>\n",
       "      <td>...</td>\n",
       "      <td>...</td>\n",
       "      <td>...</td>\n",
       "      <td>...</td>\n",
       "      <td>...</td>\n",
       "      <td>...</td>\n",
       "      <td>...</td>\n",
       "      <td>...</td>\n",
       "      <td>...</td>\n",
       "      <td>...</td>\n",
       "      <td>...</td>\n",
       "    </tr>\n",
       "    <tr>\n",
       "      <th>692698</th>\n",
       "      <td>192.168.10.3-192.168.10.14-53-51114-17</td>\n",
       "      <td>192.168.10.14</td>\n",
       "      <td>51114</td>\n",
       "      <td>192.168.10.3</td>\n",
       "      <td>53</td>\n",
       "      <td>17</td>\n",
       "      <td>5/7/2017 12:10</td>\n",
       "      <td>32215</td>\n",
       "      <td>4</td>\n",
       "      <td>2</td>\n",
       "      <td>...</td>\n",
       "      <td>20</td>\n",
       "      <td>0.0</td>\n",
       "      <td>0.0</td>\n",
       "      <td>0.0</td>\n",
       "      <td>0.0</td>\n",
       "      <td>0.0</td>\n",
       "      <td>0.0</td>\n",
       "      <td>0.0</td>\n",
       "      <td>0.0</td>\n",
       "      <td>BENIGN</td>\n",
       "    </tr>\n",
       "    <tr>\n",
       "      <th>692699</th>\n",
       "      <td>192.168.10.3-192.168.10.16-53-24054-17</td>\n",
       "      <td>192.168.10.16</td>\n",
       "      <td>24054</td>\n",
       "      <td>192.168.10.3</td>\n",
       "      <td>53</td>\n",
       "      <td>17</td>\n",
       "      <td>5/7/2017 3:02</td>\n",
       "      <td>324</td>\n",
       "      <td>2</td>\n",
       "      <td>2</td>\n",
       "      <td>...</td>\n",
       "      <td>20</td>\n",
       "      <td>0.0</td>\n",
       "      <td>0.0</td>\n",
       "      <td>0.0</td>\n",
       "      <td>0.0</td>\n",
       "      <td>0.0</td>\n",
       "      <td>0.0</td>\n",
       "      <td>0.0</td>\n",
       "      <td>0.0</td>\n",
       "      <td>BENIGN</td>\n",
       "    </tr>\n",
       "    <tr>\n",
       "      <th>692700</th>\n",
       "      <td>192.168.10.51-23.208.163.130-58030-443-6</td>\n",
       "      <td>23.208.163.130</td>\n",
       "      <td>443</td>\n",
       "      <td>192.168.10.51</td>\n",
       "      <td>58030</td>\n",
       "      <td>6</td>\n",
       "      <td>5/7/2017 10:06</td>\n",
       "      <td>82</td>\n",
       "      <td>2</td>\n",
       "      <td>1</td>\n",
       "      <td>...</td>\n",
       "      <td>32</td>\n",
       "      <td>0.0</td>\n",
       "      <td>0.0</td>\n",
       "      <td>0.0</td>\n",
       "      <td>0.0</td>\n",
       "      <td>0.0</td>\n",
       "      <td>0.0</td>\n",
       "      <td>0.0</td>\n",
       "      <td>0.0</td>\n",
       "      <td>BENIGN</td>\n",
       "    </tr>\n",
       "    <tr>\n",
       "      <th>692701</th>\n",
       "      <td>192.168.10.3-192.168.10.14-53-51694-17</td>\n",
       "      <td>192.168.10.14</td>\n",
       "      <td>51694</td>\n",
       "      <td>192.168.10.3</td>\n",
       "      <td>53</td>\n",
       "      <td>17</td>\n",
       "      <td>5/7/2017 1:19</td>\n",
       "      <td>1048635</td>\n",
       "      <td>6</td>\n",
       "      <td>2</td>\n",
       "      <td>...</td>\n",
       "      <td>20</td>\n",
       "      <td>0.0</td>\n",
       "      <td>0.0</td>\n",
       "      <td>0.0</td>\n",
       "      <td>0.0</td>\n",
       "      <td>0.0</td>\n",
       "      <td>0.0</td>\n",
       "      <td>0.0</td>\n",
       "      <td>0.0</td>\n",
       "      <td>BENIGN</td>\n",
       "    </tr>\n",
       "    <tr>\n",
       "      <th>692702</th>\n",
       "      <td>192.168.10.3-192.168.10.14-53-57949-17</td>\n",
       "      <td>192.168.10.14</td>\n",
       "      <td>57949</td>\n",
       "      <td>192.168.10.3</td>\n",
       "      <td>53</td>\n",
       "      <td>17</td>\n",
       "      <td>5/7/2017 2:43</td>\n",
       "      <td>94939</td>\n",
       "      <td>4</td>\n",
       "      <td>2</td>\n",
       "      <td>...</td>\n",
       "      <td>20</td>\n",
       "      <td>0.0</td>\n",
       "      <td>0.0</td>\n",
       "      <td>0.0</td>\n",
       "      <td>0.0</td>\n",
       "      <td>0.0</td>\n",
       "      <td>0.0</td>\n",
       "      <td>0.0</td>\n",
       "      <td>0.0</td>\n",
       "      <td>BENIGN</td>\n",
       "    </tr>\n",
       "  </tbody>\n",
       "</table>\n",
       "<p>692703 rows × 85 columns</p>\n",
       "</div>"
      ],
      "text/plain": [
       "                                         Flow ID       Source IP  \\\n",
       "0         192.168.10.14-209.48.71.168-49459-80-6   192.168.10.14   \n",
       "1         192.168.10.3-192.168.10.17-389-49453-6   192.168.10.17   \n",
       "2          192.168.10.3-192.168.10.17-88-46124-6   192.168.10.17   \n",
       "3         192.168.10.3-192.168.10.17-389-49454-6   192.168.10.17   \n",
       "4          192.168.10.3-192.168.10.17-88-46126-6   192.168.10.17   \n",
       "...                                          ...             ...   \n",
       "692698    192.168.10.3-192.168.10.14-53-51114-17   192.168.10.14   \n",
       "692699    192.168.10.3-192.168.10.16-53-24054-17   192.168.10.16   \n",
       "692700  192.168.10.51-23.208.163.130-58030-443-6  23.208.163.130   \n",
       "692701    192.168.10.3-192.168.10.14-53-51694-17   192.168.10.14   \n",
       "692702    192.168.10.3-192.168.10.14-53-57949-17   192.168.10.14   \n",
       "\n",
       "         Source Port  Destination IP   Destination Port   Protocol  \\\n",
       "0              49459   209.48.71.168                 80          6   \n",
       "1              49453    192.168.10.3                389          6   \n",
       "2              46124    192.168.10.3                 88          6   \n",
       "3              49454    192.168.10.3                389          6   \n",
       "4              46126    192.168.10.3                 88          6   \n",
       "...              ...             ...                ...        ...   \n",
       "692698         51114    192.168.10.3                 53         17   \n",
       "692699         24054    192.168.10.3                 53         17   \n",
       "692700           443   192.168.10.51              58030          6   \n",
       "692701         51694    192.168.10.3                 53         17   \n",
       "692702         57949    192.168.10.3                 53         17   \n",
       "\n",
       "             Timestamp   Flow Duration   Total Fwd Packets  \\\n",
       "0        5/7/2017 8:42           38308                   1   \n",
       "1        5/7/2017 8:42             479                  11   \n",
       "2        5/7/2017 8:42            1095                  10   \n",
       "3        5/7/2017 8:42           15206                  17   \n",
       "4        5/7/2017 8:42            1092                   9   \n",
       "...                ...             ...                 ...   \n",
       "692698  5/7/2017 12:10           32215                   4   \n",
       "692699   5/7/2017 3:02             324                   2   \n",
       "692700  5/7/2017 10:06              82                   2   \n",
       "692701   5/7/2017 1:19         1048635                   6   \n",
       "692702   5/7/2017 2:43           94939                   4   \n",
       "\n",
       "         Total Backward Packets  ...   min_seg_size_forward  Active Mean  \\\n",
       "0                             1  ...                     20          0.0   \n",
       "1                             5  ...                     32          0.0   \n",
       "2                             6  ...                     32          0.0   \n",
       "3                            12  ...                     32          0.0   \n",
       "4                             6  ...                     32          0.0   \n",
       "...                         ...  ...                    ...          ...   \n",
       "692698                        2  ...                     20          0.0   \n",
       "692699                        2  ...                     20          0.0   \n",
       "692700                        1  ...                     32          0.0   \n",
       "692701                        2  ...                     20          0.0   \n",
       "692702                        2  ...                     20          0.0   \n",
       "\n",
       "         Active Std   Active Max   Active Min  Idle Mean   Idle Std  \\\n",
       "0               0.0          0.0          0.0        0.0        0.0   \n",
       "1               0.0          0.0          0.0        0.0        0.0   \n",
       "2               0.0          0.0          0.0        0.0        0.0   \n",
       "3               0.0          0.0          0.0        0.0        0.0   \n",
       "4               0.0          0.0          0.0        0.0        0.0   \n",
       "...             ...          ...          ...        ...        ...   \n",
       "692698          0.0          0.0          0.0        0.0        0.0   \n",
       "692699          0.0          0.0          0.0        0.0        0.0   \n",
       "692700          0.0          0.0          0.0        0.0        0.0   \n",
       "692701          0.0          0.0          0.0        0.0        0.0   \n",
       "692702          0.0          0.0          0.0        0.0        0.0   \n",
       "\n",
       "         Idle Max   Idle Min   Label  \n",
       "0             0.0        0.0  BENIGN  \n",
       "1             0.0        0.0  BENIGN  \n",
       "2             0.0        0.0  BENIGN  \n",
       "3             0.0        0.0  BENIGN  \n",
       "4             0.0        0.0  BENIGN  \n",
       "...           ...        ...     ...  \n",
       "692698        0.0        0.0  BENIGN  \n",
       "692699        0.0        0.0  BENIGN  \n",
       "692700        0.0        0.0  BENIGN  \n",
       "692701        0.0        0.0  BENIGN  \n",
       "692702        0.0        0.0  BENIGN  \n",
       "\n",
       "[692703 rows x 85 columns]"
      ]
     },
     "execution_count": 76,
     "metadata": {},
     "output_type": "execute_result"
    }
   ],
   "source": [
    "df1"
   ]
  },
  {
   "cell_type": "markdown",
   "id": "92b15508-87b0-456d-bf71-e1ab8995f95c",
   "metadata": {},
   "source": [
    "## Extract relavent rows and merge into one file"
   ]
  },
  {
   "cell_type": "code",
   "execution_count": 77,
   "id": "a1b8e4be-a87b-48e7-bce0-359b94a8eb2b",
   "metadata": {},
   "outputs": [
    {
     "data": {
      "text/plain": [
       "Index(['Flow ID', ' Source IP', ' Source Port', ' Destination IP',\n",
       "       ' Destination Port', ' Protocol', ' Timestamp', ' Flow Duration',\n",
       "       ' Total Fwd Packets', ' Total Backward Packets',\n",
       "       'Total Length of Fwd Packets', ' Total Length of Bwd Packets',\n",
       "       ' Fwd Packet Length Max', ' Fwd Packet Length Min',\n",
       "       ' Fwd Packet Length Mean', ' Fwd Packet Length Std',\n",
       "       'Bwd Packet Length Max', ' Bwd Packet Length Min',\n",
       "       ' Bwd Packet Length Mean', ' Bwd Packet Length Std', 'Flow Bytes/s',\n",
       "       ' Flow Packets/s', ' Flow IAT Mean', ' Flow IAT Std', ' Flow IAT Max',\n",
       "       ' Flow IAT Min', 'Fwd IAT Total', ' Fwd IAT Mean', ' Fwd IAT Std',\n",
       "       ' Fwd IAT Max', ' Fwd IAT Min', 'Bwd IAT Total', ' Bwd IAT Mean',\n",
       "       ' Bwd IAT Std', ' Bwd IAT Max', ' Bwd IAT Min', 'Fwd PSH Flags',\n",
       "       ' Bwd PSH Flags', ' Fwd URG Flags', ' Bwd URG Flags',\n",
       "       ' Fwd Header Length', ' Bwd Header Length', 'Fwd Packets/s',\n",
       "       ' Bwd Packets/s', ' Min Packet Length', ' Max Packet Length',\n",
       "       ' Packet Length Mean', ' Packet Length Std', ' Packet Length Variance',\n",
       "       'FIN Flag Count', ' SYN Flag Count', ' RST Flag Count',\n",
       "       ' PSH Flag Count', ' ACK Flag Count', ' URG Flag Count',\n",
       "       ' CWE Flag Count', ' ECE Flag Count', ' Down/Up Ratio',\n",
       "       ' Average Packet Size', ' Avg Fwd Segment Size',\n",
       "       ' Avg Bwd Segment Size', ' Fwd Header Length.1', 'Fwd Avg Bytes/Bulk',\n",
       "       ' Fwd Avg Packets/Bulk', ' Fwd Avg Bulk Rate', ' Bwd Avg Bytes/Bulk',\n",
       "       ' Bwd Avg Packets/Bulk', 'Bwd Avg Bulk Rate', 'Subflow Fwd Packets',\n",
       "       ' Subflow Fwd Bytes', ' Subflow Bwd Packets', ' Subflow Bwd Bytes',\n",
       "       'Init_Win_bytes_forward', ' Init_Win_bytes_backward',\n",
       "       ' act_data_pkt_fwd', ' min_seg_size_forward', 'Active Mean',\n",
       "       ' Active Std', ' Active Max', ' Active Min', 'Idle Mean', ' Idle Std',\n",
       "       ' Idle Max', ' Idle Min', ' Label'],\n",
       "      dtype='object')"
      ]
     },
     "execution_count": 77,
     "metadata": {},
     "output_type": "execute_result"
    }
   ],
   "source": [
    "df1.columns"
   ]
  },
  {
   "cell_type": "code",
   "execution_count": 78,
   "id": "76d26797-7bfa-4591-a0d7-ccf52cd5ade2",
   "metadata": {},
   "outputs": [
    {
     "name": "stdout",
     "output_type": "stream",
     "text": [
      " Bwd PSH Flags - [0]\n",
      " Fwd URG Flags - [0]\n",
      " Bwd URG Flags - [0]\n",
      " CWE Flag Count - [0]\n",
      "Fwd Avg Bytes/Bulk - [0]\n",
      " Fwd Avg Packets/Bulk - [0]\n",
      " Fwd Avg Bulk Rate - [0]\n",
      " Bwd Avg Bytes/Bulk - [0]\n",
      " Bwd Avg Packets/Bulk - [0]\n",
      "Bwd Avg Bulk Rate - [0]\n"
     ]
    }
   ],
   "source": [
    "# View the zero or contant valued features\n",
    "\n",
    "for feature in df1.columns:\n",
    "    unique_values = df1[feature].unique()\n",
    "    if len(unique_values) == 1:\n",
    "        print(f\"{feature} - {unique_values}\")"
   ]
  },
  {
   "cell_type": "code",
   "execution_count": 79,
   "id": "03a0d748-b40c-4222-b5c8-ad26bd17b033",
   "metadata": {},
   "outputs": [],
   "source": [
    "drop_columns = ['Flow ID', ' Source IP', ' Source Port', ' Destination IP',\n",
    "                ' Bwd PSH Flags', ' Fwd URG Flags', ' Bwd URG Flags', ' CWE Flag Count',\n",
    "                'Fwd Avg Bytes/Bulk', ' Fwd Avg Packets/Bulk', ' Fwd Avg Bulk Rate',\n",
    "                ' Bwd Avg Bytes/Bulk', ' Bwd Avg Packets/Bulk', 'Bwd Avg Bulk Rate', ' Fwd Header Length.1'\n",
    "      ]"
   ]
  },
  {
   "cell_type": "code",
   "execution_count": 80,
   "id": "7347448a-7955-4229-ab47-a638d08d1843",
   "metadata": {},
   "outputs": [],
   "source": [
    "df1.drop(columns=drop_columns, inplace=True)"
   ]
  },
  {
   "cell_type": "code",
   "execution_count": 81,
   "id": "a9dea794-edc0-4e52-b42e-82d75f1d70e6",
   "metadata": {},
   "outputs": [
    {
     "data": {
      "text/plain": [
       "(692703, 70)"
      ]
     },
     "execution_count": 81,
     "metadata": {},
     "output_type": "execute_result"
    }
   ],
   "source": [
    "df1.shape"
   ]
  },
  {
   "cell_type": "markdown",
   "id": "14623ef9-b7e1-44ef-b9db-b0aea80b145f",
   "metadata": {},
   "source": [
    "## Apply preprocessing"
   ]
  },
  {
   "cell_type": "code",
   "execution_count": 82,
   "id": "f4167e5c-0507-476c-80d8-6971f5b7a924",
   "metadata": {},
   "outputs": [],
   "source": [
    "# Remove non values\n",
    "df1.dropna(inplace=True)"
   ]
  },
  {
   "cell_type": "code",
   "execution_count": 83,
   "id": "cbae1aca-b1a6-47b0-bd63-5d0f703c430f",
   "metadata": {},
   "outputs": [],
   "source": [
    "# Remove duplicate\n",
    "df1.drop_duplicates(inplace=True)"
   ]
  },
  {
   "cell_type": "code",
   "execution_count": 84,
   "id": "cf8687df-63a6-4767-93dd-491329b005ee",
   "metadata": {},
   "outputs": [
    {
     "data": {
      "text/plain": [
       " Label\n",
       "BENIGN              435574\n",
       "DoS Hulk            178179\n",
       "DoS GoldenEye        10286\n",
       "DoS slowloris         5692\n",
       "DoS Slowhttptest      5263\n",
       "Heartbleed              11\n",
       "Name: count, dtype: int64"
      ]
     },
     "execution_count": 84,
     "metadata": {},
     "output_type": "execute_result"
    }
   ],
   "source": [
    "df1[' Label'].value_counts()"
   ]
  },
  {
   "cell_type": "code",
   "execution_count": 85,
   "id": "70f008a7-1fc1-4571-ab7a-ea5a52e9a476",
   "metadata": {},
   "outputs": [
    {
     "name": "stderr",
     "output_type": "stream",
     "text": [
      "/tmp/ipykernel_283280/2329808528.py:4: FutureWarning: Downcasting behavior in `replace` is deprecated and will be removed in a future version. To retain the old behavior, explicitly call `result.infer_objects(copy=False)`. To opt-in to the future behavior, set `pd.set_option('future.no_silent_downcasting', True)`\n",
      "  df1.replace(to_replace=['BENIGN'], value=0, inplace=True)\n"
     ]
    }
   ],
   "source": [
    "# Replace BENIGN with 0 and other with 1\n",
    "\n",
    "df1.replace(to_replace=[\"DoS Hulk\", \"DoS GoldenEye\", \"DoS slowloris\", \"DoS Slowhttptest\", \"Heartbleed\"], value=1, inplace=True)\n",
    "df1.replace(to_replace=['BENIGN'], value=0, inplace=True)"
   ]
  },
  {
   "cell_type": "code",
   "execution_count": 86,
   "id": "6456dcef-bcbd-489c-9db1-3bc12f253896",
   "metadata": {},
   "outputs": [
    {
     "data": {
      "text/plain": [
       " Label\n",
       "0    435574\n",
       "1    199431\n",
       "Name: count, dtype: int64"
      ]
     },
     "execution_count": 86,
     "metadata": {},
     "output_type": "execute_result"
    }
   ],
   "source": [
    "df1[' Label'].value_counts()"
   ]
  },
  {
   "cell_type": "code",
   "execution_count": 87,
   "id": "a31ca2d7-fbb3-48b5-9e32-40c0174dcdef",
   "metadata": {},
   "outputs": [],
   "source": [
    "# Find out non binary colums\n",
    "\n",
    "non_binary_columns=df1.columns[df1.nunique()>2]"
   ]
  },
  {
   "cell_type": "code",
   "execution_count": 91,
   "id": "e51b7203-d8fd-45e2-a772-29f777608451",
   "metadata": {},
   "outputs": [
    {
     "data": {
      "text/plain": [
       "[' Destination Port',\n",
       " ' Protocol',\n",
       " ' Flow Duration',\n",
       " ' Total Fwd Packets',\n",
       " ' Total Backward Packets',\n",
       " 'Total Length of Fwd Packets',\n",
       " ' Total Length of Bwd Packets',\n",
       " ' Fwd Packet Length Max',\n",
       " ' Fwd Packet Length Min',\n",
       " ' Fwd Packet Length Mean',\n",
       " ' Fwd Packet Length Std',\n",
       " 'Bwd Packet Length Max',\n",
       " ' Bwd Packet Length Min',\n",
       " ' Bwd Packet Length Mean',\n",
       " ' Bwd Packet Length Std',\n",
       " 'Flow Bytes/s',\n",
       " ' Flow Packets/s',\n",
       " ' Flow IAT Mean',\n",
       " ' Flow IAT Std',\n",
       " ' Flow IAT Max',\n",
       " ' Flow IAT Min',\n",
       " 'Fwd IAT Total',\n",
       " ' Fwd IAT Mean',\n",
       " ' Fwd IAT Std',\n",
       " ' Fwd IAT Max',\n",
       " ' Fwd IAT Min',\n",
       " 'Bwd IAT Total',\n",
       " ' Bwd IAT Mean',\n",
       " ' Bwd IAT Std',\n",
       " ' Bwd IAT Max',\n",
       " ' Bwd IAT Min',\n",
       " ' Fwd Header Length',\n",
       " ' Bwd Header Length',\n",
       " 'Fwd Packets/s',\n",
       " ' Bwd Packets/s',\n",
       " ' Min Packet Length',\n",
       " ' Max Packet Length',\n",
       " ' Packet Length Mean',\n",
       " ' Packet Length Std',\n",
       " ' Packet Length Variance',\n",
       " ' Down/Up Ratio',\n",
       " ' Average Packet Size',\n",
       " ' Avg Fwd Segment Size',\n",
       " ' Avg Bwd Segment Size',\n",
       " 'Subflow Fwd Packets',\n",
       " ' Subflow Fwd Bytes',\n",
       " ' Subflow Bwd Packets',\n",
       " ' Subflow Bwd Bytes',\n",
       " 'Init_Win_bytes_forward',\n",
       " ' Init_Win_bytes_backward',\n",
       " ' act_data_pkt_fwd',\n",
       " ' min_seg_size_forward',\n",
       " 'Active Mean',\n",
       " ' Active Std',\n",
       " ' Active Max',\n",
       " ' Active Min',\n",
       " 'Idle Mean',\n",
       " ' Idle Std',\n",
       " ' Idle Max',\n",
       " ' Idle Min']"
      ]
     },
     "execution_count": 91,
     "metadata": {},
     "output_type": "execute_result"
    }
   ],
   "source": [
    "# Convert Index to list\n",
    "non_binary_columns = non_binary_columns.tolist()\n",
    "\n",
    "# Remove 'Timestamp'\n",
    "non_binary_columns.remove(' Timestamp')\n",
    "\n",
    "# Print the updated list\n",
    "non_binary_columns"
   ]
  },
  {
   "cell_type": "code",
   "execution_count": 92,
   "id": "daa8e3e0-51b6-4d52-82f1-31d96d0e63be",
   "metadata": {},
   "outputs": [
    {
     "name": "stdout",
     "output_type": "stream",
     "text": [
      "False    67\n",
      "True      2\n",
      "Name: count, dtype: int64\n"
     ]
    }
   ],
   "source": [
    "# Select only numeric columns\n",
    "numeric_columns = df1.select_dtypes(include=[np.number]).columns\n",
    "\n",
    "# Check for infinite values\n",
    "is_infinite = np.isinf(df1[numeric_columns]).any(axis=0)\n",
    "\n",
    "# Convert to Series to use value_counts()\n",
    "is_infinite_series = pd.Series(is_infinite)\n",
    "\n",
    "# Print the value counts of infinite values\n",
    "print(is_infinite_series.value_counts())"
   ]
  },
  {
   "cell_type": "code",
   "execution_count": 93,
   "id": "0e5c48e1-5a5f-4d09-8f3c-338e0333271e",
   "metadata": {},
   "outputs": [
    {
     "name": "stdout",
     "output_type": "stream",
     "text": [
      "Columns with infinite values: ['Flow Bytes/s', ' Flow Packets/s']\n"
     ]
    }
   ],
   "source": [
    "infinite_columns = df1[non_binary_columns].columns[np.isinf(df1[non_binary_columns]).any(axis=0)]\n",
    "\n",
    "print(\"Columns with infinite values:\", infinite_columns.tolist())"
   ]
  },
  {
   "cell_type": "code",
   "execution_count": 94,
   "id": "8e3cce4c-2bfb-4595-958d-6fca11540177",
   "metadata": {},
   "outputs": [],
   "source": [
    "# Remove infinite rows\n",
    "import numpy as np\n",
    "\n",
    "df1 = df1.replace([np.inf, -np.inf], np.nan).dropna(subset=non_binary_columns)"
   ]
  },
  {
   "cell_type": "code",
   "execution_count": 95,
   "id": "01c60b4d-06e3-4304-9f02-7319d068019d",
   "metadata": {},
   "outputs": [
    {
     "data": {
      "text/plain": [
       "False    60\n",
       "Name: count, dtype: int64"
      ]
     },
     "execution_count": 95,
     "metadata": {},
     "output_type": "execute_result"
    }
   ],
   "source": [
    "# for large\n",
    "\n",
    "is_large = np.any(np.abs(df1[non_binary_columns]) > np.finfo(np.float64).max, axis=0)\n",
    "is_large.value_counts()"
   ]
  },
  {
   "cell_type": "code",
   "execution_count": 96,
   "id": "235ff20e-07a8-4559-aae3-1644b4d7c8cf",
   "metadata": {},
   "outputs": [
    {
     "data": {
      "text/plain": [
       "(634719, 70)"
      ]
     },
     "execution_count": 96,
     "metadata": {},
     "output_type": "execute_result"
    }
   ],
   "source": [
    "df1.shape"
   ]
  },
  {
   "cell_type": "code",
   "execution_count": 97,
   "id": "92115706-0964-4507-afcd-63841a3a163c",
   "metadata": {},
   "outputs": [
    {
     "data": {
      "text/plain": [
       " Label\n",
       "0    435288\n",
       "1    199431\n",
       "Name: count, dtype: int64"
      ]
     },
     "execution_count": 97,
     "metadata": {},
     "output_type": "execute_result"
    }
   ],
   "source": [
    "df1[' Label'].value_counts()"
   ]
  },
  {
   "cell_type": "markdown",
   "id": "d05d9a82-fd9f-40b1-94c6-22c95b35cd38",
   "metadata": {},
   "source": [
    "## Normalize timestamp"
   ]
  },
  {
   "cell_type": "code",
   "execution_count": 98,
   "id": "0c4fcfab-bb3f-4cb3-b0bd-768c2438e4ae",
   "metadata": {},
   "outputs": [],
   "source": [
    "# Convert to datetime\n",
    "df1[' Timestamp'] = pd.to_datetime(df1[' Timestamp'])\n",
    "\n",
    "# Replace hour mapping\n",
    "hour_mapping = {1: 13, 2: 14, 3: 15, 4: 16, 5: 17, 6: 18}\n",
    "\n",
    "# Function to replace hour\n",
    "def replace_hour(ts):\n",
    "    new_hour = hour_mapping.get(ts.hour, ts.hour)\n",
    "    return ts.replace(hour=new_hour)\n",
    "\n",
    "# Apply the function\n",
    "df1[' Timestamp'] = df1[' Timestamp'].apply(replace_hour)"
   ]
  },
  {
   "cell_type": "code",
   "execution_count": 99,
   "id": "52708d1b-3d76-4a18-a22c-4cedd7e0920c",
   "metadata": {},
   "outputs": [],
   "source": [
    "def normalize_timestamp(ddos_data):\n",
    "    ddos_data[' Timestamp'] = pd.to_datetime(ddos_data[' Timestamp'])\n",
    "    ddos_data.sort_values(by=' Timestamp', inplace=True)\n",
    "\n",
    "normalize_timestamp(df1)"
   ]
  },
  {
   "cell_type": "code",
   "execution_count": 100,
   "id": "ca92ec81-6447-4020-bac6-16d8ea6f526c",
   "metadata": {},
   "outputs": [],
   "source": [
    "# Save the updated dataset\n",
    "\n",
    "df1.to_csv('cic_ids_2017_cleaned/wednesday_data_dos.csv', index=False)"
   ]
  },
  {
   "cell_type": "markdown",
   "id": "54123813-5e75-415f-b4af-153eeb557e33",
   "metadata": {},
   "source": [
    "## Again read"
   ]
  },
  {
   "cell_type": "code",
   "execution_count": 1,
   "id": "e638c167-4127-4edd-ba54-b6d4eb59cbf6",
   "metadata": {},
   "outputs": [],
   "source": [
    "import pandas as pd\n",
    "df1 = pd.read_csv(\"cic_ids_2017_cleaned/wednesday_data_dos.csv\")"
   ]
  },
  {
   "cell_type": "code",
   "execution_count": 2,
   "id": "7e752aa5-3836-4cfa-aaf2-6e0587145ad9",
   "metadata": {},
   "outputs": [
    {
     "data": {
      "text/plain": [
       " Label\n",
       "0    435288\n",
       "1    199431\n",
       "Name: count, dtype: int64"
      ]
     },
     "execution_count": 2,
     "metadata": {},
     "output_type": "execute_result"
    }
   ],
   "source": [
    "df1[' Label'].value_counts()"
   ]
  },
  {
   "cell_type": "code",
   "execution_count": 3,
   "id": "fd75aa11-c2f6-47fd-82aa-ebfb9a01707f",
   "metadata": {},
   "outputs": [],
   "source": [
    "# Replace BENIGN with 0 and other with 1\n",
    "\n",
    "# df1.replace(to_replace=[\"DoS Hulk\", \"DoS GoldenEye\", \"DoS slowloris\", \"DoS Slowhttptest\", \"Heartbleed\"], value=1, inplace=True)\n",
    "# df1.replace(to_replace=['BENIGN'], value=0, inplace=True)"
   ]
  },
  {
   "cell_type": "code",
   "execution_count": 4,
   "id": "3b3ed823-0656-4fb2-9aba-70574bcf38df",
   "metadata": {},
   "outputs": [
    {
     "data": {
      "text/plain": [
       " Label\n",
       "0    435288\n",
       "1    199431\n",
       "Name: count, dtype: int64"
      ]
     },
     "execution_count": 4,
     "metadata": {},
     "output_type": "execute_result"
    }
   ],
   "source": [
    "df1[' Label'].value_counts()"
   ]
  },
  {
   "cell_type": "code",
   "execution_count": 5,
   "id": "ce6b16fb-541b-4523-b13d-b28eb4602ed4",
   "metadata": {},
   "outputs": [],
   "source": [
    "# Find out non binary colums\n",
    "\n",
    "non_binary_columns=df1.columns[df1.nunique()>2]"
   ]
  },
  {
   "cell_type": "code",
   "execution_count": 6,
   "id": "bb2c6c61-7ca0-43ca-85bd-589935ff8639",
   "metadata": {},
   "outputs": [
    {
     "data": {
      "text/plain": [
       "Index([' Destination Port', ' Protocol', ' Timestamp', ' Flow Duration',\n",
       "       ' Total Fwd Packets', ' Total Backward Packets',\n",
       "       'Total Length of Fwd Packets', ' Total Length of Bwd Packets',\n",
       "       ' Fwd Packet Length Max', ' Fwd Packet Length Min',\n",
       "       ' Fwd Packet Length Mean', ' Fwd Packet Length Std',\n",
       "       'Bwd Packet Length Max', ' Bwd Packet Length Min',\n",
       "       ' Bwd Packet Length Mean', ' Bwd Packet Length Std', 'Flow Bytes/s',\n",
       "       ' Flow Packets/s', ' Flow IAT Mean', ' Flow IAT Std', ' Flow IAT Max',\n",
       "       ' Flow IAT Min', 'Fwd IAT Total', ' Fwd IAT Mean', ' Fwd IAT Std',\n",
       "       ' Fwd IAT Max', ' Fwd IAT Min', 'Bwd IAT Total', ' Bwd IAT Mean',\n",
       "       ' Bwd IAT Std', ' Bwd IAT Max', ' Bwd IAT Min', ' Fwd Header Length',\n",
       "       ' Bwd Header Length', 'Fwd Packets/s', ' Bwd Packets/s',\n",
       "       ' Min Packet Length', ' Max Packet Length', ' Packet Length Mean',\n",
       "       ' Packet Length Std', ' Packet Length Variance', ' Down/Up Ratio',\n",
       "       ' Average Packet Size', ' Avg Fwd Segment Size',\n",
       "       ' Avg Bwd Segment Size', 'Subflow Fwd Packets', ' Subflow Fwd Bytes',\n",
       "       ' Subflow Bwd Packets', ' Subflow Bwd Bytes', 'Init_Win_bytes_forward',\n",
       "       ' Init_Win_bytes_backward', ' act_data_pkt_fwd',\n",
       "       ' min_seg_size_forward', 'Active Mean', ' Active Std', ' Active Max',\n",
       "       ' Active Min', 'Idle Mean', ' Idle Std', ' Idle Max', ' Idle Min'],\n",
       "      dtype='object')"
      ]
     },
     "execution_count": 6,
     "metadata": {},
     "output_type": "execute_result"
    }
   ],
   "source": [
    "non_binary_columns"
   ]
  },
  {
   "cell_type": "code",
   "execution_count": 7,
   "id": "eb25f7e1-8696-4213-a633-fa1d4af1c56e",
   "metadata": {},
   "outputs": [],
   "source": [
    "# COnvert timestamp into unix time\n",
    "\n",
    "from datetime import datetime\n",
    "\n",
    "# Function to convert timestamp string to Unix timestamp\n",
    "def convert_timestamp_to_int(timestamp):\n",
    "    dt = datetime.strptime(timestamp, '%Y-%m-%d %H:%M:%S')\n",
    "    unix_timestamp = int(dt.timestamp())\n",
    "    return unix_timestamp\n",
    "\n",
    "# Apply the function to the 'Timestamp' column\n",
    "df1[' Timestamp'] = df1[' Timestamp'].apply(convert_timestamp_to_int)"
   ]
  },
  {
   "cell_type": "code",
   "execution_count": 8,
   "id": "24e17231-89e2-486e-95e1-95763fcce02d",
   "metadata": {},
   "outputs": [
    {
     "name": "stdout",
     "output_type": "stream",
     "text": [
      "<class 'pandas.core.frame.DataFrame'>\n",
      "RangeIndex: 634719 entries, 0 to 634718\n",
      "Data columns (total 70 columns):\n",
      " #   Column                        Non-Null Count   Dtype  \n",
      "---  ------                        --------------   -----  \n",
      " 0    Destination Port             634719 non-null  int64  \n",
      " 1    Protocol                     634719 non-null  int64  \n",
      " 2    Timestamp                    634719 non-null  int64  \n",
      " 3    Flow Duration                634719 non-null  int64  \n",
      " 4    Total Fwd Packets            634719 non-null  int64  \n",
      " 5    Total Backward Packets       634719 non-null  int64  \n",
      " 6   Total Length of Fwd Packets   634719 non-null  int64  \n",
      " 7    Total Length of Bwd Packets  634719 non-null  float64\n",
      " 8    Fwd Packet Length Max        634719 non-null  int64  \n",
      " 9    Fwd Packet Length Min        634719 non-null  int64  \n",
      " 10   Fwd Packet Length Mean       634719 non-null  float64\n",
      " 11   Fwd Packet Length Std        634719 non-null  float64\n",
      " 12  Bwd Packet Length Max         634719 non-null  int64  \n",
      " 13   Bwd Packet Length Min        634719 non-null  int64  \n",
      " 14   Bwd Packet Length Mean       634719 non-null  float64\n",
      " 15   Bwd Packet Length Std        634719 non-null  float64\n",
      " 16  Flow Bytes/s                  634719 non-null  float64\n",
      " 17   Flow Packets/s               634719 non-null  float64\n",
      " 18   Flow IAT Mean                634719 non-null  float64\n",
      " 19   Flow IAT Std                 634719 non-null  float64\n",
      " 20   Flow IAT Max                 634719 non-null  float64\n",
      " 21   Flow IAT Min                 634719 non-null  float64\n",
      " 22  Fwd IAT Total                 634719 non-null  float64\n",
      " 23   Fwd IAT Mean                 634719 non-null  float64\n",
      " 24   Fwd IAT Std                  634719 non-null  float64\n",
      " 25   Fwd IAT Max                  634719 non-null  float64\n",
      " 26   Fwd IAT Min                  634719 non-null  float64\n",
      " 27  Bwd IAT Total                 634719 non-null  float64\n",
      " 28   Bwd IAT Mean                 634719 non-null  float64\n",
      " 29   Bwd IAT Std                  634719 non-null  float64\n",
      " 30   Bwd IAT Max                  634719 non-null  float64\n",
      " 31   Bwd IAT Min                  634719 non-null  float64\n",
      " 32  Fwd PSH Flags                 634719 non-null  int64  \n",
      " 33   Fwd Header Length            634719 non-null  int64  \n",
      " 34   Bwd Header Length            634719 non-null  int64  \n",
      " 35  Fwd Packets/s                 634719 non-null  float64\n",
      " 36   Bwd Packets/s                634719 non-null  float64\n",
      " 37   Min Packet Length            634719 non-null  int64  \n",
      " 38   Max Packet Length            634719 non-null  int64  \n",
      " 39   Packet Length Mean           634719 non-null  float64\n",
      " 40   Packet Length Std            634719 non-null  float64\n",
      " 41   Packet Length Variance       634719 non-null  float64\n",
      " 42  FIN Flag Count                634719 non-null  int64  \n",
      " 43   SYN Flag Count               634719 non-null  int64  \n",
      " 44   RST Flag Count               634719 non-null  int64  \n",
      " 45   PSH Flag Count               634719 non-null  int64  \n",
      " 46   ACK Flag Count               634719 non-null  int64  \n",
      " 47   URG Flag Count               634719 non-null  int64  \n",
      " 48   ECE Flag Count               634719 non-null  int64  \n",
      " 49   Down/Up Ratio                634719 non-null  int64  \n",
      " 50   Average Packet Size          634719 non-null  float64\n",
      " 51   Avg Fwd Segment Size         634719 non-null  float64\n",
      " 52   Avg Bwd Segment Size         634719 non-null  float64\n",
      " 53  Subflow Fwd Packets           634719 non-null  int64  \n",
      " 54   Subflow Fwd Bytes            634719 non-null  int64  \n",
      " 55   Subflow Bwd Packets          634719 non-null  int64  \n",
      " 56   Subflow Bwd Bytes            634719 non-null  int64  \n",
      " 57  Init_Win_bytes_forward        634719 non-null  int64  \n",
      " 58   Init_Win_bytes_backward      634719 non-null  int64  \n",
      " 59   act_data_pkt_fwd             634719 non-null  int64  \n",
      " 60   min_seg_size_forward         634719 non-null  int64  \n",
      " 61  Active Mean                   634719 non-null  float64\n",
      " 62   Active Std                   634719 non-null  float64\n",
      " 63   Active Max                   634719 non-null  float64\n",
      " 64   Active Min                   634719 non-null  float64\n",
      " 65  Idle Mean                     634719 non-null  float64\n",
      " 66   Idle Std                     634719 non-null  float64\n",
      " 67   Idle Max                     634719 non-null  float64\n",
      " 68   Idle Min                     634719 non-null  float64\n",
      " 69   Label                        634719 non-null  int64  \n",
      "dtypes: float64(37), int64(33)\n",
      "memory usage: 339.0 MB\n"
     ]
    }
   ],
   "source": [
    "df1.info()"
   ]
  },
  {
   "cell_type": "code",
   "execution_count": 9,
   "id": "fa0f0bb3-2d2f-48da-9a1c-440a4142aa20",
   "metadata": {},
   "outputs": [
    {
     "data": {
      "text/plain": [
       "(634719, 70)"
      ]
     },
     "execution_count": 9,
     "metadata": {},
     "output_type": "execute_result"
    }
   ],
   "source": [
    "df1.shape"
   ]
  },
  {
   "cell_type": "code",
   "execution_count": 10,
   "id": "318f7efe-6c9d-4b72-80c3-a68e37fcfa28",
   "metadata": {},
   "outputs": [],
   "source": [
    "# Remove timestamp\n",
    "# df1.drop(columns=[' Timestamp'], inplace=True)"
   ]
  },
  {
   "cell_type": "code",
   "execution_count": 11,
   "id": "c95df682-256b-4db1-baee-e9a09bb0d5cd",
   "metadata": {},
   "outputs": [
    {
     "data": {
      "text/plain": [
       "(634719, 70)"
      ]
     },
     "execution_count": 11,
     "metadata": {},
     "output_type": "execute_result"
    }
   ],
   "source": [
    "df1.shape"
   ]
  },
  {
   "cell_type": "markdown",
   "id": "876ff826-423d-45e4-8109-dc68b621e590",
   "metadata": {},
   "source": [
    "## Seperate data for Train, Validation and Testing"
   ]
  },
  {
   "cell_type": "code",
   "execution_count": 12,
   "id": "4a722a90-0065-46dc-ad8c-26e081517d94",
   "metadata": {},
   "outputs": [],
   "source": [
    "sample = df1[:300000]"
   ]
  },
  {
   "cell_type": "code",
   "execution_count": 13,
   "id": "aa061ed1-61dd-48e9-8b4f-68750605a184",
   "metadata": {},
   "outputs": [
    {
     "data": {
      "text/plain": [
       " Label\n",
       "1    166374\n",
       "0    133626\n",
       "Name: count, dtype: int64"
      ]
     },
     "execution_count": 13,
     "metadata": {},
     "output_type": "execute_result"
    }
   ],
   "source": [
    "sample[' Label'].value_counts()"
   ]
  },
  {
   "cell_type": "code",
   "execution_count": 14,
   "id": "87c1b2ad-a9cd-4755-98a3-489bc00823aa",
   "metadata": {},
   "outputs": [],
   "source": [
    "non_binary_columns=sample.columns[sample.nunique()>2]"
   ]
  },
  {
   "cell_type": "code",
   "execution_count": 15,
   "id": "cfa357b4-624a-4b83-a666-1aaa8137ba99",
   "metadata": {},
   "outputs": [],
   "source": [
    "test_split_index = int(0.8 * len(sample))\n",
    "train_val_data = sample[:test_split_index]\n",
    "test_data = sample[test_split_index:]"
   ]
  },
  {
   "cell_type": "code",
   "execution_count": 16,
   "id": "17b8050e-e31d-4d74-b029-52d1d2a63fac",
   "metadata": {},
   "outputs": [],
   "source": [
    "X_train_val = train_val_data.drop(\" Label\", axis=1)\n",
    "y_train_val = train_val_data[\" Label\"]"
   ]
  },
  {
   "cell_type": "code",
   "execution_count": 17,
   "id": "24afed66-9f3c-42e0-895d-8c7a578418bb",
   "metadata": {},
   "outputs": [],
   "source": [
    "X_test = test_data.drop(\" Label\", axis=1)\n",
    "y_test = test_data[\" Label\"]"
   ]
  },
  {
   "cell_type": "code",
   "execution_count": 18,
   "id": "18ea3664-9f6b-4d43-a9b0-26580b81e77e",
   "metadata": {},
   "outputs": [
    {
     "data": {
      "text/plain": [
       "Index([' Destination Port', ' Protocol', ' Timestamp', ' Flow Duration',\n",
       "       ' Total Fwd Packets', ' Total Backward Packets',\n",
       "       'Total Length of Fwd Packets', ' Total Length of Bwd Packets',\n",
       "       ' Fwd Packet Length Max', ' Fwd Packet Length Min',\n",
       "       ' Fwd Packet Length Mean', ' Fwd Packet Length Std',\n",
       "       'Bwd Packet Length Max', ' Bwd Packet Length Min',\n",
       "       ' Bwd Packet Length Mean', ' Bwd Packet Length Std', 'Flow Bytes/s',\n",
       "       ' Flow Packets/s', ' Flow IAT Mean', ' Flow IAT Std', ' Flow IAT Max',\n",
       "       ' Flow IAT Min', 'Fwd IAT Total', ' Fwd IAT Mean', ' Fwd IAT Std',\n",
       "       ' Fwd IAT Max', ' Fwd IAT Min', 'Bwd IAT Total', ' Bwd IAT Mean',\n",
       "       ' Bwd IAT Std', ' Bwd IAT Max', ' Bwd IAT Min', ' Fwd Header Length',\n",
       "       ' Bwd Header Length', 'Fwd Packets/s', ' Bwd Packets/s',\n",
       "       ' Min Packet Length', ' Max Packet Length', ' Packet Length Mean',\n",
       "       ' Packet Length Std', ' Packet Length Variance', ' Down/Up Ratio',\n",
       "       ' Average Packet Size', ' Avg Fwd Segment Size',\n",
       "       ' Avg Bwd Segment Size', 'Subflow Fwd Packets', ' Subflow Fwd Bytes',\n",
       "       ' Subflow Bwd Packets', ' Subflow Bwd Bytes', 'Init_Win_bytes_forward',\n",
       "       ' Init_Win_bytes_backward', ' act_data_pkt_fwd',\n",
       "       ' min_seg_size_forward', 'Active Mean', ' Active Std', ' Active Max',\n",
       "       ' Active Min', 'Idle Mean', ' Idle Std', ' Idle Max', ' Idle Min'],\n",
       "      dtype='object')"
      ]
     },
     "execution_count": 18,
     "metadata": {},
     "output_type": "execute_result"
    }
   ],
   "source": [
    "non_binary_columns"
   ]
  },
  {
   "cell_type": "code",
   "execution_count": 19,
   "id": "f697941f-c0ba-4227-8109-9767f71e512c",
   "metadata": {},
   "outputs": [],
   "source": [
    "# # scaling\n",
    "import pickle\n",
    "from sklearn.preprocessing import MinMaxScaler\n",
    "from sklearn.preprocessing import StandardScaler\n",
    "\n",
    "\n",
    "scaler = MinMaxScaler()\n",
    "# scaler = StandardScaler()\n",
    "\n",
    "# Scale only non-binary columns\n",
    "# X_train_val_scaled = X_train_val.copy()\n",
    "X_train_val[non_binary_columns] = scaler.fit_transform(X_train_val[non_binary_columns])\n",
    "\n",
    "# X_val_scaled = X_val.copy()\n",
    "# X_val_scaled[non_binary_columns] = scaler.transform(X_val[non_binary_columns])\n",
    "\n",
    "# X_test_scaled = X_test.copy()\n",
    "X_test[non_binary_columns] = scaler.transform(X_test[non_binary_columns])\n",
    "\n",
    "# Save the scaler using pickle\n",
    "with open('minmax_scaler_v2.pkl', 'wb') as f:\n",
    "    pickle.dump(scaler, f)"
   ]
  },
  {
   "cell_type": "code",
   "execution_count": 33,
   "id": "ab9ddedf-f366-4e8a-9572-87284f5a209e",
   "metadata": {},
   "outputs": [
    {
     "data": {
      "text/html": [
       "<div>\n",
       "<style scoped>\n",
       "    .dataframe tbody tr th:only-of-type {\n",
       "        vertical-align: middle;\n",
       "    }\n",
       "\n",
       "    .dataframe tbody tr th {\n",
       "        vertical-align: top;\n",
       "    }\n",
       "\n",
       "    .dataframe thead th {\n",
       "        text-align: right;\n",
       "    }\n",
       "</style>\n",
       "<table border=\"1\" class=\"dataframe\">\n",
       "  <thead>\n",
       "    <tr style=\"text-align: right;\">\n",
       "      <th></th>\n",
       "      <th>Destination Port</th>\n",
       "      <th>Protocol</th>\n",
       "      <th>Timestamp</th>\n",
       "      <th>Flow Duration</th>\n",
       "      <th>Total Fwd Packets</th>\n",
       "      <th>Total Backward Packets</th>\n",
       "      <th>Total Length of Fwd Packets</th>\n",
       "      <th>Total Length of Bwd Packets</th>\n",
       "      <th>Fwd Packet Length Max</th>\n",
       "      <th>Fwd Packet Length Min</th>\n",
       "      <th>...</th>\n",
       "      <th>act_data_pkt_fwd</th>\n",
       "      <th>min_seg_size_forward</th>\n",
       "      <th>Active Mean</th>\n",
       "      <th>Active Std</th>\n",
       "      <th>Active Max</th>\n",
       "      <th>Active Min</th>\n",
       "      <th>Idle Mean</th>\n",
       "      <th>Idle Std</th>\n",
       "      <th>Idle Max</th>\n",
       "      <th>Idle Min</th>\n",
       "    </tr>\n",
       "  </thead>\n",
       "  <tbody>\n",
       "    <tr>\n",
       "      <th>0</th>\n",
       "      <td>0.001222</td>\n",
       "      <td>0.352941</td>\n",
       "      <td>0.0</td>\n",
       "      <td>0.000319</td>\n",
       "      <td>0.000000</td>\n",
       "      <td>0.000004</td>\n",
       "      <td>0.000005</td>\n",
       "      <td>9.569378e-09</td>\n",
       "      <td>0.000242</td>\n",
       "      <td>0.003026</td>\n",
       "      <td>...</td>\n",
       "      <td>0.000000</td>\n",
       "      <td>0.344262</td>\n",
       "      <td>0.000000e+00</td>\n",
       "      <td>0.000000</td>\n",
       "      <td>0.000000e+00</td>\n",
       "      <td>0.000000e+00</td>\n",
       "      <td>0.000000</td>\n",
       "      <td>0.000000</td>\n",
       "      <td>0.000000</td>\n",
       "      <td>0.0000</td>\n",
       "    </tr>\n",
       "    <tr>\n",
       "      <th>1</th>\n",
       "      <td>0.000809</td>\n",
       "      <td>1.000000</td>\n",
       "      <td>0.0</td>\n",
       "      <td>0.000001</td>\n",
       "      <td>0.000005</td>\n",
       "      <td>0.000007</td>\n",
       "      <td>0.000072</td>\n",
       "      <td>2.998405e-07</td>\n",
       "      <td>0.001773</td>\n",
       "      <td>0.022189</td>\n",
       "      <td>...</td>\n",
       "      <td>0.000005</td>\n",
       "      <td>0.540984</td>\n",
       "      <td>0.000000e+00</td>\n",
       "      <td>0.000000</td>\n",
       "      <td>0.000000e+00</td>\n",
       "      <td>0.000000e+00</td>\n",
       "      <td>0.000000</td>\n",
       "      <td>0.000000</td>\n",
       "      <td>0.000000</td>\n",
       "      <td>0.0000</td>\n",
       "    </tr>\n",
       "    <tr>\n",
       "      <th>2</th>\n",
       "      <td>0.000809</td>\n",
       "      <td>1.000000</td>\n",
       "      <td>0.0</td>\n",
       "      <td>0.000002</td>\n",
       "      <td>0.000005</td>\n",
       "      <td>0.000007</td>\n",
       "      <td>0.000052</td>\n",
       "      <td>2.519936e-07</td>\n",
       "      <td>0.001289</td>\n",
       "      <td>0.016137</td>\n",
       "      <td>...</td>\n",
       "      <td>0.000005</td>\n",
       "      <td>0.540984</td>\n",
       "      <td>0.000000e+00</td>\n",
       "      <td>0.000000</td>\n",
       "      <td>0.000000e+00</td>\n",
       "      <td>0.000000e+00</td>\n",
       "      <td>0.000000</td>\n",
       "      <td>0.000000</td>\n",
       "      <td>0.000000</td>\n",
       "      <td>0.0000</td>\n",
       "    </tr>\n",
       "    <tr>\n",
       "      <th>3</th>\n",
       "      <td>0.001878</td>\n",
       "      <td>1.000000</td>\n",
       "      <td>0.0</td>\n",
       "      <td>0.700238</td>\n",
       "      <td>0.000034</td>\n",
       "      <td>0.000029</td>\n",
       "      <td>0.000314</td>\n",
       "      <td>6.124402e-07</td>\n",
       "      <td>0.001934</td>\n",
       "      <td>0.024206</td>\n",
       "      <td>...</td>\n",
       "      <td>0.000036</td>\n",
       "      <td>0.344262</td>\n",
       "      <td>7.395486e-02</td>\n",
       "      <td>0.101014</td>\n",
       "      <td>1.010101e-01</td>\n",
       "      <td>4.261765e-04</td>\n",
       "      <td>0.308333</td>\n",
       "      <td>0.375174</td>\n",
       "      <td>0.466667</td>\n",
       "      <td>0.1500</td>\n",
       "    </tr>\n",
       "    <tr>\n",
       "      <th>4</th>\n",
       "      <td>0.001878</td>\n",
       "      <td>1.000000</td>\n",
       "      <td>0.0</td>\n",
       "      <td>0.725135</td>\n",
       "      <td>0.000039</td>\n",
       "      <td>0.000033</td>\n",
       "      <td>0.000353</td>\n",
       "      <td>6.889952e-07</td>\n",
       "      <td>0.001934</td>\n",
       "      <td>0.024206</td>\n",
       "      <td>...</td>\n",
       "      <td>0.000041</td>\n",
       "      <td>0.344262</td>\n",
       "      <td>8.847225e-02</td>\n",
       "      <td>0.080815</td>\n",
       "      <td>1.010101e-01</td>\n",
       "      <td>2.964654e-02</td>\n",
       "      <td>0.312500</td>\n",
       "      <td>0.384937</td>\n",
       "      <td>0.475000</td>\n",
       "      <td>0.1500</td>\n",
       "    </tr>\n",
       "    <tr>\n",
       "      <th>...</th>\n",
       "      <td>...</td>\n",
       "      <td>...</td>\n",
       "      <td>...</td>\n",
       "      <td>...</td>\n",
       "      <td>...</td>\n",
       "      <td>...</td>\n",
       "      <td>...</td>\n",
       "      <td>...</td>\n",
       "      <td>...</td>\n",
       "      <td>...</td>\n",
       "      <td>...</td>\n",
       "      <td>...</td>\n",
       "      <td>...</td>\n",
       "      <td>...</td>\n",
       "      <td>...</td>\n",
       "      <td>...</td>\n",
       "      <td>...</td>\n",
       "      <td>...</td>\n",
       "      <td>...</td>\n",
       "      <td>...</td>\n",
       "      <td>...</td>\n",
       "    </tr>\n",
       "    <tr>\n",
       "      <th>239995</th>\n",
       "      <td>0.001222</td>\n",
       "      <td>0.352941</td>\n",
       "      <td>1.0</td>\n",
       "      <td>0.708585</td>\n",
       "      <td>0.000034</td>\n",
       "      <td>0.000018</td>\n",
       "      <td>0.000258</td>\n",
       "      <td>1.849282e-05</td>\n",
       "      <td>0.012490</td>\n",
       "      <td>0.000000</td>\n",
       "      <td>...</td>\n",
       "      <td>0.000010</td>\n",
       "      <td>0.344262</td>\n",
       "      <td>1.469118e-05</td>\n",
       "      <td>0.000000</td>\n",
       "      <td>1.009091e-05</td>\n",
       "      <td>1.469118e-05</td>\n",
       "      <td>0.707500</td>\n",
       "      <td>0.000000</td>\n",
       "      <td>0.707500</td>\n",
       "      <td>0.7075</td>\n",
       "    </tr>\n",
       "    <tr>\n",
       "      <th>239996</th>\n",
       "      <td>0.001222</td>\n",
       "      <td>0.352941</td>\n",
       "      <td>1.0</td>\n",
       "      <td>0.708617</td>\n",
       "      <td>0.000020</td>\n",
       "      <td>0.000022</td>\n",
       "      <td>0.000306</td>\n",
       "      <td>1.849282e-05</td>\n",
       "      <td>0.014625</td>\n",
       "      <td>0.000000</td>\n",
       "      <td>...</td>\n",
       "      <td>0.000010</td>\n",
       "      <td>0.344262</td>\n",
       "      <td>1.765147e-04</td>\n",
       "      <td>0.000000</td>\n",
       "      <td>1.212424e-04</td>\n",
       "      <td>1.765147e-04</td>\n",
       "      <td>0.707500</td>\n",
       "      <td>0.000000</td>\n",
       "      <td>0.707500</td>\n",
       "      <td>0.7075</td>\n",
       "    </tr>\n",
       "    <tr>\n",
       "      <th>239997</th>\n",
       "      <td>0.001222</td>\n",
       "      <td>0.352941</td>\n",
       "      <td>1.0</td>\n",
       "      <td>0.708619</td>\n",
       "      <td>0.000029</td>\n",
       "      <td>0.000022</td>\n",
       "      <td>0.000262</td>\n",
       "      <td>1.849282e-05</td>\n",
       "      <td>0.012933</td>\n",
       "      <td>0.000000</td>\n",
       "      <td>...</td>\n",
       "      <td>0.000005</td>\n",
       "      <td>0.540984</td>\n",
       "      <td>7.352941e-08</td>\n",
       "      <td>0.000000</td>\n",
       "      <td>5.050505e-08</td>\n",
       "      <td>7.352941e-08</td>\n",
       "      <td>0.707500</td>\n",
       "      <td>0.000000</td>\n",
       "      <td>0.707500</td>\n",
       "      <td>0.7075</td>\n",
       "    </tr>\n",
       "    <tr>\n",
       "      <th>239998</th>\n",
       "      <td>0.001222</td>\n",
       "      <td>0.352941</td>\n",
       "      <td>1.0</td>\n",
       "      <td>0.708586</td>\n",
       "      <td>0.000025</td>\n",
       "      <td>0.000026</td>\n",
       "      <td>0.000355</td>\n",
       "      <td>1.849282e-05</td>\n",
       "      <td>0.016801</td>\n",
       "      <td>0.000000</td>\n",
       "      <td>...</td>\n",
       "      <td>0.000015</td>\n",
       "      <td>0.344262</td>\n",
       "      <td>1.615294e-04</td>\n",
       "      <td>0.000000</td>\n",
       "      <td>1.109495e-04</td>\n",
       "      <td>1.615294e-04</td>\n",
       "      <td>0.707500</td>\n",
       "      <td>0.000000</td>\n",
       "      <td>0.707500</td>\n",
       "      <td>0.7075</td>\n",
       "    </tr>\n",
       "    <tr>\n",
       "      <th>239999</th>\n",
       "      <td>0.001222</td>\n",
       "      <td>0.352941</td>\n",
       "      <td>1.0</td>\n",
       "      <td>0.708594</td>\n",
       "      <td>0.000039</td>\n",
       "      <td>0.000018</td>\n",
       "      <td>0.000306</td>\n",
       "      <td>1.849282e-05</td>\n",
       "      <td>0.015109</td>\n",
       "      <td>0.000000</td>\n",
       "      <td>...</td>\n",
       "      <td>0.000005</td>\n",
       "      <td>0.540984</td>\n",
       "      <td>1.463235e-05</td>\n",
       "      <td>0.000000</td>\n",
       "      <td>1.005051e-05</td>\n",
       "      <td>1.463235e-05</td>\n",
       "      <td>0.707500</td>\n",
       "      <td>0.000000</td>\n",
       "      <td>0.707500</td>\n",
       "      <td>0.7075</td>\n",
       "    </tr>\n",
       "  </tbody>\n",
       "</table>\n",
       "<p>240000 rows × 69 columns</p>\n",
       "</div>"
      ],
      "text/plain": [
       "         Destination Port   Protocol   Timestamp   Flow Duration  \\\n",
       "0                0.001222   0.352941         0.0        0.000319   \n",
       "1                0.000809   1.000000         0.0        0.000001   \n",
       "2                0.000809   1.000000         0.0        0.000002   \n",
       "3                0.001878   1.000000         0.0        0.700238   \n",
       "4                0.001878   1.000000         0.0        0.725135   \n",
       "...                   ...        ...         ...             ...   \n",
       "239995           0.001222   0.352941         1.0        0.708585   \n",
       "239996           0.001222   0.352941         1.0        0.708617   \n",
       "239997           0.001222   0.352941         1.0        0.708619   \n",
       "239998           0.001222   0.352941         1.0        0.708586   \n",
       "239999           0.001222   0.352941         1.0        0.708594   \n",
       "\n",
       "         Total Fwd Packets   Total Backward Packets  \\\n",
       "0                 0.000000                 0.000004   \n",
       "1                 0.000005                 0.000007   \n",
       "2                 0.000005                 0.000007   \n",
       "3                 0.000034                 0.000029   \n",
       "4                 0.000039                 0.000033   \n",
       "...                    ...                      ...   \n",
       "239995            0.000034                 0.000018   \n",
       "239996            0.000020                 0.000022   \n",
       "239997            0.000029                 0.000022   \n",
       "239998            0.000025                 0.000026   \n",
       "239999            0.000039                 0.000018   \n",
       "\n",
       "        Total Length of Fwd Packets   Total Length of Bwd Packets  \\\n",
       "0                          0.000005                  9.569378e-09   \n",
       "1                          0.000072                  2.998405e-07   \n",
       "2                          0.000052                  2.519936e-07   \n",
       "3                          0.000314                  6.124402e-07   \n",
       "4                          0.000353                  6.889952e-07   \n",
       "...                             ...                           ...   \n",
       "239995                     0.000258                  1.849282e-05   \n",
       "239996                     0.000306                  1.849282e-05   \n",
       "239997                     0.000262                  1.849282e-05   \n",
       "239998                     0.000355                  1.849282e-05   \n",
       "239999                     0.000306                  1.849282e-05   \n",
       "\n",
       "         Fwd Packet Length Max   Fwd Packet Length Min  ...  \\\n",
       "0                     0.000242                0.003026  ...   \n",
       "1                     0.001773                0.022189  ...   \n",
       "2                     0.001289                0.016137  ...   \n",
       "3                     0.001934                0.024206  ...   \n",
       "4                     0.001934                0.024206  ...   \n",
       "...                        ...                     ...  ...   \n",
       "239995                0.012490                0.000000  ...   \n",
       "239996                0.014625                0.000000  ...   \n",
       "239997                0.012933                0.000000  ...   \n",
       "239998                0.016801                0.000000  ...   \n",
       "239999                0.015109                0.000000  ...   \n",
       "\n",
       "         act_data_pkt_fwd   min_seg_size_forward   Active Mean   Active Std  \\\n",
       "0                0.000000               0.344262  0.000000e+00     0.000000   \n",
       "1                0.000005               0.540984  0.000000e+00     0.000000   \n",
       "2                0.000005               0.540984  0.000000e+00     0.000000   \n",
       "3                0.000036               0.344262  7.395486e-02     0.101014   \n",
       "4                0.000041               0.344262  8.847225e-02     0.080815   \n",
       "...                   ...                    ...           ...          ...   \n",
       "239995           0.000010               0.344262  1.469118e-05     0.000000   \n",
       "239996           0.000010               0.344262  1.765147e-04     0.000000   \n",
       "239997           0.000005               0.540984  7.352941e-08     0.000000   \n",
       "239998           0.000015               0.344262  1.615294e-04     0.000000   \n",
       "239999           0.000005               0.540984  1.463235e-05     0.000000   \n",
       "\n",
       "          Active Max    Active Min  Idle Mean   Idle Std   Idle Max   Idle Min  \n",
       "0       0.000000e+00  0.000000e+00   0.000000   0.000000   0.000000     0.0000  \n",
       "1       0.000000e+00  0.000000e+00   0.000000   0.000000   0.000000     0.0000  \n",
       "2       0.000000e+00  0.000000e+00   0.000000   0.000000   0.000000     0.0000  \n",
       "3       1.010101e-01  4.261765e-04   0.308333   0.375174   0.466667     0.1500  \n",
       "4       1.010101e-01  2.964654e-02   0.312500   0.384937   0.475000     0.1500  \n",
       "...              ...           ...        ...        ...        ...        ...  \n",
       "239995  1.009091e-05  1.469118e-05   0.707500   0.000000   0.707500     0.7075  \n",
       "239996  1.212424e-04  1.765147e-04   0.707500   0.000000   0.707500     0.7075  \n",
       "239997  5.050505e-08  7.352941e-08   0.707500   0.000000   0.707500     0.7075  \n",
       "239998  1.109495e-04  1.615294e-04   0.707500   0.000000   0.707500     0.7075  \n",
       "239999  1.005051e-05  1.463235e-05   0.707500   0.000000   0.707500     0.7075  \n",
       "\n",
       "[240000 rows x 69 columns]"
      ]
     },
     "execution_count": 33,
     "metadata": {},
     "output_type": "execute_result"
    }
   ],
   "source": [
    "X_train_val"
   ]
  },
  {
   "cell_type": "code",
   "execution_count": 34,
   "id": "4417d547-108e-4b23-bec3-d3787cf85aed",
   "metadata": {},
   "outputs": [],
   "source": [
    "X_train_val = X_train_val.values\n",
    "y_train_val = y_train_val.values"
   ]
  },
  {
   "cell_type": "code",
   "execution_count": 36,
   "id": "3e977150-d5ce-4d91-a3cc-ceb09b29c870",
   "metadata": {},
   "outputs": [],
   "source": [
    "import numpy as np\n",
    "\n",
    "def create_sequences(data, sequence_length):\n",
    "    sequences = []\n",
    "    for i in range(len(data) - sequence_length + 1):\n",
    "        sequences.append(data[i:i+sequence_length])\n",
    "    return np.array(sequences)\n",
    "\n",
    "sequence_length = 10  # Number of time steps per sequence\n",
    "X_train_val_sequences = create_sequences(X_train_val, sequence_length)\n",
    "y_train_val_sequences = y_train_val[sequence_length - 1:]\n"
   ]
  },
  {
   "cell_type": "code",
   "execution_count": 37,
   "id": "9c96e43a-f220-487e-a57f-7ca448f16e03",
   "metadata": {},
   "outputs": [],
   "source": [
    "val_split_index = int(0.8 * len(X_train_val_sequences))\n",
    "X_train = X_train_val_sequences[:val_split_index]\n",
    "y_train = y_train_val_sequences[:val_split_index]\n",
    "X_val = X_train_val_sequences[val_split_index:]\n",
    "y_val = y_train_val_sequences[val_split_index:]"
   ]
  },
  {
   "cell_type": "code",
   "execution_count": 38,
   "id": "8360acf3-b5db-48f6-b035-ce5d64c4b1ef",
   "metadata": {},
   "outputs": [
    {
     "data": {
      "text/plain": [
       "(191992, 10, 69)"
      ]
     },
     "execution_count": 38,
     "metadata": {},
     "output_type": "execute_result"
    }
   ],
   "source": [
    "X_train.shape"
   ]
  },
  {
   "cell_type": "code",
   "execution_count": 39,
   "id": "a72350be-82d0-4301-906b-9e4e7339455a",
   "metadata": {},
   "outputs": [],
   "source": [
    "X_train = X_train.reshape((X_train.shape[0], sequence_length, X_train.shape[2]))\n",
    "X_val = X_val.reshape((X_val.shape[0], sequence_length, X_val.shape[2]))\n"
   ]
  },
  {
   "cell_type": "code",
   "execution_count": 40,
   "id": "ffe5a3b5-9678-4bbe-b4ea-e08421cdabee",
   "metadata": {},
   "outputs": [
    {
     "data": {
      "text/plain": [
       "(191992, 10, 69)"
      ]
     },
     "execution_count": 40,
     "metadata": {},
     "output_type": "execute_result"
    }
   ],
   "source": [
    "X_train.shape"
   ]
  },
  {
   "cell_type": "code",
   "execution_count": 41,
   "id": "ac9d9368-b44f-4c4d-ba7d-66eb3b2af503",
   "metadata": {},
   "outputs": [
    {
     "data": {
      "text/plain": [
       "(47999, 10, 69)"
      ]
     },
     "execution_count": 41,
     "metadata": {},
     "output_type": "execute_result"
    }
   ],
   "source": [
    "X_val.shape"
   ]
  },
  {
   "cell_type": "markdown",
   "id": "598305a4-bf3f-4488-94d1-022238cbb879",
   "metadata": {},
   "source": [
    "## Train the model, with validation"
   ]
  },
  {
   "cell_type": "code",
   "execution_count": 42,
   "id": "718b9c04-5707-47c1-91ac-52ea4087e0bf",
   "metadata": {},
   "outputs": [
    {
     "name": "stderr",
     "output_type": "stream",
     "text": [
      "2024-07-12 09:08:00.584611: I external/local_tsl/tsl/cuda/cudart_stub.cc:32] Could not find cuda drivers on your machine, GPU will not be used.\n",
      "2024-07-12 09:08:00.852145: I external/local_tsl/tsl/cuda/cudart_stub.cc:32] Could not find cuda drivers on your machine, GPU will not be used.\n",
      "2024-07-12 09:08:01.895168: I tensorflow/core/platform/cpu_feature_guard.cc:210] This TensorFlow binary is optimized to use available CPU instructions in performance-critical operations.\n",
      "To enable the following instructions: AVX2 FMA, in other operations, rebuild TensorFlow with the appropriate compiler flags.\n",
      "2024-07-12 09:08:05.052635: W tensorflow/compiler/tf2tensorrt/utils/py_utils.cc:38] TF-TRT Warning: Could not find TensorRT\n"
     ]
    }
   ],
   "source": [
    "# LSTM Model\n",
    "\n",
    "from tensorflow.keras.models import Sequential\n",
    "from tensorflow.keras.layers import LSTM, Dense, Dropout\n",
    "\n",
    "def LSTM_model(input_size, time_steps):\n",
    "    # Initialize the constructor\n",
    "    model = Sequential()\n",
    "    \n",
    "    # Add layers to the model\n",
    "    model.add(LSTM(64, input_shape=(time_steps, input_size), return_sequences=False))\n",
    "    model.add(Dropout(0.5))\n",
    "    model.add(Dense(16, activation='relu'))\n",
    "    model.add(Dense(1, activation='sigmoid'))\n",
    "    \n",
    "    # Compile the model\n",
    "    model.compile(optimizer='adam', loss='binary_crossentropy', metrics=['accuracy'])\n",
    "    \n",
    "    return model"
   ]
  },
  {
   "cell_type": "code",
   "execution_count": 43,
   "id": "662cdd76-6fd3-49a6-a045-3e8ac7ab8d09",
   "metadata": {},
   "outputs": [
    {
     "name": "stderr",
     "output_type": "stream",
     "text": [
      "/home/bishal/.local/lib/python3.12/site-packages/keras/src/layers/rnn/rnn.py:204: UserWarning: Do not pass an `input_shape`/`input_dim` argument to a layer. When using Sequential models, prefer using an `Input(shape)` object as the first layer in the model instead.\n",
      "  super().__init__(**kwargs)\n"
     ]
    }
   ],
   "source": [
    "time_steps = sequence_length  \n",
    "input_size = X_train.shape[2] \n",
    "\n",
    "model_lstm = LSTM_model(input_size, time_steps)"
   ]
  },
  {
   "cell_type": "code",
   "execution_count": 44,
   "id": "2586ee1d-35cc-4af2-9882-537ca69c5397",
   "metadata": {},
   "outputs": [
    {
     "name": "stdout",
     "output_type": "stream",
     "text": [
      "Epoch 1/20\n"
     ]
    },
    {
     "name": "stderr",
     "output_type": "stream",
     "text": [
      "2024-07-12 09:08:27.858358: W external/local_tsl/tsl/framework/cpu_allocator_impl.cc:83] Allocation of 529897920 exceeds 10% of free system memory.\n"
     ]
    },
    {
     "name": "stdout",
     "output_type": "stream",
     "text": [
      "\u001b[1m2999/3000\u001b[0m \u001b[32m━━━━━━━━━━━━━━━━━━━\u001b[0m\u001b[37m━\u001b[0m \u001b[1m0s\u001b[0m 16ms/step - accuracy: 0.9640 - loss: 0.1156"
     ]
    },
    {
     "name": "stderr",
     "output_type": "stream",
     "text": [
      "2024-07-12 09:09:23.285466: W external/local_tsl/tsl/framework/cpu_allocator_impl.cc:83] Allocation of 132477240 exceeds 10% of free system memory.\n"
     ]
    },
    {
     "name": "stdout",
     "output_type": "stream",
     "text": [
      "\u001b[1m3000/3000\u001b[0m \u001b[32m━━━━━━━━━━━━━━━━━━━━\u001b[0m\u001b[37m\u001b[0m \u001b[1m61s\u001b[0m 18ms/step - accuracy: 0.9640 - loss: 0.1157 - val_accuracy: 0.9907 - val_loss: 0.0342\n",
      "Epoch 2/20\n",
      "\u001b[1m3000/3000\u001b[0m \u001b[32m━━━━━━━━━━━━━━━━━━━━\u001b[0m\u001b[37m\u001b[0m \u001b[1m55s\u001b[0m 18ms/step - accuracy: 0.9841 - loss: 0.0525 - val_accuracy: 0.9959 - val_loss: 0.0133\n",
      "Epoch 3/20\n",
      "\u001b[1m3000/3000\u001b[0m \u001b[32m━━━━━━━━━━━━━━━━━━━━\u001b[0m\u001b[37m\u001b[0m \u001b[1m56s\u001b[0m 19ms/step - accuracy: 0.9905 - loss: 0.0293 - val_accuracy: 0.9968 - val_loss: 0.0109\n",
      "Epoch 4/20\n",
      "\u001b[1m3000/3000\u001b[0m \u001b[32m━━━━━━━━━━━━━━━━━━━━\u001b[0m\u001b[37m\u001b[0m \u001b[1m56s\u001b[0m 19ms/step - accuracy: 0.9924 - loss: 0.0224 - val_accuracy: 0.9974 - val_loss: 0.0091\n",
      "Epoch 5/20\n",
      "\u001b[1m3000/3000\u001b[0m \u001b[32m━━━━━━━━━━━━━━━━━━━━\u001b[0m\u001b[37m\u001b[0m \u001b[1m55s\u001b[0m 18ms/step - accuracy: 0.9938 - loss: 0.0187 - val_accuracy: 0.9973 - val_loss: 0.0093\n",
      "Epoch 6/20\n",
      "\u001b[1m3000/3000\u001b[0m \u001b[32m━━━━━━━━━━━━━━━━━━━━\u001b[0m\u001b[37m\u001b[0m \u001b[1m55s\u001b[0m 18ms/step - accuracy: 0.9948 - loss: 0.0158 - val_accuracy: 0.9972 - val_loss: 0.0097\n",
      "Epoch 7/20\n",
      "\u001b[1m3000/3000\u001b[0m \u001b[32m━━━━━━━━━━━━━━━━━━━━\u001b[0m\u001b[37m\u001b[0m \u001b[1m55s\u001b[0m 18ms/step - accuracy: 0.9954 - loss: 0.0136 - val_accuracy: 0.9974 - val_loss: 0.0089\n",
      "Epoch 8/20\n",
      "\u001b[1m3000/3000\u001b[0m \u001b[32m━━━━━━━━━━━━━━━━━━━━\u001b[0m\u001b[37m\u001b[0m \u001b[1m56s\u001b[0m 19ms/step - accuracy: 0.9963 - loss: 0.0116 - val_accuracy: 0.9975 - val_loss: 0.0088\n",
      "Epoch 9/20\n",
      "\u001b[1m3000/3000\u001b[0m \u001b[32m━━━━━━━━━━━━━━━━━━━━\u001b[0m\u001b[37m\u001b[0m \u001b[1m55s\u001b[0m 18ms/step - accuracy: 0.9967 - loss: 0.0102 - val_accuracy: 0.9974 - val_loss: 0.0096\n",
      "Epoch 10/20\n",
      "\u001b[1m3000/3000\u001b[0m \u001b[32m━━━━━━━━━━━━━━━━━━━━\u001b[0m\u001b[37m\u001b[0m \u001b[1m56s\u001b[0m 19ms/step - accuracy: 0.9972 - loss: 0.0090 - val_accuracy: 0.9978 - val_loss: 0.0087\n",
      "Epoch 11/20\n",
      "\u001b[1m3000/3000\u001b[0m \u001b[32m━━━━━━━━━━━━━━━━━━━━\u001b[0m\u001b[37m\u001b[0m \u001b[1m54s\u001b[0m 18ms/step - accuracy: 0.9973 - loss: 0.0084 - val_accuracy: 0.9978 - val_loss: 0.0087\n",
      "Epoch 12/20\n",
      "\u001b[1m3000/3000\u001b[0m \u001b[32m━━━━━━━━━━━━━━━━━━━━\u001b[0m\u001b[37m\u001b[0m \u001b[1m55s\u001b[0m 18ms/step - accuracy: 0.9975 - loss: 0.0079 - val_accuracy: 0.9979 - val_loss: 0.0084\n",
      "Epoch 13/20\n",
      "\u001b[1m3000/3000\u001b[0m \u001b[32m━━━━━━━━━━━━━━━━━━━━\u001b[0m\u001b[37m\u001b[0m \u001b[1m55s\u001b[0m 18ms/step - accuracy: 0.9978 - loss: 0.0073 - val_accuracy: 0.9977 - val_loss: 0.0093\n",
      "Epoch 14/20\n",
      "\u001b[1m3000/3000\u001b[0m \u001b[32m━━━━━━━━━━━━━━━━━━━━\u001b[0m\u001b[37m\u001b[0m \u001b[1m55s\u001b[0m 18ms/step - accuracy: 0.9979 - loss: 0.0067 - val_accuracy: 0.9980 - val_loss: 0.0080\n",
      "Epoch 15/20\n",
      "\u001b[1m3000/3000\u001b[0m \u001b[32m━━━━━━━━━━━━━━━━━━━━\u001b[0m\u001b[37m\u001b[0m \u001b[1m55s\u001b[0m 18ms/step - accuracy: 0.9984 - loss: 0.0057 - val_accuracy: 0.9977 - val_loss: 0.0089\n",
      "Epoch 16/20\n",
      "\u001b[1m3000/3000\u001b[0m \u001b[32m━━━━━━━━━━━━━━━━━━━━\u001b[0m\u001b[37m\u001b[0m \u001b[1m55s\u001b[0m 18ms/step - accuracy: 0.9983 - loss: 0.0052 - val_accuracy: 0.9976 - val_loss: 0.0090\n",
      "Epoch 17/20\n",
      "\u001b[1m3000/3000\u001b[0m \u001b[32m━━━━━━━━━━━━━━━━━━━━\u001b[0m\u001b[37m\u001b[0m \u001b[1m55s\u001b[0m 18ms/step - accuracy: 0.9983 - loss: 0.0053 - val_accuracy: 0.9975 - val_loss: 0.0105\n",
      "Epoch 18/20\n",
      "\u001b[1m3000/3000\u001b[0m \u001b[32m━━━━━━━━━━━━━━━━━━━━\u001b[0m\u001b[37m\u001b[0m \u001b[1m52s\u001b[0m 17ms/step - accuracy: 0.9988 - loss: 0.0041 - val_accuracy: 0.9977 - val_loss: 0.0099\n",
      "Epoch 19/20\n",
      "\u001b[1m3000/3000\u001b[0m \u001b[32m━━━━━━━━━━━━━━━━━━━━\u001b[0m\u001b[37m\u001b[0m \u001b[1m16s\u001b[0m 5ms/step - accuracy: 0.9987 - loss: 0.0043 - val_accuracy: 0.9975 - val_loss: 0.0107\n",
      "Epoch 20/20\n",
      "\u001b[1m3000/3000\u001b[0m \u001b[32m━━━━━━━━━━━━━━━━━━━━\u001b[0m\u001b[37m\u001b[0m \u001b[1m16s\u001b[0m 5ms/step - accuracy: 0.9989 - loss: 0.0038 - val_accuracy: 0.9976 - val_loss: 0.0110\n"
     ]
    },
    {
     "name": "stderr",
     "output_type": "stream",
     "text": [
      "WARNING:absl:You are saving your model as an HDF5 file via `model.save()` or `keras.saving.save_model(model)`. This file format is considered legacy. We recommend using instead the native Keras format, e.g. `model.save('my_model.keras')` or `keras.saving.save_model(model, 'my_model.keras')`. \n"
     ]
    }
   ],
   "source": [
    "history_lstm = model_lstm.fit(\n",
    "    X_train, \n",
    "    y_train, \n",
    "    epochs=20, \n",
    "    batch_size=64, \n",
    "    # validation_split=0.2,\n",
    "    validation_data=(X_val, y_val), \n",
    "    shuffle=False\n",
    ")\n",
    "\n",
    "model_lstm.save(\"model_train_praharak_v2.h5\")"
   ]
  },
  {
   "cell_type": "code",
   "execution_count": 45,
   "id": "8e5aac2b-deed-4e67-8fbf-143e87027d4c",
   "metadata": {},
   "outputs": [
    {
     "data": {
      "image/png": "[encoded data removed]",
      "text/plain": [
       "<Figure size 640x480 with 1 Axes>"
      ]
     },
     "metadata": {},
     "output_type": "display_data"
    }
   ],
   "source": [
    "import matplotlib.pyplot as plt\n",
    "\n",
    "# Retrieve training and validation loss from history object\n",
    "loss = history_lstm.history['loss']\n",
    "val_loss = history_lstm.history['val_loss']\n",
    "\n",
    "# Plotting the training and validation loss\n",
    "epochs = range(1, len(loss) + 1)\n",
    "plt.plot(epochs, loss, 'g', label='Training Loss')\n",
    "plt.plot(epochs, val_loss, 'r', label='Validation Loss')\n",
    "plt.title('Loss vs. Number of epochs')\n",
    "plt.xlabel('Number of Epochs')\n",
    "plt.ylabel('Loss')\n",
    "plt.legend()\n",
    "plt.show()\n"
   ]
  },
  {
   "cell_type": "code",
   "execution_count": 46,
   "id": "e5d4d172-7406-4756-94d9-326c687fd59c",
   "metadata": {},
   "outputs": [
    {
     "data": {
      "image/png": "[encoded data removed]",
      "text/plain": [
       "<Figure size 640x480 with 1 Axes>"
      ]
     },
     "metadata": {},
     "output_type": "display_data"
    }
   ],
   "source": [
    "accuracy = history_lstm.history['accuracy']\n",
    "val_accuracy = history_lstm.history['val_accuracy']\n",
    "plt.plot(epochs, accuracy , 'g', label = 'Training accuracy')\n",
    "plt.plot(epochs, val_accuracy , 'r', label = 'Validation accuracy')\n",
    "plt.title('Accuracy Scores v/s Number of Epochs')\n",
    "plt.xlabel('No. of Epochs')\n",
    "plt.ylabel('Accuracy Score')\n",
    "plt.legend()\n",
    "plt.show()"
   ]
  },
  {
   "cell_type": "markdown",
   "id": "080dc4c2-f8ba-4b69-82f2-e4ef73661452",
   "metadata": {},
   "source": [
    "## Testing and evaluation"
   ]
  },
  {
   "cell_type": "code",
   "execution_count": 48,
   "id": "1d132cc3-86ab-4e74-a2ee-560f69463173",
   "metadata": {},
   "outputs": [
    {
     "data": {
      "text/plain": [
       "array([[1.22161650e-03, 3.52941176e-01, 1.00000000e+00, ...,\n",
       "        0.00000000e+00, 7.07500000e-01, 7.07500000e-01],\n",
       "       [1.22161650e-03, 3.52941176e-01, 1.00000000e+00, ...,\n",
       "        0.00000000e+00, 7.07500000e-01, 7.07500000e-01],\n",
       "       [1.22161650e-03, 3.52941176e-01, 1.00000000e+00, ...,\n",
       "        0.00000000e+00, 7.07500000e-01, 7.07500000e-01],\n",
       "       ...,\n",
       "       [1.22161650e-03, 3.52941176e-01, 1.04615385e+00, ...,\n",
       "        0.00000000e+00, 8.26666667e-01, 8.26666667e-01],\n",
       "       [8.09320934e-04, 1.00000000e+00, 1.04615385e+00, ...,\n",
       "        0.00000000e+00, 0.00000000e+00, 0.00000000e+00],\n",
       "       [1.22161650e-03, 3.52941176e-01, 1.04615385e+00, ...,\n",
       "        0.00000000e+00, 8.30833333e-01, 8.30833333e-01]])"
      ]
     },
     "execution_count": 48,
     "metadata": {},
     "output_type": "execute_result"
    }
   ],
   "source": [
    "X_test"
   ]
  },
  {
   "cell_type": "code",
   "execution_count": 49,
   "id": "8b4a1c8f-091a-4bc9-ab18-acf14ae18e0e",
   "metadata": {},
   "outputs": [
    {
     "ename": "AttributeError",
     "evalue": "'numpy.ndarray' object has no attribute 'values'",
     "output_type": "error",
     "traceback": [
      "\u001b[0;31m---------------------------------------------------------------------------\u001b[0m",
      "\u001b[0;31mAttributeError\u001b[0m                            Traceback (most recent call last)",
      "Cell \u001b[0;32mIn[49], line 1\u001b[0m\n\u001b[0;32m----> 1\u001b[0m X_test \u001b[38;5;241m=\u001b[39m \u001b[43mX_test\u001b[49m\u001b[38;5;241;43m.\u001b[39;49m\u001b[43mvalues\u001b[49m\n\u001b[1;32m      2\u001b[0m y_test \u001b[38;5;241m=\u001b[39m y_test\u001b[38;5;241m.\u001b[39mvalues\n",
      "\u001b[0;31mAttributeError\u001b[0m: 'numpy.ndarray' object has no attribute 'values'"
     ]
    }
   ],
   "source": [
    "X_test = X_test.values\n",
    "y_test = y_test.values"
   ]
  },
  {
   "cell_type": "code",
   "execution_count": 50,
   "id": "70189353-ae08-4931-81ef-5eaf884586fa",
   "metadata": {},
   "outputs": [],
   "source": [
    "X_test_sequences = create_sequences(X_test, sequence_length)\n",
    "y_test_sequences = y_test[sequence_length - 1:]"
   ]
  },
  {
   "cell_type": "code",
   "execution_count": 51,
   "id": "f47ffd5d-9aea-493f-b714-2b2c62e40b03",
   "metadata": {},
   "outputs": [],
   "source": [
    "X_test_sequences = X_test_sequences.reshape((X_test_sequences.shape[0], sequence_length, X_test_sequences.shape[2]))"
   ]
  },
  {
   "cell_type": "code",
   "execution_count": 52,
   "id": "c7d2f51e-8547-419f-9353-038ae3c9044e",
   "metadata": {},
   "outputs": [],
   "source": [
    "from sklearn.metrics import confusion_matrix, accuracy_score, precision_score, recall_score, f1_score\n",
    "\n",
    "def evaluate(model, X_test, y_test):\n",
    "    y_pred = model.predict(X_test)\n",
    "    y_pred_binary = (y_pred > 0.5).astype(int)\n",
    "\n",
    "    # Generating confusion matrix\n",
    "    cm = confusion_matrix(y_test, y_pred_binary)\n",
    "    print(\"Confusion Matrix:\")\n",
    "    print(cm)\n",
    "\n",
    "    # Evaluation parameters\n",
    "    accuracy = accuracy_score(y_test, y_pred_binary)\n",
    "    precision = precision_score(y_test, y_pred_binary)\n",
    "    recall = recall_score(y_test, y_pred_binary)\n",
    "    f1 = f1_score(y_test, y_pred_binary)\n",
    "\n",
    "    print(\"Accuracy:\", accuracy)\n",
    "    print(\"Precision:\", precision)\n",
    "    print(\"Recall:\", recall)\n",
    "    print(\"F1 Score:\", f1)\n",
    "\n",
    "    return cm, y_pred"
   ]
  },
  {
   "cell_type": "code",
   "execution_count": 53,
   "id": "75b9b0f9-58ab-41f6-a1bc-0f8087c45af0",
   "metadata": {},
   "outputs": [
    {
     "name": "stdout",
     "output_type": "stream",
     "text": [
      "\u001b[1m  30/1875\u001b[0m \u001b[37m━━━━━━━━━━━━━━━━━━━━\u001b[0m \u001b[1m3s\u001b[0m 2ms/step    "
     ]
    },
    {
     "name": "stderr",
     "output_type": "stream",
     "text": [
      "2024-07-12 09:27:12.248325: W external/local_tsl/tsl/framework/cpu_allocator_impl.cc:83] Allocation of 165575160 exceeds 10% of free system memory.\n"
     ]
    },
    {
     "name": "stdout",
     "output_type": "stream",
     "text": [
      "\u001b[1m1875/1875\u001b[0m \u001b[32m━━━━━━━━━━━━━━━━━━━━\u001b[0m\u001b[37m\u001b[0m \u001b[1m5s\u001b[0m 3ms/step\n",
      "Confusion Matrix:\n",
      "[[ 7731   270]\n",
      " [   27 51963]]\n",
      "Accuracy: 0.9950492573886083\n",
      "Precision: 0.9948308540577796\n",
      "Recall: 0.9994806693594922\n",
      "F1 Score: 0.9971503410955356\n"
     ]
    }
   ],
   "source": [
    "cm_lstm, y_pred_lstm = evaluate(model_lstm, X_test_sequences, y_test_sequences)"
   ]
  },
  {
   "cell_type": "code",
   "execution_count": 54,
   "id": "33617102-dddb-4af2-b0f4-833e76677bed",
   "metadata": {},
   "outputs": [
    {
     "data": {
      "image/png": "[encoded data removed]",
      "text/plain": [
       "<Figure size 800x600 with 2 Axes>"
      ]
     },
     "metadata": {},
     "output_type": "display_data"
    }
   ],
   "source": [
    "import seaborn as sns\n",
    "import matplotlib.pyplot as plt\n",
    "\n",
    "# Plot confusion matrix\n",
    "plt.figure(figsize=(8, 6))\n",
    "sns.heatmap(cm_lstm, annot=True, cmap='Blues', fmt='g', \n",
    "            xticklabels=['Predicted Negative', 'Predicted Positive'], \n",
    "            yticklabels=['Actual Negative', 'Actual Positive'])\n",
    "plt.title('Confusion Matrix LSTM')\n",
    "plt.xlabel('Predicted label')\n",
    "plt.ylabel('True label')\n",
    "plt.show()"
   ]
  },
  {
   "cell_type": "code",
   "execution_count": 55,
   "id": "4bc70560-dd01-439c-8f9d-7d6a5a80010e",
   "metadata": {},
   "outputs": [
    {
     "data": {
      "image/png": "[encoded data removed]",
      "text/plain": [
       "<Figure size 640x480 with 1 Axes>"
      ]
     },
     "metadata": {},
     "output_type": "display_data"
    }
   ],
   "source": [
    "from sklearn.metrics import precision_recall_curve, auc\n",
    "import matplotlib.pyplot as plt\n",
    "\n",
    "# Calculate precision-recall curve\n",
    "precision, recall, _ = precision_recall_curve(y_test_sequences, y_pred_lstm)\n",
    "pr_auc = auc(recall, precision)\n",
    "\n",
    "# Plot PR curve\n",
    "plt.figure()\n",
    "plt.plot(recall, precision, color='darkorange', lw=2, label='PR curve (area = %0.6f)' % pr_auc)\n",
    "plt.xlim([0.0, 1.0])\n",
    "plt.ylim([0.0, 1.05])\n",
    "plt.xlabel('Recall')\n",
    "plt.ylabel('Precision')\n",
    "plt.title('Precision-Recall Curve LSTM')\n",
    "plt.legend(loc=\"lower right\")\n",
    "plt.show()"
   ]
  },
  {
   "cell_type": "code",
   "execution_count": null,
   "id": "02f30a4c-24af-475f-a49b-57007298e423",
   "metadata": {},
   "outputs": [],
   "source": []
  }
 ],
 "metadata": {
  "kernelspec": {
   "display_name": "Python 3 (ipykernel)",
   "language": "python",
   "name": "python3"
  },
  "language_info": {
   "codemirror_mode": {
    "name": "ipython",
    "version": 3
   },
   "file_extension": ".py",
   "mimetype": "text/x-python",
   "name": "python",
   "nbconvert_exporter": "python",
   "pygments_lexer": "ipython3",
   "version": "3.12.4"
  }
 },
 "nbformat": 4,
 "nbformat_minor": 5
}
