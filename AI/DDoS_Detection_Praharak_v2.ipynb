{
 "cells": [
  {
   "cell_type": "code",
   "execution_count": 1,
   "id": "b5bd7d4d-e7bf-4561-a8d3-ad1b48236b50",
   "metadata": {},
   "outputs": [],
   "source": [
    "import pandas as pd"
   ]
  },
  {
   "cell_type": "code",
   "execution_count": 2,
   "id": "ad234b16-3dcc-408a-839a-cd888d8f0177",
   "metadata": {},
   "outputs": [
    {
     "name": "stderr",
     "output_type": "stream",
     "text": [
      "/tmp/ipykernel_3996/2868738858.py:3: DtypeWarning: Columns (0,1,3,4,5,6,7,8,9,10,11,12,13,14,15,16,17,18,19,20,21,22,23,24,25,26,27,28,29,30,31,32,33,34,35,36,37,38,39,40,41,42,43,44,45,46,47,48,49,50,51,52,53,54,55,56,57,58,59,60,61,62,63,64,65,66,67,68,69,70,71,72,73,74,75,76,77,78) have mixed types. Specify dtype option on import or set low_memory=False.\n",
      "  df = pd.read_csv(\"archive/02-16-2018.csv\")\n"
     ]
    }
   ],
   "source": [
    "# Read the dataset\n",
    "\n",
    "df = pd.read_csv(\"archive/02-16-2018.csv\")"
   ]
  },
  {
   "cell_type": "code",
   "execution_count": 17,
   "id": "0ac205a0-4e83-40c8-92a2-a9db2699cb1d",
   "metadata": {},
   "outputs": [
    {
     "data": {
      "text/html": [
       "<div>\n",
       "<style scoped>\n",
       "    .dataframe tbody tr th:only-of-type {\n",
       "        vertical-align: middle;\n",
       "    }\n",
       "\n",
       "    .dataframe tbody tr th {\n",
       "        vertical-align: top;\n",
       "    }\n",
       "\n",
       "    .dataframe thead th {\n",
       "        text-align: right;\n",
       "    }\n",
       "</style>\n",
       "<table border=\"1\" class=\"dataframe\">\n",
       "  <thead>\n",
       "    <tr style=\"text-align: right;\">\n",
       "      <th></th>\n",
       "      <th>Dst Port</th>\n",
       "      <th>Protocol</th>\n",
       "      <th>Timestamp</th>\n",
       "      <th>Flow Duration</th>\n",
       "      <th>Tot Fwd Pkts</th>\n",
       "      <th>Tot Bwd Pkts</th>\n",
       "      <th>TotLen Fwd Pkts</th>\n",
       "      <th>TotLen Bwd Pkts</th>\n",
       "      <th>Fwd Pkt Len Max</th>\n",
       "      <th>Fwd Pkt Len Min</th>\n",
       "      <th>...</th>\n",
       "      <th>Fwd Seg Size Min</th>\n",
       "      <th>Active Mean</th>\n",
       "      <th>Active Std</th>\n",
       "      <th>Active Max</th>\n",
       "      <th>Active Min</th>\n",
       "      <th>Idle Mean</th>\n",
       "      <th>Idle Std</th>\n",
       "      <th>Idle Max</th>\n",
       "      <th>Idle Min</th>\n",
       "      <th>Label</th>\n",
       "    </tr>\n",
       "  </thead>\n",
       "  <tbody>\n",
       "    <tr>\n",
       "      <th>0</th>\n",
       "      <td>0</td>\n",
       "      <td>0</td>\n",
       "      <td>16/02/2018 08:27:23</td>\n",
       "      <td>112640768</td>\n",
       "      <td>3</td>\n",
       "      <td>0</td>\n",
       "      <td>0</td>\n",
       "      <td>0</td>\n",
       "      <td>0</td>\n",
       "      <td>0</td>\n",
       "      <td>...</td>\n",
       "      <td>0</td>\n",
       "      <td>0</td>\n",
       "      <td>0.0</td>\n",
       "      <td>0</td>\n",
       "      <td>0</td>\n",
       "      <td>56300000.0</td>\n",
       "      <td>138.592929</td>\n",
       "      <td>56300000</td>\n",
       "      <td>56300000</td>\n",
       "      <td>Benign</td>\n",
       "    </tr>\n",
       "    <tr>\n",
       "      <th>1</th>\n",
       "      <td>0</td>\n",
       "      <td>0</td>\n",
       "      <td>16/02/2018 08:30:12</td>\n",
       "      <td>112641773</td>\n",
       "      <td>3</td>\n",
       "      <td>0</td>\n",
       "      <td>0</td>\n",
       "      <td>0</td>\n",
       "      <td>0</td>\n",
       "      <td>0</td>\n",
       "      <td>...</td>\n",
       "      <td>0</td>\n",
       "      <td>0</td>\n",
       "      <td>0.0</td>\n",
       "      <td>0</td>\n",
       "      <td>0</td>\n",
       "      <td>56300000.0</td>\n",
       "      <td>263.750829</td>\n",
       "      <td>56300000</td>\n",
       "      <td>56300000</td>\n",
       "      <td>Benign</td>\n",
       "    </tr>\n",
       "    <tr>\n",
       "      <th>2</th>\n",
       "      <td>35605</td>\n",
       "      <td>6</td>\n",
       "      <td>16/02/2018 08:26:55</td>\n",
       "      <td>20784143</td>\n",
       "      <td>23</td>\n",
       "      <td>44</td>\n",
       "      <td>2416</td>\n",
       "      <td>1344</td>\n",
       "      <td>240</td>\n",
       "      <td>64</td>\n",
       "      <td>...</td>\n",
       "      <td>20</td>\n",
       "      <td>2624734</td>\n",
       "      <td>0.0</td>\n",
       "      <td>2624734</td>\n",
       "      <td>2624734</td>\n",
       "      <td>9058214.0</td>\n",
       "      <td>0.0</td>\n",
       "      <td>9058214</td>\n",
       "      <td>9058214</td>\n",
       "      <td>Benign</td>\n",
       "    </tr>\n",
       "    <tr>\n",
       "      <th>3</th>\n",
       "      <td>0</td>\n",
       "      <td>0</td>\n",
       "      <td>16/02/2018 08:33:01</td>\n",
       "      <td>112640836</td>\n",
       "      <td>3</td>\n",
       "      <td>0</td>\n",
       "      <td>0</td>\n",
       "      <td>0</td>\n",
       "      <td>0</td>\n",
       "      <td>0</td>\n",
       "      <td>...</td>\n",
       "      <td>0</td>\n",
       "      <td>0</td>\n",
       "      <td>0.0</td>\n",
       "      <td>0</td>\n",
       "      <td>0</td>\n",
       "      <td>56300000.0</td>\n",
       "      <td>82.024387</td>\n",
       "      <td>56300000</td>\n",
       "      <td>56300000</td>\n",
       "      <td>Benign</td>\n",
       "    </tr>\n",
       "    <tr>\n",
       "      <th>4</th>\n",
       "      <td>23</td>\n",
       "      <td>6</td>\n",
       "      <td>16/02/2018 08:27:59</td>\n",
       "      <td>20</td>\n",
       "      <td>1</td>\n",
       "      <td>1</td>\n",
       "      <td>0</td>\n",
       "      <td>0</td>\n",
       "      <td>0</td>\n",
       "      <td>0</td>\n",
       "      <td>...</td>\n",
       "      <td>20</td>\n",
       "      <td>0</td>\n",
       "      <td>0.0</td>\n",
       "      <td>0</td>\n",
       "      <td>0</td>\n",
       "      <td>0.0</td>\n",
       "      <td>0.0</td>\n",
       "      <td>0</td>\n",
       "      <td>0</td>\n",
       "      <td>Benign</td>\n",
       "    </tr>\n",
       "    <tr>\n",
       "      <th>...</th>\n",
       "      <td>...</td>\n",
       "      <td>...</td>\n",
       "      <td>...</td>\n",
       "      <td>...</td>\n",
       "      <td>...</td>\n",
       "      <td>...</td>\n",
       "      <td>...</td>\n",
       "      <td>...</td>\n",
       "      <td>...</td>\n",
       "      <td>...</td>\n",
       "      <td>...</td>\n",
       "      <td>...</td>\n",
       "      <td>...</td>\n",
       "      <td>...</td>\n",
       "      <td>...</td>\n",
       "      <td>...</td>\n",
       "      <td>...</td>\n",
       "      <td>...</td>\n",
       "      <td>...</td>\n",
       "      <td>...</td>\n",
       "      <td>...</td>\n",
       "    </tr>\n",
       "    <tr>\n",
       "      <th>1007599</th>\n",
       "      <td>21</td>\n",
       "      <td>6</td>\n",
       "      <td>16/02/2018 10:16:00</td>\n",
       "      <td>23</td>\n",
       "      <td>1</td>\n",
       "      <td>1</td>\n",
       "      <td>0</td>\n",
       "      <td>0</td>\n",
       "      <td>0</td>\n",
       "      <td>0</td>\n",
       "      <td>...</td>\n",
       "      <td>40</td>\n",
       "      <td>0</td>\n",
       "      <td>0</td>\n",
       "      <td>0</td>\n",
       "      <td>0</td>\n",
       "      <td>0</td>\n",
       "      <td>0</td>\n",
       "      <td>0</td>\n",
       "      <td>0</td>\n",
       "      <td>Malicious</td>\n",
       "    </tr>\n",
       "    <tr>\n",
       "      <th>1007600</th>\n",
       "      <td>21</td>\n",
       "      <td>6</td>\n",
       "      <td>16/02/2018 10:16:00</td>\n",
       "      <td>3</td>\n",
       "      <td>1</td>\n",
       "      <td>1</td>\n",
       "      <td>0</td>\n",
       "      <td>0</td>\n",
       "      <td>0</td>\n",
       "      <td>0</td>\n",
       "      <td>...</td>\n",
       "      <td>40</td>\n",
       "      <td>0</td>\n",
       "      <td>0</td>\n",
       "      <td>0</td>\n",
       "      <td>0</td>\n",
       "      <td>0</td>\n",
       "      <td>0</td>\n",
       "      <td>0</td>\n",
       "      <td>0</td>\n",
       "      <td>Malicious</td>\n",
       "    </tr>\n",
       "    <tr>\n",
       "      <th>1007607</th>\n",
       "      <td>21</td>\n",
       "      <td>6</td>\n",
       "      <td>16/02/2018 10:16:00</td>\n",
       "      <td>2</td>\n",
       "      <td>1</td>\n",
       "      <td>1</td>\n",
       "      <td>0</td>\n",
       "      <td>0</td>\n",
       "      <td>0</td>\n",
       "      <td>0</td>\n",
       "      <td>...</td>\n",
       "      <td>40</td>\n",
       "      <td>0</td>\n",
       "      <td>0</td>\n",
       "      <td>0</td>\n",
       "      <td>0</td>\n",
       "      <td>0</td>\n",
       "      <td>0</td>\n",
       "      <td>0</td>\n",
       "      <td>0</td>\n",
       "      <td>Malicious</td>\n",
       "    </tr>\n",
       "    <tr>\n",
       "      <th>1007609</th>\n",
       "      <td>21</td>\n",
       "      <td>6</td>\n",
       "      <td>16/02/2018 10:16:00</td>\n",
       "      <td>33</td>\n",
       "      <td>1</td>\n",
       "      <td>1</td>\n",
       "      <td>0</td>\n",
       "      <td>0</td>\n",
       "      <td>0</td>\n",
       "      <td>0</td>\n",
       "      <td>...</td>\n",
       "      <td>40</td>\n",
       "      <td>0</td>\n",
       "      <td>0</td>\n",
       "      <td>0</td>\n",
       "      <td>0</td>\n",
       "      <td>0</td>\n",
       "      <td>0</td>\n",
       "      <td>0</td>\n",
       "      <td>0</td>\n",
       "      <td>Malicious</td>\n",
       "    </tr>\n",
       "    <tr>\n",
       "      <th>1007613</th>\n",
       "      <td>21</td>\n",
       "      <td>6</td>\n",
       "      <td>16/02/2018 10:16:00</td>\n",
       "      <td>1</td>\n",
       "      <td>1</td>\n",
       "      <td>1</td>\n",
       "      <td>0</td>\n",
       "      <td>0</td>\n",
       "      <td>0</td>\n",
       "      <td>0</td>\n",
       "      <td>...</td>\n",
       "      <td>40</td>\n",
       "      <td>0</td>\n",
       "      <td>0</td>\n",
       "      <td>0</td>\n",
       "      <td>0</td>\n",
       "      <td>0</td>\n",
       "      <td>0</td>\n",
       "      <td>0</td>\n",
       "      <td>0</td>\n",
       "      <td>Malicious</td>\n",
       "    </tr>\n",
       "  </tbody>\n",
       "</table>\n",
       "<p>902727 rows × 80 columns</p>\n",
       "</div>"
      ],
      "text/plain": [
       "        Dst Port Protocol            Timestamp Flow Duration Tot Fwd Pkts  \\\n",
       "0              0        0  16/02/2018 08:27:23     112640768            3   \n",
       "1              0        0  16/02/2018 08:30:12     112641773            3   \n",
       "2          35605        6  16/02/2018 08:26:55      20784143           23   \n",
       "3              0        0  16/02/2018 08:33:01     112640836            3   \n",
       "4             23        6  16/02/2018 08:27:59            20            1   \n",
       "...          ...      ...                  ...           ...          ...   \n",
       "1007599       21        6  16/02/2018 10:16:00            23            1   \n",
       "1007600       21        6  16/02/2018 10:16:00             3            1   \n",
       "1007607       21        6  16/02/2018 10:16:00             2            1   \n",
       "1007609       21        6  16/02/2018 10:16:00            33            1   \n",
       "1007613       21        6  16/02/2018 10:16:00             1            1   \n",
       "\n",
       "        Tot Bwd Pkts TotLen Fwd Pkts TotLen Bwd Pkts Fwd Pkt Len Max  \\\n",
       "0                  0               0               0               0   \n",
       "1                  0               0               0               0   \n",
       "2                 44            2416            1344             240   \n",
       "3                  0               0               0               0   \n",
       "4                  1               0               0               0   \n",
       "...              ...             ...             ...             ...   \n",
       "1007599            1               0               0               0   \n",
       "1007600            1               0               0               0   \n",
       "1007607            1               0               0               0   \n",
       "1007609            1               0               0               0   \n",
       "1007613            1               0               0               0   \n",
       "\n",
       "        Fwd Pkt Len Min  ... Fwd Seg Size Min Active Mean Active Std  \\\n",
       "0                     0  ...                0           0        0.0   \n",
       "1                     0  ...                0           0        0.0   \n",
       "2                    64  ...               20     2624734        0.0   \n",
       "3                     0  ...                0           0        0.0   \n",
       "4                     0  ...               20           0        0.0   \n",
       "...                 ...  ...              ...         ...        ...   \n",
       "1007599               0  ...               40           0          0   \n",
       "1007600               0  ...               40           0          0   \n",
       "1007607               0  ...               40           0          0   \n",
       "1007609               0  ...               40           0          0   \n",
       "1007613               0  ...               40           0          0   \n",
       "\n",
       "        Active Max Active Min   Idle Mean    Idle Std  Idle Max  Idle Min  \\\n",
       "0                0          0  56300000.0  138.592929  56300000  56300000   \n",
       "1                0          0  56300000.0  263.750829  56300000  56300000   \n",
       "2          2624734    2624734   9058214.0         0.0   9058214   9058214   \n",
       "3                0          0  56300000.0   82.024387  56300000  56300000   \n",
       "4                0          0         0.0         0.0         0         0   \n",
       "...            ...        ...         ...         ...       ...       ...   \n",
       "1007599          0          0           0           0         0         0   \n",
       "1007600          0          0           0           0         0         0   \n",
       "1007607          0          0           0           0         0         0   \n",
       "1007609          0          0           0           0         0         0   \n",
       "1007613          0          0           0           0         0         0   \n",
       "\n",
       "             Label  \n",
       "0           Benign  \n",
       "1           Benign  \n",
       "2           Benign  \n",
       "3           Benign  \n",
       "4           Benign  \n",
       "...            ...  \n",
       "1007599  Malicious  \n",
       "1007600  Malicious  \n",
       "1007607  Malicious  \n",
       "1007609  Malicious  \n",
       "1007613  Malicious  \n",
       "\n",
       "[902727 rows x 80 columns]"
      ]
     },
     "execution_count": 17,
     "metadata": {},
     "output_type": "execute_result"
    }
   ],
   "source": [
    "df\n"
   ]
  },
  {
   "cell_type": "code",
   "execution_count": 18,
   "id": "11709c11-cc6f-4bc2-adf8-a3d26d924803",
   "metadata": {},
   "outputs": [
    {
     "name": "stdout",
     "output_type": "stream",
     "text": [
      "<class 'pandas.core.frame.DataFrame'>\n",
      "Index: 902727 entries, 0 to 1007613\n",
      "Data columns (total 80 columns):\n",
      " #   Column             Non-Null Count   Dtype \n",
      "---  ------             --------------   ----- \n",
      " 0   Dst Port           902727 non-null  object\n",
      " 1   Protocol           902727 non-null  object\n",
      " 2   Timestamp          902727 non-null  object\n",
      " 3   Flow Duration      902727 non-null  object\n",
      " 4   Tot Fwd Pkts       902727 non-null  object\n",
      " 5   Tot Bwd Pkts       902727 non-null  object\n",
      " 6   TotLen Fwd Pkts    902727 non-null  object\n",
      " 7   TotLen Bwd Pkts    902727 non-null  object\n",
      " 8   Fwd Pkt Len Max    902727 non-null  object\n",
      " 9   Fwd Pkt Len Min    902727 non-null  object\n",
      " 10  Fwd Pkt Len Mean   902727 non-null  object\n",
      " 11  Fwd Pkt Len Std    902727 non-null  object\n",
      " 12  Bwd Pkt Len Max    902727 non-null  object\n",
      " 13  Bwd Pkt Len Min    902727 non-null  object\n",
      " 14  Bwd Pkt Len Mean   902727 non-null  object\n",
      " 15  Bwd Pkt Len Std    902727 non-null  object\n",
      " 16  Flow Byts/s        902727 non-null  object\n",
      " 17  Flow Pkts/s        902727 non-null  object\n",
      " 18  Flow IAT Mean      902727 non-null  object\n",
      " 19  Flow IAT Std       902727 non-null  object\n",
      " 20  Flow IAT Max       902727 non-null  object\n",
      " 21  Flow IAT Min       902727 non-null  object\n",
      " 22  Fwd IAT Tot        902727 non-null  object\n",
      " 23  Fwd IAT Mean       902727 non-null  object\n",
      " 24  Fwd IAT Std        902727 non-null  object\n",
      " 25  Fwd IAT Max        902727 non-null  object\n",
      " 26  Fwd IAT Min        902727 non-null  object\n",
      " 27  Bwd IAT Tot        902727 non-null  object\n",
      " 28  Bwd IAT Mean       902727 non-null  object\n",
      " 29  Bwd IAT Std        902727 non-null  object\n",
      " 30  Bwd IAT Max        902727 non-null  object\n",
      " 31  Bwd IAT Min        902727 non-null  object\n",
      " 32  Fwd PSH Flags      902727 non-null  object\n",
      " 33  Bwd PSH Flags      902727 non-null  object\n",
      " 34  Fwd URG Flags      902727 non-null  object\n",
      " 35  Bwd URG Flags      902727 non-null  object\n",
      " 36  Fwd Header Len     902727 non-null  object\n",
      " 37  Bwd Header Len     902727 non-null  object\n",
      " 38  Fwd Pkts/s         902727 non-null  object\n",
      " 39  Bwd Pkts/s         902727 non-null  object\n",
      " 40  Pkt Len Min        902727 non-null  object\n",
      " 41  Pkt Len Max        902727 non-null  object\n",
      " 42  Pkt Len Mean       902727 non-null  object\n",
      " 43  Pkt Len Std        902727 non-null  object\n",
      " 44  Pkt Len Var        902727 non-null  object\n",
      " 45  FIN Flag Cnt       902727 non-null  object\n",
      " 46  SYN Flag Cnt       902727 non-null  object\n",
      " 47  RST Flag Cnt       902727 non-null  object\n",
      " 48  PSH Flag Cnt       902727 non-null  object\n",
      " 49  ACK Flag Cnt       902727 non-null  object\n",
      " 50  URG Flag Cnt       902727 non-null  object\n",
      " 51  CWE Flag Count     902727 non-null  object\n",
      " 52  ECE Flag Cnt       902727 non-null  object\n",
      " 53  Down/Up Ratio      902727 non-null  object\n",
      " 54  Pkt Size Avg       902727 non-null  object\n",
      " 55  Fwd Seg Size Avg   902727 non-null  object\n",
      " 56  Bwd Seg Size Avg   902727 non-null  object\n",
      " 57  Fwd Byts/b Avg     902727 non-null  object\n",
      " 58  Fwd Pkts/b Avg     902727 non-null  object\n",
      " 59  Fwd Blk Rate Avg   902727 non-null  object\n",
      " 60  Bwd Byts/b Avg     902727 non-null  object\n",
      " 61  Bwd Pkts/b Avg     902727 non-null  object\n",
      " 62  Bwd Blk Rate Avg   902727 non-null  object\n",
      " 63  Subflow Fwd Pkts   902727 non-null  object\n",
      " 64  Subflow Fwd Byts   902727 non-null  object\n",
      " 65  Subflow Bwd Pkts   902727 non-null  object\n",
      " 66  Subflow Bwd Byts   902727 non-null  object\n",
      " 67  Init Fwd Win Byts  902727 non-null  object\n",
      " 68  Init Bwd Win Byts  902727 non-null  object\n",
      " 69  Fwd Act Data Pkts  902727 non-null  object\n",
      " 70  Fwd Seg Size Min   902727 non-null  object\n",
      " 71  Active Mean        902727 non-null  object\n",
      " 72  Active Std         902727 non-null  object\n",
      " 73  Active Max         902727 non-null  object\n",
      " 74  Active Min         902727 non-null  object\n",
      " 75  Idle Mean          902727 non-null  object\n",
      " 76  Idle Std           902727 non-null  object\n",
      " 77  Idle Max           902727 non-null  object\n",
      " 78  Idle Min           902727 non-null  object\n",
      " 79  Label              902727 non-null  object\n",
      "dtypes: object(80)\n",
      "memory usage: 557.9+ MB\n"
     ]
    }
   ],
   "source": [
    "df.info()"
   ]
  },
  {
   "cell_type": "code",
   "execution_count": 19,
   "id": "98e2fe56-8794-4ed0-965a-943fccbaf47e",
   "metadata": {},
   "outputs": [
    {
     "data": {
      "text/plain": [
       "Index(['Dst Port', 'Protocol', 'Timestamp', 'Flow Duration', 'Tot Fwd Pkts',\n",
       "       'Tot Bwd Pkts', 'TotLen Fwd Pkts', 'TotLen Bwd Pkts', 'Fwd Pkt Len Max',\n",
       "       'Fwd Pkt Len Min', 'Fwd Pkt Len Mean', 'Fwd Pkt Len Std',\n",
       "       'Bwd Pkt Len Max', 'Bwd Pkt Len Min', 'Bwd Pkt Len Mean',\n",
       "       'Bwd Pkt Len Std', 'Flow Byts/s', 'Flow Pkts/s', 'Flow IAT Mean',\n",
       "       'Flow IAT Std', 'Flow IAT Max', 'Flow IAT Min', 'Fwd IAT Tot',\n",
       "       'Fwd IAT Mean', 'Fwd IAT Std', 'Fwd IAT Max', 'Fwd IAT Min',\n",
       "       'Bwd IAT Tot', 'Bwd IAT Mean', 'Bwd IAT Std', 'Bwd IAT Max',\n",
       "       'Bwd IAT Min', 'Fwd PSH Flags', 'Bwd PSH Flags', 'Fwd URG Flags',\n",
       "       'Bwd URG Flags', 'Fwd Header Len', 'Bwd Header Len', 'Fwd Pkts/s',\n",
       "       'Bwd Pkts/s', 'Pkt Len Min', 'Pkt Len Max', 'Pkt Len Mean',\n",
       "       'Pkt Len Std', 'Pkt Len Var', 'FIN Flag Cnt', 'SYN Flag Cnt',\n",
       "       'RST Flag Cnt', 'PSH Flag Cnt', 'ACK Flag Cnt', 'URG Flag Cnt',\n",
       "       'CWE Flag Count', 'ECE Flag Cnt', 'Down/Up Ratio', 'Pkt Size Avg',\n",
       "       'Fwd Seg Size Avg', 'Bwd Seg Size Avg', 'Fwd Byts/b Avg',\n",
       "       'Fwd Pkts/b Avg', 'Fwd Blk Rate Avg', 'Bwd Byts/b Avg',\n",
       "       'Bwd Pkts/b Avg', 'Bwd Blk Rate Avg', 'Subflow Fwd Pkts',\n",
       "       'Subflow Fwd Byts', 'Subflow Bwd Pkts', 'Subflow Bwd Byts',\n",
       "       'Init Fwd Win Byts', 'Init Bwd Win Byts', 'Fwd Act Data Pkts',\n",
       "       'Fwd Seg Size Min', 'Active Mean', 'Active Std', 'Active Max',\n",
       "       'Active Min', 'Idle Mean', 'Idle Std', 'Idle Max', 'Idle Min', 'Label'],\n",
       "      dtype='object')"
      ]
     },
     "execution_count": 19,
     "metadata": {},
     "output_type": "execute_result"
    }
   ],
   "source": [
    "df.columns"
   ]
  },
  {
   "cell_type": "code",
   "execution_count": 6,
   "id": "45a0f6db-a10e-46e6-8494-5d76db08e8a4",
   "metadata": {},
   "outputs": [
    {
     "data": {
      "text/plain": [
       "array(['Benign', 'DoS attacks-SlowHTTPTest', 'DoS attacks-Hulk', 'Label'],\n",
       "      dtype=object)"
      ]
     },
     "execution_count": 6,
     "metadata": {},
     "output_type": "execute_result"
    }
   ],
   "source": [
    "df[\"Label\"].unique()"
   ]
  },
  {
   "cell_type": "code",
   "execution_count": 7,
   "id": "ba3fcf80-4802-42f7-949c-71c324d377a9",
   "metadata": {},
   "outputs": [
    {
     "data": {
      "text/plain": [
       "Label\n",
       "DoS attacks-Hulk            461912\n",
       "Benign                      446772\n",
       "DoS attacks-SlowHTTPTest    139890\n",
       "Label                            1\n",
       "Name: count, dtype: int64"
      ]
     },
     "execution_count": 7,
     "metadata": {},
     "output_type": "execute_result"
    }
   ],
   "source": [
    "df[\"Label\"].value_counts()"
   ]
  },
  {
   "cell_type": "code",
   "execution_count": 9,
   "id": "b15b25f9-eee9-4b9e-9d47-087dec90eb53",
   "metadata": {},
   "outputs": [],
   "source": [
    "# View the distribution of data in each columns\n",
    "\n",
    "# for feature in df.columns:\n",
    "#     unique_values = df[feature].unique()\n",
    "#     print(f\"{feature} - {unique_values}\")"
   ]
  },
  {
   "cell_type": "code",
   "execution_count": 10,
   "id": "6c3b6f5a-0a87-4f1e-b563-07044c61cbbd",
   "metadata": {},
   "outputs": [],
   "source": [
    "# View the zero or contand valued features\n",
    "\n",
    "for feature in df.columns:\n",
    "    unique_values = df[feature].unique()\n",
    "    if len(unique_values) == 1:\n",
    "        print(f\"{feature} - {unique_values}\")"
   ]
  },
  {
   "cell_type": "code",
   "execution_count": 11,
   "id": "6bbf38b0-6b58-4728-956e-7601d1021ef9",
   "metadata": {},
   "outputs": [],
   "source": [
    "# Remove missing or duplicate values\n",
    "\n",
    "df.dropna(inplace=True)"
   ]
  },
  {
   "cell_type": "code",
   "execution_count": 12,
   "id": "2ef06d98-c3a4-4a37-bfba-e9cbe8c8e5ff",
   "metadata": {},
   "outputs": [],
   "source": [
    "df.drop_duplicates(inplace=True)"
   ]
  },
  {
   "cell_type": "code",
   "execution_count": 13,
   "id": "e06d76f1-944f-47bb-9e11-d5ddb88f33b7",
   "metadata": {},
   "outputs": [
    {
     "data": {
      "text/plain": [
       "Label\n",
       "Benign                      446752\n",
       "DoS attacks-Hulk            434883\n",
       "DoS attacks-SlowHTTPTest     21092\n",
       "Label                            1\n",
       "Name: count, dtype: int64"
      ]
     },
     "execution_count": 13,
     "metadata": {},
     "output_type": "execute_result"
    }
   ],
   "source": [
    "df[\"Label\"].value_counts()"
   ]
  },
  {
   "cell_type": "code",
   "execution_count": 14,
   "id": "93024d7a-1deb-486d-8cbb-9b222220a0ad",
   "metadata": {
    "scrolled": true
   },
   "outputs": [],
   "source": [
    "df.drop(df.loc[df[\"Label\"] == \"Label\"].index, inplace=True)"
   ]
  },
  {
   "cell_type": "code",
   "execution_count": 15,
   "id": "aaa7d026-adaa-47c7-8a2a-9bfe2d281fb9",
   "metadata": {},
   "outputs": [],
   "source": [
    "df.replace(to_replace=[\"DoS attacks-SlowHTTPTest\", \"DoS attacks-Hulk\"], value=\"Malicious\", inplace=True)"
   ]
  },
  {
   "cell_type": "code",
   "execution_count": 16,
   "id": "1cc3cf7a-de69-4868-9f98-57d88ca77773",
   "metadata": {},
   "outputs": [
    {
     "data": {
      "text/plain": [
       "Label\n",
       "Malicious    455975\n",
       "Benign       446752\n",
       "Name: count, dtype: int64"
      ]
     },
     "execution_count": 16,
     "metadata": {},
     "output_type": "execute_result"
    }
   ],
   "source": [
    "df[\"Label\"].value_counts()"
   ]
  },
  {
   "cell_type": "code",
   "execution_count": 21,
   "id": "5a37fdb8-80d8-45e6-a8c9-329cfea68b0f",
   "metadata": {},
   "outputs": [],
   "source": [
    "# # Removing unnessary columns, and constant valued columns\n",
    "\n",
    "# columns_to_remove = [\"Unnamed: 0\", \n",
    "#                      'Bwd PSH Flags', \n",
    "#                      'Fwd URG Flags', \n",
    "#                      'Bwd URG Flags', \n",
    "#                      'FIN Flag Count', \n",
    "#                      'PSH Flag Count', \n",
    "#                      'ECE Flag Count', \n",
    "#                      'Fwd Avg Bytes/Bulk', \n",
    "#                      'Fwd Avg Packets/Bulk', \n",
    "#                      'Fwd Avg Bulk Rate', \n",
    "#                      'Bwd Avg Bytes/Bulk', \n",
    "#                      'Bwd Avg Packets/Bulk', \n",
    "#                      'Bwd Avg Bulk Rate',\n",
    "#                      'Label'\n",
    "# ]\n",
    "\n",
    "# # Li, Junhong. \"Detection of ddos attacks based on dense neural networks, autoencoders and pearson correlation coefficient.\" (2020).\n",
    "\n",
    "# features_to_remove = ['Active Max', \n",
    "#                       'Subflow Bwd Packets', \n",
    "#                       'Bwd IAT Max', \n",
    "#                       'Active Min', \n",
    "#                       'Idle Min', \n",
    "#                       'Fwd Bulk Rate Avg', \n",
    "#                       'Bwd PSH Flags', \n",
    "#                       'Packet Length Min', \n",
    "#                       'Bwd URG Flags', \n",
    "#                       'Idle Max', \n",
    "#                       'Fwd IAT Total', \n",
    "#                       'Bwd Bytes/Bulk Avg', \n",
    "#                       'Bwd Segment Size Avg', \n",
    "#                       'Fwd Packet/Bulk Avg', \n",
    "#                       'Fwd URG Flags', \n",
    "#                       'URG Flag Count', \n",
    "#                       'Active Mean', \n",
    "#                       'ECE Flag Count', \n",
    "#                       'Fwd Bytes/Bulk Avg', \n",
    "#                       'ACK Flag Count', \n",
    "#                       'Fwd Packets/s', \n",
    "#                       'Bwd Packet Length Std', \n",
    "#                       'Subflow Bwd Bytes', \n",
    "#                       'Fwd IAT Std', \n",
    "#                       'Bwd IAT Std', \n",
    "#                       'Fwd IAT Mean', \n",
    "#                       'Active Std', \n",
    "#                       'Packet Length Mean', \n",
    "#                       'Fwd IAT Max', \n",
    "#                       'Fwd Segment Size Avg'\n",
    "# ]\n",
    "\n",
    "# # After combining all the above, we get final list of features to remove\n",
    "# features_to_remove_merged = ['Active Max', \n",
    "#                       'Subflow Bwd Packets', \n",
    "#                       'Bwd IAT Max', \n",
    "#                       'Active Min', \n",
    "#                       'Idle Min', \n",
    "#                       # 'Fwd Bulk Rate Avg', \n",
    "#                       'Bwd PSH Flags', \n",
    "#                       'Packet Length Min', \n",
    "#                       'Bwd URG Flags', \n",
    "#                       'Idle Max', \n",
    "#                       'Fwd IAT Total', \n",
    "#                       # 'Bwd Bytes/Bulk Avg', \n",
    "#                       # 'Bwd Segment Size Avg', \n",
    "#                       # 'Fwd Packet/Bulk Avg', \n",
    "#                       'Fwd URG Flags', \n",
    "#                       'URG Flag Count', \n",
    "#                       'Active Mean', \n",
    "#                       'ECE Flag Count', \n",
    "#                       # 'Fwd Bytes/Bulk Avg', \n",
    "#                       'ACK Flag Count', \n",
    "#                       'Fwd Packets/s', \n",
    "#                       'Bwd Packet Length Std', \n",
    "#                       'Subflow Bwd Bytes', \n",
    "#                       'Fwd IAT Std', \n",
    "#                       'Bwd IAT Std', \n",
    "#                       'Fwd IAT Mean', \n",
    "#                       'Active Std', \n",
    "#                       'Packet Length Mean', \n",
    "#                       'Fwd IAT Max', \n",
    "#                       # 'Fwd Segment Size Avg',\n",
    "#                       \"Unnamed: 0\", \n",
    "#                       'Bwd PSH Flags', \n",
    "#                       'Fwd URG Flags', \n",
    "#                       'Bwd URG Flags', \n",
    "#                       'FIN Flag Count', \n",
    "#                       'PSH Flag Count', \n",
    "#                       'ECE Flag Count', \n",
    "#                       'Fwd Avg Bytes/Bulk', \n",
    "#                       'Fwd Avg Packets/Bulk', \n",
    "#                       'Fwd Avg Bulk Rate', \n",
    "#                       'Bwd Avg Bytes/Bulk', \n",
    "#                       'Bwd Avg Packets/Bulk', \n",
    "#                       'Bwd Avg Bulk Rate',\n",
    "#                       #'Label'\n",
    "#                       ]\n",
    "\n",
    "features_to_be_remove = ['Active Max',\n",
    " 'Subflow Bwd Pkts',\n",
    " 'Bwd IAT Max',\n",
    " 'Active Min',\n",
    " 'Idle Min',\n",
    " 'Bwd PSH Flags',\n",
    " 'Fwd IAT Min',\n",
    " 'Bwd URG Flags',\n",
    " 'Idle Max',\n",
    " 'Fwd IAT Tot',\n",
    " 'Fwd URG Flags',\n",
    " 'URG Flag Cnt',\n",
    " 'Active Mean',\n",
    " 'CWE Flag Count',\n",
    " 'ACK Flag Cnt',\n",
    " 'Fwd Pkts/s',\n",
    " 'Tot Bwd Pkts',\n",
    " 'Subflow Bwd Byts',\n",
    " 'Fwd IAT Std',\n",
    " 'Bwd IAT Std',\n",
    " 'Fwd IAT Mean',\n",
    " 'Active Std',\n",
    " 'Fwd IAT Mean',\n",
    " 'Fwd IAT Max',\n",
    " 'Bwd PSH Flags',\n",
    " 'Fwd URG Flags',\n",
    " 'Bwd URG Flags',\n",
    " 'FIN Flag Cnt',\n",
    " 'PSH Flag Cnt',\n",
    " 'CWE Flag Count',\n",
    " 'Tot Fwd Pkts',\n",
    " 'Tot Fwd Pkts',\n",
    " 'Fwd Blk Rate Avg',\n",
    " 'Tot Bwd Pkts',\n",
    " 'Tot Bwd Pkts',\n",
    " 'Bwd Blk Rate Avg']\n",
    "                      \n",
    "\n",
    "df.drop(columns=features_to_be_remove, inplace=True)\n"
   ]
  },
  {
   "cell_type": "code",
   "execution_count": 22,
   "id": "e3cb3fe7-219d-455e-87e3-85d28220ebff",
   "metadata": {},
   "outputs": [
    {
     "data": {
      "text/plain": [
       "Index(['Dst Port', 'Protocol', 'Timestamp', 'Flow Duration', 'TotLen Fwd Pkts',\n",
       "       'TotLen Bwd Pkts', 'Fwd Pkt Len Max', 'Fwd Pkt Len Min',\n",
       "       'Fwd Pkt Len Mean', 'Fwd Pkt Len Std', 'Bwd Pkt Len Max',\n",
       "       'Bwd Pkt Len Min', 'Bwd Pkt Len Mean', 'Bwd Pkt Len Std', 'Flow Byts/s',\n",
       "       'Flow Pkts/s', 'Flow IAT Mean', 'Flow IAT Std', 'Flow IAT Max',\n",
       "       'Flow IAT Min', 'Bwd IAT Tot', 'Bwd IAT Mean', 'Bwd IAT Min',\n",
       "       'Fwd PSH Flags', 'Fwd Header Len', 'Bwd Header Len', 'Bwd Pkts/s',\n",
       "       'Pkt Len Min', 'Pkt Len Max', 'Pkt Len Mean', 'Pkt Len Std',\n",
       "       'Pkt Len Var', 'SYN Flag Cnt', 'RST Flag Cnt', 'ECE Flag Cnt',\n",
       "       'Down/Up Ratio', 'Pkt Size Avg', 'Fwd Seg Size Avg', 'Bwd Seg Size Avg',\n",
       "       'Fwd Byts/b Avg', 'Fwd Pkts/b Avg', 'Bwd Byts/b Avg', 'Bwd Pkts/b Avg',\n",
       "       'Subflow Fwd Pkts', 'Subflow Fwd Byts', 'Init Fwd Win Byts',\n",
       "       'Init Bwd Win Byts', 'Fwd Act Data Pkts', 'Fwd Seg Size Min',\n",
       "       'Idle Mean', 'Idle Std', 'Label'],\n",
       "      dtype='object')"
      ]
     },
     "execution_count": 22,
     "metadata": {},
     "output_type": "execute_result"
    }
   ],
   "source": [
    "df.columns"
   ]
  },
  {
   "cell_type": "code",
   "execution_count": 23,
   "id": "952ad3e1-6952-4200-9e27-5e9f12d14e7f",
   "metadata": {},
   "outputs": [
    {
     "name": "stdout",
     "output_type": "stream",
     "text": [
      "<class 'pandas.core.frame.DataFrame'>\n",
      "Index: 902727 entries, 0 to 1007613\n",
      "Data columns (total 52 columns):\n",
      " #   Column             Non-Null Count   Dtype \n",
      "---  ------             --------------   ----- \n",
      " 0   Dst Port           902727 non-null  object\n",
      " 1   Protocol           902727 non-null  object\n",
      " 2   Timestamp          902727 non-null  object\n",
      " 3   Flow Duration      902727 non-null  object\n",
      " 4   TotLen Fwd Pkts    902727 non-null  object\n",
      " 5   TotLen Bwd Pkts    902727 non-null  object\n",
      " 6   Fwd Pkt Len Max    902727 non-null  object\n",
      " 7   Fwd Pkt Len Min    902727 non-null  object\n",
      " 8   Fwd Pkt Len Mean   902727 non-null  object\n",
      " 9   Fwd Pkt Len Std    902727 non-null  object\n",
      " 10  Bwd Pkt Len Max    902727 non-null  object\n",
      " 11  Bwd Pkt Len Min    902727 non-null  object\n",
      " 12  Bwd Pkt Len Mean   902727 non-null  object\n",
      " 13  Bwd Pkt Len Std    902727 non-null  object\n",
      " 14  Flow Byts/s        902727 non-null  object\n",
      " 15  Flow Pkts/s        902727 non-null  object\n",
      " 16  Flow IAT Mean      902727 non-null  object\n",
      " 17  Flow IAT Std       902727 non-null  object\n",
      " 18  Flow IAT Max       902727 non-null  object\n",
      " 19  Flow IAT Min       902727 non-null  object\n",
      " 20  Bwd IAT Tot        902727 non-null  object\n",
      " 21  Bwd IAT Mean       902727 non-null  object\n",
      " 22  Bwd IAT Min        902727 non-null  object\n",
      " 23  Fwd PSH Flags      902727 non-null  object\n",
      " 24  Fwd Header Len     902727 non-null  object\n",
      " 25  Bwd Header Len     902727 non-null  object\n",
      " 26  Bwd Pkts/s         902727 non-null  object\n",
      " 27  Pkt Len Min        902727 non-null  object\n",
      " 28  Pkt Len Max        902727 non-null  object\n",
      " 29  Pkt Len Mean       902727 non-null  object\n",
      " 30  Pkt Len Std        902727 non-null  object\n",
      " 31  Pkt Len Var        902727 non-null  object\n",
      " 32  SYN Flag Cnt       902727 non-null  object\n",
      " 33  RST Flag Cnt       902727 non-null  object\n",
      " 34  ECE Flag Cnt       902727 non-null  object\n",
      " 35  Down/Up Ratio      902727 non-null  object\n",
      " 36  Pkt Size Avg       902727 non-null  object\n",
      " 37  Fwd Seg Size Avg   902727 non-null  object\n",
      " 38  Bwd Seg Size Avg   902727 non-null  object\n",
      " 39  Fwd Byts/b Avg     902727 non-null  object\n",
      " 40  Fwd Pkts/b Avg     902727 non-null  object\n",
      " 41  Bwd Byts/b Avg     902727 non-null  object\n",
      " 42  Bwd Pkts/b Avg     902727 non-null  object\n",
      " 43  Subflow Fwd Pkts   902727 non-null  object\n",
      " 44  Subflow Fwd Byts   902727 non-null  object\n",
      " 45  Init Fwd Win Byts  902727 non-null  object\n",
      " 46  Init Bwd Win Byts  902727 non-null  object\n",
      " 47  Fwd Act Data Pkts  902727 non-null  object\n",
      " 48  Fwd Seg Size Min   902727 non-null  object\n",
      " 49  Idle Mean          902727 non-null  object\n",
      " 50  Idle Std           902727 non-null  object\n",
      " 51  Label              902727 non-null  object\n",
      "dtypes: object(52)\n",
      "memory usage: 365.0+ MB\n"
     ]
    }
   ],
   "source": [
    "df.info()"
   ]
  },
  {
   "cell_type": "code",
   "execution_count": 18,
   "id": "69b1903a-dada-41f8-844e-5bbb64cd81af",
   "metadata": {},
   "outputs": [],
   "source": [
    "# from sklearn.preprocessing import LabelEncoder\n",
    "\n",
    "# # Initialize LabelEncoder\n",
    "# label_encoder = LabelEncoder()\n",
    "\n",
    "# # Fit label encoder and transform labels\n",
    "# df['Label'] = label_encoder.fit_transform(df['Label'])\n",
    "\n",
    "# # Print the encoded labels\n",
    "# print(\"Encoded labels:\")\n",
    "# print(df['Label'].unique())\n"
   ]
  },
  {
   "cell_type": "code",
   "execution_count": 24,
   "id": "19654e53-3c86-498d-ab22-0dbd04166137",
   "metadata": {},
   "outputs": [],
   "source": [
    "# # Plot with respect to Class\n",
    "\n",
    "# import pandas as pd\n",
    "# import matplotlib.pyplot as plt\n",
    "\n",
    "# # Group the data by \"Class\"\n",
    "# grouped = df.groupby('Class')\n",
    "\n",
    "# # Plot the data for each feature\n",
    "# for feature in df.columns[:-1]:  # Exclude the last column \"Class\"\n",
    "#     plt.figure(figsize=(10, 6))\n",
    "#     for name, group in grouped:\n",
    "#         plt.plot(group.index, group[feature], label=name)\n",
    "#     plt.title(f'Plot for {feature}')\n",
    "#     plt.xlabel('Index')\n",
    "#     plt.ylabel(feature)\n",
    "#     plt.legend()\n",
    "#     plt.show()\n",
    "\n",
    "# # Calculate the variance of each feature for different classes\n",
    "# variance_by_class = grouped.var()\n",
    "# print(\"Variance of each feature for different classes:\")\n",
    "# print(variance_by_class)\n"
   ]
  },
  {
   "cell_type": "code",
   "execution_count": 25,
   "id": "8e1f1490-007a-4667-a1fe-e5db759cf150",
   "metadata": {},
   "outputs": [],
   "source": [
    "# Using Recursive Feature Elimination with Cross-Validation (RFECV) for feature selection\n",
    "\n",
    "# from sklearn.feature_selection import RFECV\n",
    "# from sklearn.ensemble import RandomForestClassifier\n",
    "\n",
    "# # Assuming X contains the feature columns and y contains the target variable\n",
    "# X = df.drop(columns=['Class'])  # Features\n",
    "# y = df['Class']  # Target\n",
    "\n",
    "# # Create a RandomForestClassifier as the estimator\n",
    "# estimator = RandomForestClassifier()\n",
    "\n",
    "# # Initialize RFECV with the RandomForestClassifier estimator and cross-validation strategy\n",
    "# rfecv = RFECV(estimator, cv=5)\n",
    "\n",
    "# # Fit RFECV to the data\n",
    "# rfecv.fit(X, y)\n",
    "\n",
    "# # Print the selected features\n",
    "# selected_features_rfecv = X.columns[rfecv.support_]\n",
    "# print(\"Selected features using RFECV:\")\n",
    "# print(selected_features_rfecv)\n"
   ]
  },
  {
   "cell_type": "code",
   "execution_count": 24,
   "id": "8d43bd12-466a-4899-b223-a6cfb1722c56",
   "metadata": {},
   "outputs": [
    {
     "name": "stderr",
     "output_type": "stream",
     "text": [
      "/tmp/ipykernel_3996/918637490.py:3: FutureWarning: A value is trying to be set on a copy of a DataFrame or Series through chained assignment using an inplace method.\n",
      "The behavior will change in pandas 3.0. This inplace method will never work because the intermediate object on which we are setting values always behaves as a copy.\n",
      "\n",
      "For example, when doing 'df[col].method(value, inplace=True)', try using 'df.method({col: value}, inplace=True)' or df[col] = df[col].method(value) instead, to perform the operation inplace on the original object.\n",
      "\n",
      "\n",
      "  df['Label'].replace({'Malicious': 1, 'Benign': 0}, inplace=True)\n",
      "/tmp/ipykernel_3996/918637490.py:3: FutureWarning: Downcasting behavior in `replace` is deprecated and will be removed in a future version. To retain the old behavior, explicitly call `result.infer_objects(copy=False)`. To opt-in to the future behavior, set `pd.set_option('future.no_silent_downcasting', True)`\n",
      "  df['Label'].replace({'Malicious': 1, 'Benign': 0}, inplace=True)\n"
     ]
    }
   ],
   "source": [
    "# Replace 'Attack' with 1 and 'Benign' with 0 in the 'Class' column\n",
    "\n",
    "df['Label'].replace({'Malicious': 1, 'Benign': 0}, inplace=True)"
   ]
  },
  {
   "cell_type": "code",
   "execution_count": 25,
   "id": "555dd4d9-c335-4301-ae12-866cfa947a18",
   "metadata": {},
   "outputs": [
    {
     "data": {
      "text/plain": [
       "Label\n",
       "1    455975\n",
       "0    446752\n",
       "Name: count, dtype: int64"
      ]
     },
     "execution_count": 25,
     "metadata": {},
     "output_type": "execute_result"
    }
   ],
   "source": [
    "df[\"Label\"].value_counts()"
   ]
  },
  {
   "cell_type": "code",
   "execution_count": 26,
   "id": "8eb4046b-b213-4522-9f75-ceb2a3deef52",
   "metadata": {},
   "outputs": [],
   "source": [
    "# Seperate Test and Train data\n",
    "\n",
    "# from sklearn.model_selection import train_test_split\n",
    "\n",
    "# train, test = train_test_split(df, test_size=0.2, random_state=42, shuffle=False)"
   ]
  },
  {
   "cell_type": "code",
   "execution_count": 27,
   "id": "f05486e6-dd87-4299-8868-9206288081a7",
   "metadata": {},
   "outputs": [],
   "source": [
    "train = df[:700000]\n",
    "validation = df[700000:]"
   ]
  },
  {
   "cell_type": "code",
   "execution_count": 28,
   "id": "dbbbfc13-2e30-4c68-b3d5-314e7bf6ac02",
   "metadata": {},
   "outputs": [
    {
     "data": {
      "text/plain": [
       "Label\n",
       "1    356982\n",
       "0    343018\n",
       "Name: count, dtype: int64"
      ]
     },
     "execution_count": 28,
     "metadata": {},
     "output_type": "execute_result"
    }
   ],
   "source": [
    "train[\"Label\"].value_counts()"
   ]
  },
  {
   "cell_type": "code",
   "execution_count": 29,
   "id": "eba57885-9a64-4307-b3cb-2162f8f6a81d",
   "metadata": {},
   "outputs": [
    {
     "data": {
      "text/plain": [
       "Label\n",
       "0    103734\n",
       "1     98993\n",
       "Name: count, dtype: int64"
      ]
     },
     "execution_count": 29,
     "metadata": {},
     "output_type": "execute_result"
    }
   ],
   "source": [
    "validation[\"Label\"].value_counts()"
   ]
  },
  {
   "cell_type": "code",
   "execution_count": 30,
   "id": "8c06e85f-31e2-4f06-8ea9-3c540db82a71",
   "metadata": {},
   "outputs": [],
   "source": [
    "X_train = train.drop(\"Label\", axis=1)\n",
    "y_train = train[\"Label\"]"
   ]
  },
  {
   "cell_type": "code",
   "execution_count": 42,
   "id": "11a74476-5c1e-4bd2-b680-270ba63a35f2",
   "metadata": {},
   "outputs": [],
   "source": [
    "from datetime import datetime\n",
    "\n",
    "# Function to convert timestamp string to Unix timestamp\n",
    "def convert_timestamp_to_int(timestamp):\n",
    "    dt = datetime.strptime(timestamp, '%d/%m/%Y %H:%M:%S')\n",
    "    unix_timestamp = int(dt.timestamp())\n",
    "    return unix_timestamp\n",
    "\n",
    "# Apply the function to the 'Timestamp' column\n",
    "X_train['Timestamp'] = X_train['Timestamp'].apply(convert_timestamp_to_int)"
   ]
  },
  {
   "cell_type": "code",
   "execution_count": 43,
   "id": "7baf7628-72ba-468b-8001-8ad78cb7fca3",
   "metadata": {},
   "outputs": [],
   "source": [
    "# Apply minmax scalar to train features\n",
    "\n",
    "from sklearn.preprocessing import MinMaxScaler\n",
    "\n",
    "scaler = MinMaxScaler()\n",
    "X_train_scaled = pd.DataFrame(scaler.fit_transform(X_train))"
   ]
  },
  {
   "cell_type": "code",
   "execution_count": 44,
   "id": "283752cc-651e-4b21-b6f0-6c2454997331",
   "metadata": {},
   "outputs": [
    {
     "name": "stdout",
     "output_type": "stream",
     "text": [
      "<class 'pandas.core.frame.DataFrame'>\n",
      "RangeIndex: 700000 entries, 0 to 699999\n",
      "Data columns (total 51 columns):\n",
      " #   Column  Non-Null Count   Dtype  \n",
      "---  ------  --------------   -----  \n",
      " 0   0       700000 non-null  float64\n",
      " 1   1       700000 non-null  float64\n",
      " 2   2       700000 non-null  float64\n",
      " 3   3       700000 non-null  float64\n",
      " 4   4       700000 non-null  float64\n",
      " 5   5       700000 non-null  float64\n",
      " 6   6       700000 non-null  float64\n",
      " 7   7       700000 non-null  float64\n",
      " 8   8       700000 non-null  float64\n",
      " 9   9       700000 non-null  float64\n",
      " 10  10      700000 non-null  float64\n",
      " 11  11      700000 non-null  float64\n",
      " 12  12      700000 non-null  float64\n",
      " 13  13      700000 non-null  float64\n",
      " 14  14      700000 non-null  float64\n",
      " 15  15      700000 non-null  float64\n",
      " 16  16      700000 non-null  float64\n",
      " 17  17      700000 non-null  float64\n",
      " 18  18      700000 non-null  float64\n",
      " 19  19      700000 non-null  float64\n",
      " 20  20      700000 non-null  float64\n",
      " 21  21      700000 non-null  float64\n",
      " 22  22      700000 non-null  float64\n",
      " 23  23      700000 non-null  float64\n",
      " 24  24      700000 non-null  float64\n",
      " 25  25      700000 non-null  float64\n",
      " 26  26      700000 non-null  float64\n",
      " 27  27      700000 non-null  float64\n",
      " 28  28      700000 non-null  float64\n",
      " 29  29      700000 non-null  float64\n",
      " 30  30      700000 non-null  float64\n",
      " 31  31      700000 non-null  float64\n",
      " 32  32      700000 non-null  float64\n",
      " 33  33      700000 non-null  float64\n",
      " 34  34      700000 non-null  float64\n",
      " 35  35      700000 non-null  float64\n",
      " 36  36      700000 non-null  float64\n",
      " 37  37      700000 non-null  float64\n",
      " 38  38      700000 non-null  float64\n",
      " 39  39      700000 non-null  float64\n",
      " 40  40      700000 non-null  float64\n",
      " 41  41      700000 non-null  float64\n",
      " 42  42      700000 non-null  float64\n",
      " 43  43      700000 non-null  float64\n",
      " 44  44      700000 non-null  float64\n",
      " 45  45      700000 non-null  float64\n",
      " 46  46      700000 non-null  float64\n",
      " 47  47      700000 non-null  float64\n",
      " 48  48      700000 non-null  float64\n",
      " 49  49      700000 non-null  float64\n",
      " 50  50      700000 non-null  float64\n",
      "dtypes: float64(51)\n",
      "memory usage: 272.4 MB\n",
      "<class 'pandas.core.series.Series'>\n",
      "Index: 700000 entries, 0 to 794906\n",
      "Series name: Label\n",
      "Non-Null Count   Dtype\n",
      "--------------   -----\n",
      "700000 non-null  int64\n",
      "dtypes: int64(1)\n",
      "memory usage: 10.7 MB\n"
     ]
    }
   ],
   "source": [
    "X_train_scaled.info()\n",
    "y_train.info()"
   ]
  },
  {
   "cell_type": "code",
   "execution_count": 46,
   "id": "4b1b36bd-90e6-4e35-9376-1148df43d989",
   "metadata": {},
   "outputs": [
    {
     "name": "stderr",
     "output_type": "stream",
     "text": [
      "2024-06-28 16:22:21.580506: I external/local_tsl/tsl/cuda/cudart_stub.cc:32] Could not find cuda drivers on your machine, GPU will not be used.\n",
      "2024-06-28 16:22:21.813862: I external/local_tsl/tsl/cuda/cudart_stub.cc:32] Could not find cuda drivers on your machine, GPU will not be used.\n",
      "2024-06-28 16:22:22.796583: I tensorflow/core/platform/cpu_feature_guard.cc:210] This TensorFlow binary is optimized to use available CPU instructions in performance-critical operations.\n",
      "To enable the following instructions: AVX2 FMA, in other operations, rebuild TensorFlow with the appropriate compiler flags.\n",
      "2024-06-28 16:22:24.949130: W tensorflow/compiler/tf2tensorrt/utils/py_utils.cc:38] TF-TRT Warning: Could not find TensorRT\n"
     ]
    }
   ],
   "source": [
    "# LSTM Model\n",
    "\n",
    "from tensorflow.keras.models import Sequential\n",
    "from tensorflow.keras.layers import LSTM, Dense, Dropout\n",
    "\n",
    "def LSTM_model(input_size):\n",
    "    # Initialize the constructor\n",
    "    model = Sequential()\n",
    "    \n",
    "    # Add layers to the model\n",
    "    model.add(LSTM(64, input_shape=(input_size, 1), return_sequences=False))\n",
    "    model.add(Dropout(0.5))\n",
    "    model.add(Dense(16, activation='relu'))\n",
    "    model.add(Dense(1, activation='sigmoid'))\n",
    "    \n",
    "    # Compile the model\n",
    "    model.compile(optimizer='adam', loss='binary_crossentropy', metrics=['accuracy'])\n",
    "    \n",
    "    return model"
   ]
  },
  {
   "cell_type": "code",
   "execution_count": 47,
   "id": "598e3f27-0615-44b3-9481-a93fd6f3acec",
   "metadata": {},
   "outputs": [
    {
     "name": "stderr",
     "output_type": "stream",
     "text": [
      "/home/bishal/.local/lib/python3.12/site-packages/keras/src/layers/rnn/rnn.py:204: UserWarning: Do not pass an `input_shape`/`input_dim` argument to a layer. When using Sequential models, prefer using an `Input(shape)` object as the first layer in the model instead.\n",
      "  super().__init__(**kwargs)\n"
     ]
    }
   ],
   "source": [
    "model_lstm = LSTM_model(49)"
   ]
  },
  {
   "cell_type": "code",
   "execution_count": 48,
   "id": "8752e8b6-2539-4646-a991-e8d280a3b286",
   "metadata": {},
   "outputs": [
    {
     "name": "stdout",
     "output_type": "stream",
     "text": [
      "Epoch 1/20\n"
     ]
    },
    {
     "name": "stderr",
     "output_type": "stream",
     "text": [
      "2024-06-28 16:24:13.266430: W external/local_tsl/tsl/framework/cpu_allocator_impl.cc:83] Allocation of 114240000 exceeds 10% of free system memory.\n"
     ]
    },
    {
     "name": "stdout",
     "output_type": "stream",
     "text": [
      "\u001b[1m547/547\u001b[0m \u001b[32m━━━━━━━━━━━━━━━━━━━━\u001b[0m\u001b[37m\u001b[0m \u001b[1m89s\u001b[0m 161ms/step - accuracy: 0.6609 - loss: 0.7275 - val_accuracy: 0.5192 - val_loss: 0.6930\n",
      "Epoch 2/20\n",
      "\u001b[1m547/547\u001b[0m \u001b[32m━━━━━━━━━━━━━━━━━━━━\u001b[0m\u001b[37m\u001b[0m \u001b[1m80s\u001b[0m 146ms/step - accuracy: 0.5672 - loss: 0.6896 - val_accuracy: 0.5192 - val_loss: 0.6930\n",
      "Epoch 3/20\n",
      "\u001b[1m547/547\u001b[0m \u001b[32m━━━━━━━━━━━━━━━━━━━━\u001b[0m\u001b[37m\u001b[0m \u001b[1m79s\u001b[0m 145ms/step - accuracy: 0.5471 - loss: 0.6919 - val_accuracy: 0.5192 - val_loss: 0.6931\n",
      "Epoch 4/20\n",
      "\u001b[1m547/547\u001b[0m \u001b[32m━━━━━━━━━━━━━━━━━━━━\u001b[0m\u001b[37m\u001b[0m \u001b[1m83s\u001b[0m 151ms/step - accuracy: 0.5638 - loss: 0.6909 - val_accuracy: 0.4808 - val_loss: 0.6932\n",
      "Epoch 5/20\n",
      "\u001b[1m547/547\u001b[0m \u001b[32m━━━━━━━━━━━━━━━━━━━━\u001b[0m\u001b[37m\u001b[0m \u001b[1m81s\u001b[0m 148ms/step - accuracy: 0.6105 - loss: 0.6905 - val_accuracy: 0.4808 - val_loss: 0.6933\n",
      "Epoch 6/20\n",
      "\u001b[1m547/547\u001b[0m \u001b[32m━━━━━━━━━━━━━━━━━━━━\u001b[0m\u001b[37m\u001b[0m \u001b[1m81s\u001b[0m 148ms/step - accuracy: 0.6119 - loss: 0.6902 - val_accuracy: 0.4808 - val_loss: 0.6933\n",
      "Epoch 7/20\n",
      "\u001b[1m547/547\u001b[0m \u001b[32m━━━━━━━━━━━━━━━━━━━━\u001b[0m\u001b[37m\u001b[0m \u001b[1m81s\u001b[0m 148ms/step - accuracy: 0.6131 - loss: 0.6899 - val_accuracy: 0.4808 - val_loss: 0.6933\n",
      "Epoch 8/20\n",
      "\u001b[1m547/547\u001b[0m \u001b[32m━━━━━━━━━━━━━━━━━━━━\u001b[0m\u001b[37m\u001b[0m \u001b[1m81s\u001b[0m 149ms/step - accuracy: 0.6135 - loss: 0.6898 - val_accuracy: 0.4808 - val_loss: 0.6934\n",
      "Epoch 9/20\n",
      "\u001b[1m547/547\u001b[0m \u001b[32m━━━━━━━━━━━━━━━━━━━━\u001b[0m\u001b[37m\u001b[0m \u001b[1m82s\u001b[0m 149ms/step - accuracy: 0.6134 - loss: 0.6898 - val_accuracy: 0.4808 - val_loss: 0.6934\n",
      "Epoch 10/20\n",
      "\u001b[1m547/547\u001b[0m \u001b[32m━━━━━━━━━━━━━━━━━━━━\u001b[0m\u001b[37m\u001b[0m \u001b[1m83s\u001b[0m 152ms/step - accuracy: 0.6141 - loss: 0.6897 - val_accuracy: 0.4808 - val_loss: 0.6934\n",
      "Epoch 11/20\n",
      "\u001b[1m547/547\u001b[0m \u001b[32m━━━━━━━━━━━━━━━━━━━━\u001b[0m\u001b[37m\u001b[0m \u001b[1m82s\u001b[0m 149ms/step - accuracy: 0.6142 - loss: 0.6897 - val_accuracy: 0.4808 - val_loss: 0.6934\n",
      "Epoch 12/20\n",
      "\u001b[1m547/547\u001b[0m \u001b[32m━━━━━━━━━━━━━━━━━━━━\u001b[0m\u001b[37m\u001b[0m \u001b[1m82s\u001b[0m 149ms/step - accuracy: 0.6143 - loss: 0.6897 - val_accuracy: 0.4808 - val_loss: 0.6934\n",
      "Epoch 13/20\n",
      "\u001b[1m547/547\u001b[0m \u001b[32m━━━━━━━━━━━━━━━━━━━━\u001b[0m\u001b[37m\u001b[0m \u001b[1m82s\u001b[0m 150ms/step - accuracy: 0.6143 - loss: 0.6897 - val_accuracy: 0.4808 - val_loss: 0.6934\n",
      "Epoch 14/20\n",
      "\u001b[1m547/547\u001b[0m \u001b[32m━━━━━━━━━━━━━━━━━━━━\u001b[0m\u001b[37m\u001b[0m \u001b[1m82s\u001b[0m 150ms/step - accuracy: 0.6147 - loss: 0.6897 - val_accuracy: 0.4808 - val_loss: 0.6934\n",
      "Epoch 15/20\n",
      "\u001b[1m547/547\u001b[0m \u001b[32m━━━━━━━━━━━━━━━━━━━━\u001b[0m\u001b[37m\u001b[0m \u001b[1m82s\u001b[0m 150ms/step - accuracy: 0.6154 - loss: 0.6898 - val_accuracy: 0.5192 - val_loss: 0.6926\n",
      "Epoch 16/20\n",
      "\u001b[1m547/547\u001b[0m \u001b[32m━━━━━━━━━━━━━━━━━━━━\u001b[0m\u001b[37m\u001b[0m \u001b[1m82s\u001b[0m 151ms/step - accuracy: 0.8106 - loss: 0.3952 - val_accuracy: 1.0000 - val_loss: 3.0446e-04\n",
      "Epoch 17/20\n",
      "\u001b[1m547/547\u001b[0m \u001b[32m━━━━━━━━━━━━━━━━━━━━\u001b[0m\u001b[37m\u001b[0m \u001b[1m82s\u001b[0m 151ms/step - accuracy: 0.9146 - loss: 0.3175 - val_accuracy: 1.0000 - val_loss: 0.0019\n",
      "Epoch 18/20\n",
      "\u001b[1m547/547\u001b[0m \u001b[32m━━━━━━━━━━━━━━━━━━━━\u001b[0m\u001b[37m\u001b[0m \u001b[1m83s\u001b[0m 151ms/step - accuracy: 0.9964 - loss: 0.0209 - val_accuracy: 1.0000 - val_loss: 4.4914e-04\n",
      "Epoch 19/20\n",
      "\u001b[1m547/547\u001b[0m \u001b[32m━━━━━━━━━━━━━━━━━━━━\u001b[0m\u001b[37m\u001b[0m \u001b[1m83s\u001b[0m 151ms/step - accuracy: 0.9980 - loss: 0.0167 - val_accuracy: 1.0000 - val_loss: 2.1698e-04\n",
      "Epoch 20/20\n",
      "\u001b[1m547/547\u001b[0m \u001b[32m━━━━━━━━━━━━━━━━━━━━\u001b[0m\u001b[37m\u001b[0m \u001b[1m83s\u001b[0m 152ms/step - accuracy: 0.9980 - loss: 0.0169 - val_accuracy: 1.0000 - val_loss: 1.3517e-04\n"
     ]
    }
   ],
   "source": [
    "# Fit the data\n",
    "\n",
    "import numpy as np\n",
    "\n",
    "history_lstm = model_lstm.fit(X_train_scaled, y_train, epochs=20, batch_size=1024, validation_split=0.2, shuffle=False)\n",
    "model_lstm.save(\"lstm_model_1.keras\")"
   ]
  },
  {
   "cell_type": "code",
   "execution_count": 49,
   "id": "0b719b20-a9fd-456a-8bf0-a56b3df2d4f7",
   "metadata": {},
   "outputs": [
    {
     "data": {
      "image/png": "[encoded data removed]",
      "text/plain": [
       "<Figure size 640x480 with 1 Axes>"
      ]
     },
     "metadata": {},
     "output_type": "display_data"
    }
   ],
   "source": [
    "import matplotlib.pyplot as plt\n",
    "\n",
    "plt.plot(history_lstm.history[\"accuracy\"])\n",
    "plt.plot(history_lstm.history[\"val_accuracy\"])\n",
    "plt.title(\"LSTM model For DDoS detection [Accuracy]\")\n",
    "plt.ylabel(\"Accuracy\")\n",
    "plt.xlabel(\"Epoch\")\n",
    "plt.legend([\"Train\", \"Validation\"], loc=\"lower right\")\n",
    "\n",
    "plt.show()"
   ]
  },
  {
   "cell_type": "code",
   "execution_count": 50,
   "id": "2cd975fe-6271-4169-8abc-5d4de9e18667",
   "metadata": {},
   "outputs": [
    {
     "data": {
      "image/png": "[encoded data removed]",
      "text/plain": [
       "<Figure size 640x480 with 1 Axes>"
      ]
     },
     "metadata": {},
     "output_type": "display_data"
    }
   ],
   "source": [
    "import matplotlib.pyplot as plt\n",
    "\n",
    "plt.plot(history_lstm.history[\"loss\"])\n",
    "plt.plot(history_lstm.history[\"val_loss\"])\n",
    "plt.title(\"LSTM model For DDoS detection [Loss]\")\n",
    "plt.ylabel(\"Loss\")\n",
    "plt.xlabel(\"Epoch\")\n",
    "plt.legend([\"Train\", \"Validation\"], loc=\"upper right\") \n",
    "\n",
    "plt.show()"
   ]
  },
  {
   "cell_type": "code",
   "execution_count": 51,
   "id": "3970ad62-c29e-4dfc-9474-b960743459f6",
   "metadata": {},
   "outputs": [],
   "source": [
    "X_test = validation.drop(\"Label\", axis=1)\n",
    "y_test = validation[\"Label\"]"
   ]
  },
  {
   "cell_type": "code",
   "execution_count": 52,
   "id": "a0f7524d-04c0-4070-b8c8-169919c6b4e3",
   "metadata": {},
   "outputs": [],
   "source": [
    "from datetime import datetime\n",
    "\n",
    "# Function to convert timestamp string to Unix timestamp\n",
    "def convert_timestamp_to_int(timestamp):\n",
    "    dt = datetime.strptime(timestamp, '%d/%m/%Y %H:%M:%S')\n",
    "    unix_timestamp = int(dt.timestamp())\n",
    "    return unix_timestamp\n",
    "\n",
    "# Apply the function to the 'Timestamp' column\n",
    "X_test['Timestamp'] = X_test['Timestamp'].apply(convert_timestamp_to_int)"
   ]
  },
  {
   "cell_type": "code",
   "execution_count": 53,
   "id": "160a6aac-7635-43a5-83e5-1dfbc94f1e6d",
   "metadata": {},
   "outputs": [],
   "source": [
    "# Apply minmax scalar to test features\n",
    "\n",
    "from sklearn.preprocessing import MinMaxScaler\n",
    "\n",
    "scaler = MinMaxScaler()\n",
    "X_test_scaled = pd.DataFrame(scaler.fit_transform(X_test))"
   ]
  },
  {
   "cell_type": "code",
   "execution_count": 54,
   "id": "794ebf17-819f-4683-8eb7-3f37d2c3b1c4",
   "metadata": {},
   "outputs": [
    {
     "name": "stdout",
     "output_type": "stream",
     "text": [
      "<class 'pandas.core.frame.DataFrame'>\n",
      "RangeIndex: 202727 entries, 0 to 202726\n",
      "Data columns (total 51 columns):\n",
      " #   Column  Non-Null Count   Dtype  \n",
      "---  ------  --------------   -----  \n",
      " 0   0       202727 non-null  float64\n",
      " 1   1       202727 non-null  float64\n",
      " 2   2       202727 non-null  float64\n",
      " 3   3       202727 non-null  float64\n",
      " 4   4       202727 non-null  float64\n",
      " 5   5       202727 non-null  float64\n",
      " 6   6       202727 non-null  float64\n",
      " 7   7       202727 non-null  float64\n",
      " 8   8       202727 non-null  float64\n",
      " 9   9       202727 non-null  float64\n",
      " 10  10      202727 non-null  float64\n",
      " 11  11      202727 non-null  float64\n",
      " 12  12      202727 non-null  float64\n",
      " 13  13      202727 non-null  float64\n",
      " 14  14      202727 non-null  float64\n",
      " 15  15      202727 non-null  float64\n",
      " 16  16      202727 non-null  float64\n",
      " 17  17      202727 non-null  float64\n",
      " 18  18      202727 non-null  float64\n",
      " 19  19      202727 non-null  float64\n",
      " 20  20      202727 non-null  float64\n",
      " 21  21      202727 non-null  float64\n",
      " 22  22      202727 non-null  float64\n",
      " 23  23      202727 non-null  float64\n",
      " 24  24      202727 non-null  float64\n",
      " 25  25      202727 non-null  float64\n",
      " 26  26      202727 non-null  float64\n",
      " 27  27      202727 non-null  float64\n",
      " 28  28      202727 non-null  float64\n",
      " 29  29      202727 non-null  float64\n",
      " 30  30      202727 non-null  float64\n",
      " 31  31      202727 non-null  float64\n",
      " 32  32      202727 non-null  float64\n",
      " 33  33      202727 non-null  float64\n",
      " 34  34      202727 non-null  float64\n",
      " 35  35      202727 non-null  float64\n",
      " 36  36      202727 non-null  float64\n",
      " 37  37      202727 non-null  float64\n",
      " 38  38      202727 non-null  float64\n",
      " 39  39      202727 non-null  float64\n",
      " 40  40      202727 non-null  float64\n",
      " 41  41      202727 non-null  float64\n",
      " 42  42      202727 non-null  float64\n",
      " 43  43      202727 non-null  float64\n",
      " 44  44      202727 non-null  float64\n",
      " 45  45      202727 non-null  float64\n",
      " 46  46      202727 non-null  float64\n",
      " 47  47      202727 non-null  float64\n",
      " 48  48      202727 non-null  float64\n",
      " 49  49      202727 non-null  float64\n",
      " 50  50      202727 non-null  float64\n",
      "dtypes: float64(51)\n",
      "memory usage: 78.9 MB\n",
      "<class 'pandas.core.series.Series'>\n",
      "Index: 202727 entries, 794907 to 1007613\n",
      "Series name: Label\n",
      "Non-Null Count   Dtype\n",
      "--------------   -----\n",
      "202727 non-null  int64\n",
      "dtypes: int64(1)\n",
      "memory usage: 3.1 MB\n"
     ]
    }
   ],
   "source": [
    "X_test_scaled.info()\n",
    "y_test.info()"
   ]
  },
  {
   "cell_type": "code",
   "execution_count": 55,
   "id": "85db7c48-9fd6-4c89-946a-384b2d3ed0ba",
   "metadata": {},
   "outputs": [],
   "source": [
    "from sklearn.metrics import confusion_matrix, accuracy_score, precision_score, recall_score, f1_score\n",
    "\n",
    "def evaluate(model, X_test, y_test):\n",
    "    y_pred = model.predict(X_test)\n",
    "    y_pred_binary = (y_pred > 0.5).astype(int)\n",
    "\n",
    "    # Generating confusion matrix\n",
    "    cm = confusion_matrix(y_test, y_pred_binary)\n",
    "    print(\"Confusion Matrix:\")\n",
    "    print(cm)\n",
    "\n",
    "    # Evaluation parameters\n",
    "    accuracy = accuracy_score(y_test, y_pred_binary)\n",
    "    precision = precision_score(y_test, y_pred_binary)\n",
    "    recall = recall_score(y_test, y_pred_binary)\n",
    "    f1 = f1_score(y_test, y_pred_binary)\n",
    "\n",
    "    print(\"Accuracy:\", accuracy)\n",
    "    print(\"Precision:\", precision)\n",
    "    print(\"Recall:\", recall)\n",
    "    print(\"F1 Score:\", f1)\n",
    "\n",
    "    return cm, y_pred"
   ]
  },
  {
   "cell_type": "code",
   "execution_count": 56,
   "id": "241789a6-f39d-4739-a0c7-679f0fdb7b02",
   "metadata": {},
   "outputs": [
    {
     "name": "stdout",
     "output_type": "stream",
     "text": [
      "\u001b[1m6336/6336\u001b[0m \u001b[32m━━━━━━━━━━━━━━━━━━━━\u001b[0m\u001b[37m\u001b[0m \u001b[1m28s\u001b[0m 4ms/step\n",
      "Confusion Matrix:\n",
      "[[103646     88]\n",
      " [     0  98993]]\n",
      "Accuracy: 0.9995659186985454\n",
      "Precision: 0.9991118377892835\n",
      "Recall: 1.0\n",
      "F1 Score: 0.9995557215989983\n"
     ]
    }
   ],
   "source": [
    "cm_lstm, y_pred_lstm = evaluate(model_lstm, X_test_scaled, y_test)"
   ]
  },
  {
   "cell_type": "code",
   "execution_count": 57,
   "id": "21204610-6412-48f7-957c-77b88656c0f6",
   "metadata": {},
   "outputs": [
    {
     "data": {
      "image/png": "[encoded data removed]",
      "text/plain": [
       "<Figure size 800x600 with 2 Axes>"
      ]
     },
     "metadata": {},
     "output_type": "display_data"
    }
   ],
   "source": [
    "import seaborn as sns\n",
    "import matplotlib.pyplot as plt\n",
    "\n",
    "# Plot confusion matrix\n",
    "plt.figure(figsize=(8, 6))\n",
    "sns.heatmap(cm_lstm, annot=True, cmap='Blues', fmt='g', \n",
    "            xticklabels=['Predicted Negative', 'Predicted Positive'], \n",
    "            yticklabels=['Actual Negative', 'Actual Positive'])\n",
    "plt.title('Confusion Matrix LSTM')\n",
    "plt.xlabel('Predicted label')\n",
    "plt.ylabel('True label')\n",
    "plt.show()"
   ]
  },
  {
   "cell_type": "code",
   "execution_count": 58,
   "id": "ad11d49f-1927-432e-a054-e91c27083e1a",
   "metadata": {},
   "outputs": [
    {
     "data": {
      "image/png": "[encoded data removed]",
      "text/plain": [
       "<Figure size 640x480 with 1 Axes>"
      ]
     },
     "metadata": {},
     "output_type": "display_data"
    }
   ],
   "source": [
    "from sklearn.metrics import roc_curve, auc\n",
    "import matplotlib.pyplot as plt\n",
    "\n",
    "# Plot ROC curve\n",
    "fpr, tpr, thresholds = roc_curve(y_test, y_pred_lstm)\n",
    "roc_auc = auc(fpr, tpr)\n",
    "\n",
    "plt.figure()\n",
    "plt.plot(fpr, tpr, color='darkorange', lw=2, label='ROC curve (area = %0.6f)' % roc_auc)\n",
    "plt.plot([0, 1], [0, 1], color='navy', lw=2, linestyle='--')\n",
    "plt.xlim([0.0, 1.0])\n",
    "plt.ylim([0.0, 1.05])\n",
    "plt.xlabel('False Positive Rate')\n",
    "plt.ylabel('True Positive Rate')\n",
    "plt.title('Receiver Operating Characteristic (ROC) LSTM')\n",
    "plt.legend(loc=\"lower right\")\n",
    "plt.show()"
   ]
  },
  {
   "cell_type": "code",
   "execution_count": 59,
   "id": "08f2dc3f-b822-40e5-b682-c8283ba81d23",
   "metadata": {},
   "outputs": [
    {
     "data": {
      "image/png": "[encoded data removed]",
      "text/plain": [
       "<Figure size 640x480 with 1 Axes>"
      ]
     },
     "metadata": {},
     "output_type": "display_data"
    }
   ],
   "source": [
    "from sklearn.metrics import precision_recall_curve, auc\n",
    "import matplotlib.pyplot as plt\n",
    "\n",
    "# Calculate precision-recall curve\n",
    "precision, recall, _ = precision_recall_curve(y_test, y_pred_lstm)\n",
    "pr_auc = auc(recall, precision)\n",
    "\n",
    "# Plot PR curve\n",
    "plt.figure()\n",
    "plt.plot(recall, precision, color='darkorange', lw=2, label='PR curve (area = %0.6f)' % pr_auc)\n",
    "plt.xlim([0.0, 1.0])\n",
    "plt.ylim([0.0, 1.05])\n",
    "plt.xlabel('Recall')\n",
    "plt.ylabel('Precision')\n",
    "plt.title('Precision-Recall Curve LSTM')\n",
    "plt.legend(loc=\"lower right\")\n",
    "plt.show()"
   ]
  },
  {
   "cell_type": "code",
   "execution_count": null,
   "id": "6ca7ac00-e569-47f7-9ea5-299c17c45cac",
   "metadata": {},
   "outputs": [],
   "source": []
  }
 ],
 "metadata": {
  "kernelspec": {
   "display_name": "Python 3 (ipykernel)",
   "language": "python",
   "name": "python3"
  },
  "language_info": {
   "codemirror_mode": {
    "name": "ipython",
    "version": 3
   },
   "file_extension": ".py",
   "mimetype": "text/x-python",
   "name": "python",
   "nbconvert_exporter": "python",
   "pygments_lexer": "ipython3",
   "version": "3.12.4"
  }
 },
 "nbformat": 4,
 "nbformat_minor": 5
}
