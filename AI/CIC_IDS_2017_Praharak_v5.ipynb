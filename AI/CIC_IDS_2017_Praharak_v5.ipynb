{
 "cells": [
  {
   "cell_type": "markdown",
   "id": "8c45ff74-9af1-4634-a521-714aa41cd592",
   "metadata": {},
   "source": [
    "## Read datasets"
   ]
  },
  {
   "cell_type": "code",
   "execution_count": 1,
   "id": "96387b00-615e-4739-a58b-c2e6ee0db698",
   "metadata": {},
   "outputs": [],
   "source": [
    "import pandas as pd"
   ]
  },
  {
   "cell_type": "code",
   "execution_count": 2,
   "id": "c31af30f-aff0-400d-b5d5-925649390b33",
   "metadata": {},
   "outputs": [],
   "source": [
    "df1 = pd.read_csv(\"cic_ids_2017_original/Wednesday-workingHours.pcap_ISCX.csv\")"
   ]
  },
  {
   "cell_type": "code",
   "execution_count": 3,
   "id": "22edc101-8b6f-4864-b02f-1ba45b89a252",
   "metadata": {},
   "outputs": [
    {
     "name": "stdout",
     "output_type": "stream",
     "text": [
      "<class 'pandas.core.frame.DataFrame'>\n",
      "RangeIndex: 692703 entries, 0 to 692702\n",
      "Data columns (total 85 columns):\n",
      " #   Column                        Non-Null Count   Dtype  \n",
      "---  ------                        --------------   -----  \n",
      " 0   Flow ID                       692703 non-null  object \n",
      " 1    Source IP                    692703 non-null  object \n",
      " 2    Source Port                  692703 non-null  int64  \n",
      " 3    Destination IP               692703 non-null  object \n",
      " 4    Destination Port             692703 non-null  int64  \n",
      " 5    Protocol                     692703 non-null  int64  \n",
      " 6    Timestamp                    692703 non-null  object \n",
      " 7    Flow Duration                692703 non-null  int64  \n",
      " 8    Total Fwd Packets            692703 non-null  int64  \n",
      " 9    Total Backward Packets       692703 non-null  int64  \n",
      " 10  Total Length of Fwd Packets   692703 non-null  int64  \n",
      " 11   Total Length of Bwd Packets  692703 non-null  float64\n",
      " 12   Fwd Packet Length Max        692703 non-null  int64  \n",
      " 13   Fwd Packet Length Min        692703 non-null  int64  \n",
      " 14   Fwd Packet Length Mean       692703 non-null  float64\n",
      " 15   Fwd Packet Length Std        692703 non-null  float64\n",
      " 16  Bwd Packet Length Max         692703 non-null  int64  \n",
      " 17   Bwd Packet Length Min        692703 non-null  int64  \n",
      " 18   Bwd Packet Length Mean       692703 non-null  float64\n",
      " 19   Bwd Packet Length Std        692703 non-null  float64\n",
      " 20  Flow Bytes/s                  691695 non-null  float64\n",
      " 21   Flow Packets/s               692703 non-null  float64\n",
      " 22   Flow IAT Mean                692703 non-null  float64\n",
      " 23   Flow IAT Std                 692703 non-null  float64\n",
      " 24   Flow IAT Max                 692703 non-null  float64\n",
      " 25   Flow IAT Min                 692703 non-null  float64\n",
      " 26  Fwd IAT Total                 692703 non-null  float64\n",
      " 27   Fwd IAT Mean                 692703 non-null  float64\n",
      " 28   Fwd IAT Std                  692703 non-null  float64\n",
      " 29   Fwd IAT Max                  692703 non-null  float64\n",
      " 30   Fwd IAT Min                  692703 non-null  float64\n",
      " 31  Bwd IAT Total                 692703 non-null  float64\n",
      " 32   Bwd IAT Mean                 692703 non-null  float64\n",
      " 33   Bwd IAT Std                  692703 non-null  float64\n",
      " 34   Bwd IAT Max                  692703 non-null  float64\n",
      " 35   Bwd IAT Min                  692703 non-null  float64\n",
      " 36  Fwd PSH Flags                 692703 non-null  int64  \n",
      " 37   Bwd PSH Flags                692703 non-null  int64  \n",
      " 38   Fwd URG Flags                692703 non-null  int64  \n",
      " 39   Bwd URG Flags                692703 non-null  int64  \n",
      " 40   Fwd Header Length            692703 non-null  int64  \n",
      " 41   Bwd Header Length            692703 non-null  int64  \n",
      " 42  Fwd Packets/s                 692703 non-null  float64\n",
      " 43   Bwd Packets/s                692703 non-null  float64\n",
      " 44   Min Packet Length            692703 non-null  int64  \n",
      " 45   Max Packet Length            692703 non-null  int64  \n",
      " 46   Packet Length Mean           692703 non-null  float64\n",
      " 47   Packet Length Std            692703 non-null  float64\n",
      " 48   Packet Length Variance       692703 non-null  float64\n",
      " 49  FIN Flag Count                692703 non-null  int64  \n",
      " 50   SYN Flag Count               692703 non-null  int64  \n",
      " 51   RST Flag Count               692703 non-null  int64  \n",
      " 52   PSH Flag Count               692703 non-null  int64  \n",
      " 53   ACK Flag Count               692703 non-null  int64  \n",
      " 54   URG Flag Count               692703 non-null  int64  \n",
      " 55   CWE Flag Count               692703 non-null  int64  \n",
      " 56   ECE Flag Count               692703 non-null  int64  \n",
      " 57   Down/Up Ratio                692703 non-null  int64  \n",
      " 58   Average Packet Size          692703 non-null  float64\n",
      " 59   Avg Fwd Segment Size         692703 non-null  float64\n",
      " 60   Avg Bwd Segment Size         692703 non-null  float64\n",
      " 61   Fwd Header Length.1          692703 non-null  int64  \n",
      " 62  Fwd Avg Bytes/Bulk            692703 non-null  int64  \n",
      " 63   Fwd Avg Packets/Bulk         692703 non-null  int64  \n",
      " 64   Fwd Avg Bulk Rate            692703 non-null  int64  \n",
      " 65   Bwd Avg Bytes/Bulk           692703 non-null  int64  \n",
      " 66   Bwd Avg Packets/Bulk         692703 non-null  int64  \n",
      " 67  Bwd Avg Bulk Rate             692703 non-null  int64  \n",
      " 68  Subflow Fwd Packets           692703 non-null  int64  \n",
      " 69   Subflow Fwd Bytes            692703 non-null  int64  \n",
      " 70   Subflow Bwd Packets          692703 non-null  int64  \n",
      " 71   Subflow Bwd Bytes            692703 non-null  int64  \n",
      " 72  Init_Win_bytes_forward        692703 non-null  int64  \n",
      " 73   Init_Win_bytes_backward      692703 non-null  int64  \n",
      " 74   act_data_pkt_fwd             692703 non-null  int64  \n",
      " 75   min_seg_size_forward         692703 non-null  int64  \n",
      " 76  Active Mean                   692703 non-null  float64\n",
      " 77   Active Std                   692703 non-null  float64\n",
      " 78   Active Max                   692703 non-null  float64\n",
      " 79   Active Min                   692703 non-null  float64\n",
      " 80  Idle Mean                     692703 non-null  float64\n",
      " 81   Idle Std                     692703 non-null  float64\n",
      " 82   Idle Max                     692703 non-null  float64\n",
      " 83   Idle Min                     692703 non-null  float64\n",
      " 84   Label                        692703 non-null  object \n",
      "dtypes: float64(37), int64(43), object(5)\n",
      "memory usage: 449.2+ MB\n"
     ]
    }
   ],
   "source": [
    "df1.info()"
   ]
  },
  {
   "cell_type": "code",
   "execution_count": 4,
   "id": "763ee1aa-fcbb-41ee-97ea-632bcab983f7",
   "metadata": {},
   "outputs": [
    {
     "data": {
      "text/plain": [
       "(692703, 85)"
      ]
     },
     "execution_count": 4,
     "metadata": {},
     "output_type": "execute_result"
    }
   ],
   "source": [
    "df1.shape"
   ]
  },
  {
   "cell_type": "markdown",
   "id": "1326be78-db3d-4db6-94cf-4c3f5ee9858d",
   "metadata": {},
   "source": [
    "## Normalize timestamp"
   ]
  },
  {
   "cell_type": "code",
   "execution_count": 5,
   "id": "a54b27cd-ae5e-4b7c-96de-889f9dd6b1eb",
   "metadata": {},
   "outputs": [],
   "source": [
    "# def normalize_timestamp(ddos_data):\n",
    "#     ddos_data[' Timestamp'] = pd.to_datetime(ddos_data[' Timestamp'])\n",
    "#     ddos_data.sort_values(by=' Timestamp', inplace=True)"
   ]
  },
  {
   "cell_type": "code",
   "execution_count": 6,
   "id": "57f0511d-396c-4c32-887c-81be063b8deb",
   "metadata": {},
   "outputs": [],
   "source": [
    "# normalize_timestamp(df1)"
   ]
  },
  {
   "cell_type": "code",
   "execution_count": 7,
   "id": "1f45bc14-8964-46d6-8e13-5c66c7bd40cb",
   "metadata": {},
   "outputs": [
    {
     "data": {
      "text/html": [
       "<div>\n",
       "<style scoped>\n",
       "    .dataframe tbody tr th:only-of-type {\n",
       "        vertical-align: middle;\n",
       "    }\n",
       "\n",
       "    .dataframe tbody tr th {\n",
       "        vertical-align: top;\n",
       "    }\n",
       "\n",
       "    .dataframe thead th {\n",
       "        text-align: right;\n",
       "    }\n",
       "</style>\n",
       "<table border=\"1\" class=\"dataframe\">\n",
       "  <thead>\n",
       "    <tr style=\"text-align: right;\">\n",
       "      <th></th>\n",
       "      <th>Flow ID</th>\n",
       "      <th>Source IP</th>\n",
       "      <th>Source Port</th>\n",
       "      <th>Destination IP</th>\n",
       "      <th>Destination Port</th>\n",
       "      <th>Protocol</th>\n",
       "      <th>Timestamp</th>\n",
       "      <th>Flow Duration</th>\n",
       "      <th>Total Fwd Packets</th>\n",
       "      <th>Total Backward Packets</th>\n",
       "      <th>...</th>\n",
       "      <th>min_seg_size_forward</th>\n",
       "      <th>Active Mean</th>\n",
       "      <th>Active Std</th>\n",
       "      <th>Active Max</th>\n",
       "      <th>Active Min</th>\n",
       "      <th>Idle Mean</th>\n",
       "      <th>Idle Std</th>\n",
       "      <th>Idle Max</th>\n",
       "      <th>Idle Min</th>\n",
       "      <th>Label</th>\n",
       "    </tr>\n",
       "  </thead>\n",
       "  <tbody>\n",
       "    <tr>\n",
       "      <th>0</th>\n",
       "      <td>192.168.10.14-209.48.71.168-49459-80-6</td>\n",
       "      <td>192.168.10.14</td>\n",
       "      <td>49459</td>\n",
       "      <td>209.48.71.168</td>\n",
       "      <td>80</td>\n",
       "      <td>6</td>\n",
       "      <td>5/7/2017 8:42</td>\n",
       "      <td>38308</td>\n",
       "      <td>1</td>\n",
       "      <td>1</td>\n",
       "      <td>...</td>\n",
       "      <td>20</td>\n",
       "      <td>0.0</td>\n",
       "      <td>0.0</td>\n",
       "      <td>0.0</td>\n",
       "      <td>0.0</td>\n",
       "      <td>0.0</td>\n",
       "      <td>0.0</td>\n",
       "      <td>0.0</td>\n",
       "      <td>0.0</td>\n",
       "      <td>BENIGN</td>\n",
       "    </tr>\n",
       "    <tr>\n",
       "      <th>1</th>\n",
       "      <td>192.168.10.3-192.168.10.17-389-49453-6</td>\n",
       "      <td>192.168.10.17</td>\n",
       "      <td>49453</td>\n",
       "      <td>192.168.10.3</td>\n",
       "      <td>389</td>\n",
       "      <td>6</td>\n",
       "      <td>5/7/2017 8:42</td>\n",
       "      <td>479</td>\n",
       "      <td>11</td>\n",
       "      <td>5</td>\n",
       "      <td>...</td>\n",
       "      <td>32</td>\n",
       "      <td>0.0</td>\n",
       "      <td>0.0</td>\n",
       "      <td>0.0</td>\n",
       "      <td>0.0</td>\n",
       "      <td>0.0</td>\n",
       "      <td>0.0</td>\n",
       "      <td>0.0</td>\n",
       "      <td>0.0</td>\n",
       "      <td>BENIGN</td>\n",
       "    </tr>\n",
       "    <tr>\n",
       "      <th>2</th>\n",
       "      <td>192.168.10.3-192.168.10.17-88-46124-6</td>\n",
       "      <td>192.168.10.17</td>\n",
       "      <td>46124</td>\n",
       "      <td>192.168.10.3</td>\n",
       "      <td>88</td>\n",
       "      <td>6</td>\n",
       "      <td>5/7/2017 8:42</td>\n",
       "      <td>1095</td>\n",
       "      <td>10</td>\n",
       "      <td>6</td>\n",
       "      <td>...</td>\n",
       "      <td>32</td>\n",
       "      <td>0.0</td>\n",
       "      <td>0.0</td>\n",
       "      <td>0.0</td>\n",
       "      <td>0.0</td>\n",
       "      <td>0.0</td>\n",
       "      <td>0.0</td>\n",
       "      <td>0.0</td>\n",
       "      <td>0.0</td>\n",
       "      <td>BENIGN</td>\n",
       "    </tr>\n",
       "    <tr>\n",
       "      <th>3</th>\n",
       "      <td>192.168.10.3-192.168.10.17-389-49454-6</td>\n",
       "      <td>192.168.10.17</td>\n",
       "      <td>49454</td>\n",
       "      <td>192.168.10.3</td>\n",
       "      <td>389</td>\n",
       "      <td>6</td>\n",
       "      <td>5/7/2017 8:42</td>\n",
       "      <td>15206</td>\n",
       "      <td>17</td>\n",
       "      <td>12</td>\n",
       "      <td>...</td>\n",
       "      <td>32</td>\n",
       "      <td>0.0</td>\n",
       "      <td>0.0</td>\n",
       "      <td>0.0</td>\n",
       "      <td>0.0</td>\n",
       "      <td>0.0</td>\n",
       "      <td>0.0</td>\n",
       "      <td>0.0</td>\n",
       "      <td>0.0</td>\n",
       "      <td>BENIGN</td>\n",
       "    </tr>\n",
       "    <tr>\n",
       "      <th>4</th>\n",
       "      <td>192.168.10.3-192.168.10.17-88-46126-6</td>\n",
       "      <td>192.168.10.17</td>\n",
       "      <td>46126</td>\n",
       "      <td>192.168.10.3</td>\n",
       "      <td>88</td>\n",
       "      <td>6</td>\n",
       "      <td>5/7/2017 8:42</td>\n",
       "      <td>1092</td>\n",
       "      <td>9</td>\n",
       "      <td>6</td>\n",
       "      <td>...</td>\n",
       "      <td>32</td>\n",
       "      <td>0.0</td>\n",
       "      <td>0.0</td>\n",
       "      <td>0.0</td>\n",
       "      <td>0.0</td>\n",
       "      <td>0.0</td>\n",
       "      <td>0.0</td>\n",
       "      <td>0.0</td>\n",
       "      <td>0.0</td>\n",
       "      <td>BENIGN</td>\n",
       "    </tr>\n",
       "    <tr>\n",
       "      <th>...</th>\n",
       "      <td>...</td>\n",
       "      <td>...</td>\n",
       "      <td>...</td>\n",
       "      <td>...</td>\n",
       "      <td>...</td>\n",
       "      <td>...</td>\n",
       "      <td>...</td>\n",
       "      <td>...</td>\n",
       "      <td>...</td>\n",
       "      <td>...</td>\n",
       "      <td>...</td>\n",
       "      <td>...</td>\n",
       "      <td>...</td>\n",
       "      <td>...</td>\n",
       "      <td>...</td>\n",
       "      <td>...</td>\n",
       "      <td>...</td>\n",
       "      <td>...</td>\n",
       "      <td>...</td>\n",
       "      <td>...</td>\n",
       "      <td>...</td>\n",
       "    </tr>\n",
       "    <tr>\n",
       "      <th>692698</th>\n",
       "      <td>192.168.10.3-192.168.10.14-53-51114-17</td>\n",
       "      <td>192.168.10.14</td>\n",
       "      <td>51114</td>\n",
       "      <td>192.168.10.3</td>\n",
       "      <td>53</td>\n",
       "      <td>17</td>\n",
       "      <td>5/7/2017 12:10</td>\n",
       "      <td>32215</td>\n",
       "      <td>4</td>\n",
       "      <td>2</td>\n",
       "      <td>...</td>\n",
       "      <td>20</td>\n",
       "      <td>0.0</td>\n",
       "      <td>0.0</td>\n",
       "      <td>0.0</td>\n",
       "      <td>0.0</td>\n",
       "      <td>0.0</td>\n",
       "      <td>0.0</td>\n",
       "      <td>0.0</td>\n",
       "      <td>0.0</td>\n",
       "      <td>BENIGN</td>\n",
       "    </tr>\n",
       "    <tr>\n",
       "      <th>692699</th>\n",
       "      <td>192.168.10.3-192.168.10.16-53-24054-17</td>\n",
       "      <td>192.168.10.16</td>\n",
       "      <td>24054</td>\n",
       "      <td>192.168.10.3</td>\n",
       "      <td>53</td>\n",
       "      <td>17</td>\n",
       "      <td>5/7/2017 3:02</td>\n",
       "      <td>324</td>\n",
       "      <td>2</td>\n",
       "      <td>2</td>\n",
       "      <td>...</td>\n",
       "      <td>20</td>\n",
       "      <td>0.0</td>\n",
       "      <td>0.0</td>\n",
       "      <td>0.0</td>\n",
       "      <td>0.0</td>\n",
       "      <td>0.0</td>\n",
       "      <td>0.0</td>\n",
       "      <td>0.0</td>\n",
       "      <td>0.0</td>\n",
       "      <td>BENIGN</td>\n",
       "    </tr>\n",
       "    <tr>\n",
       "      <th>692700</th>\n",
       "      <td>192.168.10.51-23.208.163.130-58030-443-6</td>\n",
       "      <td>23.208.163.130</td>\n",
       "      <td>443</td>\n",
       "      <td>192.168.10.51</td>\n",
       "      <td>58030</td>\n",
       "      <td>6</td>\n",
       "      <td>5/7/2017 10:06</td>\n",
       "      <td>82</td>\n",
       "      <td>2</td>\n",
       "      <td>1</td>\n",
       "      <td>...</td>\n",
       "      <td>32</td>\n",
       "      <td>0.0</td>\n",
       "      <td>0.0</td>\n",
       "      <td>0.0</td>\n",
       "      <td>0.0</td>\n",
       "      <td>0.0</td>\n",
       "      <td>0.0</td>\n",
       "      <td>0.0</td>\n",
       "      <td>0.0</td>\n",
       "      <td>BENIGN</td>\n",
       "    </tr>\n",
       "    <tr>\n",
       "      <th>692701</th>\n",
       "      <td>192.168.10.3-192.168.10.14-53-51694-17</td>\n",
       "      <td>192.168.10.14</td>\n",
       "      <td>51694</td>\n",
       "      <td>192.168.10.3</td>\n",
       "      <td>53</td>\n",
       "      <td>17</td>\n",
       "      <td>5/7/2017 1:19</td>\n",
       "      <td>1048635</td>\n",
       "      <td>6</td>\n",
       "      <td>2</td>\n",
       "      <td>...</td>\n",
       "      <td>20</td>\n",
       "      <td>0.0</td>\n",
       "      <td>0.0</td>\n",
       "      <td>0.0</td>\n",
       "      <td>0.0</td>\n",
       "      <td>0.0</td>\n",
       "      <td>0.0</td>\n",
       "      <td>0.0</td>\n",
       "      <td>0.0</td>\n",
       "      <td>BENIGN</td>\n",
       "    </tr>\n",
       "    <tr>\n",
       "      <th>692702</th>\n",
       "      <td>192.168.10.3-192.168.10.14-53-57949-17</td>\n",
       "      <td>192.168.10.14</td>\n",
       "      <td>57949</td>\n",
       "      <td>192.168.10.3</td>\n",
       "      <td>53</td>\n",
       "      <td>17</td>\n",
       "      <td>5/7/2017 2:43</td>\n",
       "      <td>94939</td>\n",
       "      <td>4</td>\n",
       "      <td>2</td>\n",
       "      <td>...</td>\n",
       "      <td>20</td>\n",
       "      <td>0.0</td>\n",
       "      <td>0.0</td>\n",
       "      <td>0.0</td>\n",
       "      <td>0.0</td>\n",
       "      <td>0.0</td>\n",
       "      <td>0.0</td>\n",
       "      <td>0.0</td>\n",
       "      <td>0.0</td>\n",
       "      <td>BENIGN</td>\n",
       "    </tr>\n",
       "  </tbody>\n",
       "</table>\n",
       "<p>692703 rows × 85 columns</p>\n",
       "</div>"
      ],
      "text/plain": [
       "                                         Flow ID       Source IP  \\\n",
       "0         192.168.10.14-209.48.71.168-49459-80-6   192.168.10.14   \n",
       "1         192.168.10.3-192.168.10.17-389-49453-6   192.168.10.17   \n",
       "2          192.168.10.3-192.168.10.17-88-46124-6   192.168.10.17   \n",
       "3         192.168.10.3-192.168.10.17-389-49454-6   192.168.10.17   \n",
       "4          192.168.10.3-192.168.10.17-88-46126-6   192.168.10.17   \n",
       "...                                          ...             ...   \n",
       "692698    192.168.10.3-192.168.10.14-53-51114-17   192.168.10.14   \n",
       "692699    192.168.10.3-192.168.10.16-53-24054-17   192.168.10.16   \n",
       "692700  192.168.10.51-23.208.163.130-58030-443-6  23.208.163.130   \n",
       "692701    192.168.10.3-192.168.10.14-53-51694-17   192.168.10.14   \n",
       "692702    192.168.10.3-192.168.10.14-53-57949-17   192.168.10.14   \n",
       "\n",
       "         Source Port  Destination IP   Destination Port   Protocol  \\\n",
       "0              49459   209.48.71.168                 80          6   \n",
       "1              49453    192.168.10.3                389          6   \n",
       "2              46124    192.168.10.3                 88          6   \n",
       "3              49454    192.168.10.3                389          6   \n",
       "4              46126    192.168.10.3                 88          6   \n",
       "...              ...             ...                ...        ...   \n",
       "692698         51114    192.168.10.3                 53         17   \n",
       "692699         24054    192.168.10.3                 53         17   \n",
       "692700           443   192.168.10.51              58030          6   \n",
       "692701         51694    192.168.10.3                 53         17   \n",
       "692702         57949    192.168.10.3                 53         17   \n",
       "\n",
       "             Timestamp   Flow Duration   Total Fwd Packets  \\\n",
       "0        5/7/2017 8:42           38308                   1   \n",
       "1        5/7/2017 8:42             479                  11   \n",
       "2        5/7/2017 8:42            1095                  10   \n",
       "3        5/7/2017 8:42           15206                  17   \n",
       "4        5/7/2017 8:42            1092                   9   \n",
       "...                ...             ...                 ...   \n",
       "692698  5/7/2017 12:10           32215                   4   \n",
       "692699   5/7/2017 3:02             324                   2   \n",
       "692700  5/7/2017 10:06              82                   2   \n",
       "692701   5/7/2017 1:19         1048635                   6   \n",
       "692702   5/7/2017 2:43           94939                   4   \n",
       "\n",
       "         Total Backward Packets  ...   min_seg_size_forward  Active Mean  \\\n",
       "0                             1  ...                     20          0.0   \n",
       "1                             5  ...                     32          0.0   \n",
       "2                             6  ...                     32          0.0   \n",
       "3                            12  ...                     32          0.0   \n",
       "4                             6  ...                     32          0.0   \n",
       "...                         ...  ...                    ...          ...   \n",
       "692698                        2  ...                     20          0.0   \n",
       "692699                        2  ...                     20          0.0   \n",
       "692700                        1  ...                     32          0.0   \n",
       "692701                        2  ...                     20          0.0   \n",
       "692702                        2  ...                     20          0.0   \n",
       "\n",
       "         Active Std   Active Max   Active Min  Idle Mean   Idle Std  \\\n",
       "0               0.0          0.0          0.0        0.0        0.0   \n",
       "1               0.0          0.0          0.0        0.0        0.0   \n",
       "2               0.0          0.0          0.0        0.0        0.0   \n",
       "3               0.0          0.0          0.0        0.0        0.0   \n",
       "4               0.0          0.0          0.0        0.0        0.0   \n",
       "...             ...          ...          ...        ...        ...   \n",
       "692698          0.0          0.0          0.0        0.0        0.0   \n",
       "692699          0.0          0.0          0.0        0.0        0.0   \n",
       "692700          0.0          0.0          0.0        0.0        0.0   \n",
       "692701          0.0          0.0          0.0        0.0        0.0   \n",
       "692702          0.0          0.0          0.0        0.0        0.0   \n",
       "\n",
       "         Idle Max   Idle Min   Label  \n",
       "0             0.0        0.0  BENIGN  \n",
       "1             0.0        0.0  BENIGN  \n",
       "2             0.0        0.0  BENIGN  \n",
       "3             0.0        0.0  BENIGN  \n",
       "4             0.0        0.0  BENIGN  \n",
       "...           ...        ...     ...  \n",
       "692698        0.0        0.0  BENIGN  \n",
       "692699        0.0        0.0  BENIGN  \n",
       "692700        0.0        0.0  BENIGN  \n",
       "692701        0.0        0.0  BENIGN  \n",
       "692702        0.0        0.0  BENIGN  \n",
       "\n",
       "[692703 rows x 85 columns]"
      ]
     },
     "execution_count": 7,
     "metadata": {},
     "output_type": "execute_result"
    }
   ],
   "source": [
    "df1"
   ]
  },
  {
   "cell_type": "markdown",
   "id": "92b15508-87b0-456d-bf71-e1ab8995f95c",
   "metadata": {},
   "source": [
    "## Extract relavent rows and merge into one file"
   ]
  },
  {
   "cell_type": "code",
   "execution_count": 8,
   "id": "a1b8e4be-a87b-48e7-bce0-359b94a8eb2b",
   "metadata": {},
   "outputs": [
    {
     "data": {
      "text/plain": [
       "Index(['Flow ID', ' Source IP', ' Source Port', ' Destination IP',\n",
       "       ' Destination Port', ' Protocol', ' Timestamp', ' Flow Duration',\n",
       "       ' Total Fwd Packets', ' Total Backward Packets',\n",
       "       'Total Length of Fwd Packets', ' Total Length of Bwd Packets',\n",
       "       ' Fwd Packet Length Max', ' Fwd Packet Length Min',\n",
       "       ' Fwd Packet Length Mean', ' Fwd Packet Length Std',\n",
       "       'Bwd Packet Length Max', ' Bwd Packet Length Min',\n",
       "       ' Bwd Packet Length Mean', ' Bwd Packet Length Std', 'Flow Bytes/s',\n",
       "       ' Flow Packets/s', ' Flow IAT Mean', ' Flow IAT Std', ' Flow IAT Max',\n",
       "       ' Flow IAT Min', 'Fwd IAT Total', ' Fwd IAT Mean', ' Fwd IAT Std',\n",
       "       ' Fwd IAT Max', ' Fwd IAT Min', 'Bwd IAT Total', ' Bwd IAT Mean',\n",
       "       ' Bwd IAT Std', ' Bwd IAT Max', ' Bwd IAT Min', 'Fwd PSH Flags',\n",
       "       ' Bwd PSH Flags', ' Fwd URG Flags', ' Bwd URG Flags',\n",
       "       ' Fwd Header Length', ' Bwd Header Length', 'Fwd Packets/s',\n",
       "       ' Bwd Packets/s', ' Min Packet Length', ' Max Packet Length',\n",
       "       ' Packet Length Mean', ' Packet Length Std', ' Packet Length Variance',\n",
       "       'FIN Flag Count', ' SYN Flag Count', ' RST Flag Count',\n",
       "       ' PSH Flag Count', ' ACK Flag Count', ' URG Flag Count',\n",
       "       ' CWE Flag Count', ' ECE Flag Count', ' Down/Up Ratio',\n",
       "       ' Average Packet Size', ' Avg Fwd Segment Size',\n",
       "       ' Avg Bwd Segment Size', ' Fwd Header Length.1', 'Fwd Avg Bytes/Bulk',\n",
       "       ' Fwd Avg Packets/Bulk', ' Fwd Avg Bulk Rate', ' Bwd Avg Bytes/Bulk',\n",
       "       ' Bwd Avg Packets/Bulk', 'Bwd Avg Bulk Rate', 'Subflow Fwd Packets',\n",
       "       ' Subflow Fwd Bytes', ' Subflow Bwd Packets', ' Subflow Bwd Bytes',\n",
       "       'Init_Win_bytes_forward', ' Init_Win_bytes_backward',\n",
       "       ' act_data_pkt_fwd', ' min_seg_size_forward', 'Active Mean',\n",
       "       ' Active Std', ' Active Max', ' Active Min', 'Idle Mean', ' Idle Std',\n",
       "       ' Idle Max', ' Idle Min', ' Label'],\n",
       "      dtype='object')"
      ]
     },
     "execution_count": 8,
     "metadata": {},
     "output_type": "execute_result"
    }
   ],
   "source": [
    "df1.columns"
   ]
  },
  {
   "cell_type": "code",
   "execution_count": 9,
   "id": "76d26797-7bfa-4591-a0d7-ccf52cd5ade2",
   "metadata": {},
   "outputs": [
    {
     "name": "stdout",
     "output_type": "stream",
     "text": [
      " Bwd PSH Flags - [0]\n",
      " Fwd URG Flags - [0]\n",
      " Bwd URG Flags - [0]\n",
      " CWE Flag Count - [0]\n",
      "Fwd Avg Bytes/Bulk - [0]\n",
      " Fwd Avg Packets/Bulk - [0]\n",
      " Fwd Avg Bulk Rate - [0]\n",
      " Bwd Avg Bytes/Bulk - [0]\n",
      " Bwd Avg Packets/Bulk - [0]\n",
      "Bwd Avg Bulk Rate - [0]\n"
     ]
    }
   ],
   "source": [
    "# View the zero or contant valued features\n",
    "\n",
    "for feature in df1.columns:\n",
    "    unique_values = df1[feature].unique()\n",
    "    if len(unique_values) == 1:\n",
    "        print(f\"{feature} - {unique_values}\")"
   ]
  },
  {
   "cell_type": "code",
   "execution_count": 10,
   "id": "03a0d748-b40c-4222-b5c8-ad26bd17b033",
   "metadata": {},
   "outputs": [],
   "source": [
    "drop_columns = ['Flow ID', ' Source IP', ' Source Port', ' Destination IP',\n",
    "                ' Bwd PSH Flags', ' Fwd URG Flags', ' Bwd URG Flags', ' CWE Flag Count',\n",
    "                'Fwd Avg Bytes/Bulk', ' Fwd Avg Packets/Bulk', ' Fwd Avg Bulk Rate',\n",
    "                ' Bwd Avg Bytes/Bulk', ' Bwd Avg Packets/Bulk', 'Bwd Avg Bulk Rate'\n",
    "      ]"
   ]
  },
  {
   "cell_type": "code",
   "execution_count": 11,
   "id": "7347448a-7955-4229-ab47-a638d08d1843",
   "metadata": {},
   "outputs": [],
   "source": [
    "df1.drop(columns=drop_columns, inplace=True)"
   ]
  },
  {
   "cell_type": "code",
   "execution_count": 12,
   "id": "a9dea794-edc0-4e52-b42e-82d75f1d70e6",
   "metadata": {},
   "outputs": [
    {
     "data": {
      "text/plain": [
       "(692703, 71)"
      ]
     },
     "execution_count": 12,
     "metadata": {},
     "output_type": "execute_result"
    }
   ],
   "source": [
    "df1.shape"
   ]
  },
  {
   "cell_type": "markdown",
   "id": "14623ef9-b7e1-44ef-b9db-b0aea80b145f",
   "metadata": {},
   "source": [
    "## Apply preprocessing"
   ]
  },
  {
   "cell_type": "code",
   "execution_count": 13,
   "id": "f4167e5c-0507-476c-80d8-6971f5b7a924",
   "metadata": {},
   "outputs": [],
   "source": [
    "# Remove non values\n",
    "df1.dropna(inplace=True)"
   ]
  },
  {
   "cell_type": "code",
   "execution_count": 14,
   "id": "cbae1aca-b1a6-47b0-bd63-5d0f703c430f",
   "metadata": {},
   "outputs": [],
   "source": [
    "# Remove duplicate\n",
    "df1.drop_duplicates(inplace=True)"
   ]
  },
  {
   "cell_type": "code",
   "execution_count": 15,
   "id": "235ff20e-07a8-4559-aae3-1644b4d7c8cf",
   "metadata": {},
   "outputs": [
    {
     "data": {
      "text/plain": [
       "(635005, 71)"
      ]
     },
     "execution_count": 15,
     "metadata": {},
     "output_type": "execute_result"
    }
   ],
   "source": [
    "df1.shape"
   ]
  },
  {
   "cell_type": "code",
   "execution_count": 16,
   "id": "92115706-0964-4507-afcd-63841a3a163c",
   "metadata": {},
   "outputs": [
    {
     "data": {
      "text/plain": [
       " Label\n",
       "BENIGN              435574\n",
       "DoS Hulk            178179\n",
       "DoS GoldenEye        10286\n",
       "DoS slowloris         5692\n",
       "DoS Slowhttptest      5263\n",
       "Heartbleed              11\n",
       "Name: count, dtype: int64"
      ]
     },
     "execution_count": 16,
     "metadata": {},
     "output_type": "execute_result"
    }
   ],
   "source": [
    "df1[' Label'].value_counts()"
   ]
  },
  {
   "cell_type": "code",
   "execution_count": 17,
   "id": "fd75aa11-c2f6-47fd-82aa-ebfb9a01707f",
   "metadata": {},
   "outputs": [
    {
     "name": "stderr",
     "output_type": "stream",
     "text": [
      "/tmp/ipykernel_533867/2329808528.py:4: FutureWarning: Downcasting behavior in `replace` is deprecated and will be removed in a future version. To retain the old behavior, explicitly call `result.infer_objects(copy=False)`. To opt-in to the future behavior, set `pd.set_option('future.no_silent_downcasting', True)`\n",
      "  df1.replace(to_replace=['BENIGN'], value=0, inplace=True)\n"
     ]
    }
   ],
   "source": [
    "# Replace BENIGN with 0 and other with 1\n",
    "\n",
    "df1.replace(to_replace=[\"DoS Hulk\", \"DoS GoldenEye\", \"DoS slowloris\", \"DoS Slowhttptest\", \"Heartbleed\"], value=1, inplace=True)\n",
    "df1.replace(to_replace=['BENIGN'], value=0, inplace=True)"
   ]
  },
  {
   "cell_type": "code",
   "execution_count": 18,
   "id": "7e752aa5-3836-4cfa-aaf2-6e0587145ad9",
   "metadata": {},
   "outputs": [
    {
     "data": {
      "text/plain": [
       " Label\n",
       "0    435574\n",
       "1    199431\n",
       "Name: count, dtype: int64"
      ]
     },
     "execution_count": 18,
     "metadata": {},
     "output_type": "execute_result"
    }
   ],
   "source": [
    "df1[' Label'].value_counts()"
   ]
  },
  {
   "cell_type": "code",
   "execution_count": 19,
   "id": "eb25f7e1-8696-4213-a633-fa1d4af1c56e",
   "metadata": {},
   "outputs": [],
   "source": [
    "# COnvert timestamp into unix time\n",
    "\n",
    "from datetime import datetime\n",
    "\n",
    "# Function to convert timestamp string to Unix timestamp\n",
    "def convert_timestamp_to_int(timestamp):\n",
    "    dt = datetime.strptime(timestamp, '%d/%m/%Y %H:%M')\n",
    "    unix_timestamp = int(dt.timestamp())\n",
    "    return unix_timestamp\n",
    "\n",
    "# Apply the function to the 'Timestamp' column\n",
    "df1[' Timestamp'] = df1[' Timestamp'].apply(convert_timestamp_to_int)"
   ]
  },
  {
   "cell_type": "code",
   "execution_count": 20,
   "id": "ce6b16fb-541b-4523-b13d-b28eb4602ed4",
   "metadata": {},
   "outputs": [],
   "source": [
    "# Find out non binary colums\n",
    "\n",
    "non_binary_columns=df1.columns[df1.nunique()>2]"
   ]
  },
  {
   "cell_type": "code",
   "execution_count": 21,
   "id": "bb2c6c61-7ca0-43ca-85bd-589935ff8639",
   "metadata": {},
   "outputs": [
    {
     "data": {
      "text/plain": [
       "Index([' Destination Port', ' Protocol', ' Timestamp', ' Flow Duration',\n",
       "       ' Total Fwd Packets', ' Total Backward Packets',\n",
       "       'Total Length of Fwd Packets', ' Total Length of Bwd Packets',\n",
       "       ' Fwd Packet Length Max', ' Fwd Packet Length Min',\n",
       "       ' Fwd Packet Length Mean', ' Fwd Packet Length Std',\n",
       "       'Bwd Packet Length Max', ' Bwd Packet Length Min',\n",
       "       ' Bwd Packet Length Mean', ' Bwd Packet Length Std', 'Flow Bytes/s',\n",
       "       ' Flow Packets/s', ' Flow IAT Mean', ' Flow IAT Std', ' Flow IAT Max',\n",
       "       ' Flow IAT Min', 'Fwd IAT Total', ' Fwd IAT Mean', ' Fwd IAT Std',\n",
       "       ' Fwd IAT Max', ' Fwd IAT Min', 'Bwd IAT Total', ' Bwd IAT Mean',\n",
       "       ' Bwd IAT Std', ' Bwd IAT Max', ' Bwd IAT Min', ' Fwd Header Length',\n",
       "       ' Bwd Header Length', 'Fwd Packets/s', ' Bwd Packets/s',\n",
       "       ' Min Packet Length', ' Max Packet Length', ' Packet Length Mean',\n",
       "       ' Packet Length Std', ' Packet Length Variance', ' Down/Up Ratio',\n",
       "       ' Average Packet Size', ' Avg Fwd Segment Size',\n",
       "       ' Avg Bwd Segment Size', ' Fwd Header Length.1', 'Subflow Fwd Packets',\n",
       "       ' Subflow Fwd Bytes', ' Subflow Bwd Packets', ' Subflow Bwd Bytes',\n",
       "       'Init_Win_bytes_forward', ' Init_Win_bytes_backward',\n",
       "       ' act_data_pkt_fwd', ' min_seg_size_forward', 'Active Mean',\n",
       "       ' Active Std', ' Active Max', ' Active Min', 'Idle Mean', ' Idle Std',\n",
       "       ' Idle Max', ' Idle Min'],\n",
       "      dtype='object')"
      ]
     },
     "execution_count": 21,
     "metadata": {},
     "output_type": "execute_result"
    }
   ],
   "source": [
    "non_binary_columns"
   ]
  },
  {
   "cell_type": "code",
   "execution_count": 22,
   "id": "f31d97d2-70da-47ae-b61d-5af2e774fbf6",
   "metadata": {},
   "outputs": [],
   "source": [
    "# Check for infinite\n",
    "import numpy as np\n",
    "\n",
    "is_infinite = np.any(np.isinf(df1[non_binary_columns]), axis=0)"
   ]
  },
  {
   "cell_type": "code",
   "execution_count": 23,
   "id": "796df01a-d6cb-4799-b727-270a1f1de41f",
   "metadata": {},
   "outputs": [
    {
     "data": {
      "text/plain": [
       "False    60\n",
       "True      2\n",
       "Name: count, dtype: int64"
      ]
     },
     "execution_count": 23,
     "metadata": {},
     "output_type": "execute_result"
    }
   ],
   "source": [
    "is_infinite.value_counts()"
   ]
  },
  {
   "cell_type": "code",
   "execution_count": 24,
   "id": "abf2f60a-4c6f-47da-8987-e6ea6f025187",
   "metadata": {},
   "outputs": [
    {
     "name": "stdout",
     "output_type": "stream",
     "text": [
      "Columns with infinite values: ['Flow Bytes/s', ' Flow Packets/s']\n"
     ]
    }
   ],
   "source": [
    "infinite_columns = df1[non_binary_columns].columns[np.isinf(df1[non_binary_columns]).any(axis=0)]\n",
    "\n",
    "print(\"Columns with infinite values:\", infinite_columns.tolist())"
   ]
  },
  {
   "cell_type": "code",
   "execution_count": 25,
   "id": "c1a6277b-a1ba-4be0-b8f7-88cf07c7eb44",
   "metadata": {},
   "outputs": [],
   "source": [
    "# Remove infinite rows\n",
    "df1 = df1.replace([np.inf, -np.inf], np.nan).dropna(subset=non_binary_columns)"
   ]
  },
  {
   "cell_type": "code",
   "execution_count": 26,
   "id": "676b5c41-9ac7-41c7-8f35-b706ed340d73",
   "metadata": {},
   "outputs": [],
   "source": [
    "# for large\n",
    "\n",
    "is_large = np.any(np.abs(df1[non_binary_columns]) > np.finfo(np.float64).max, axis=0)"
   ]
  },
  {
   "cell_type": "code",
   "execution_count": 27,
   "id": "22d19d1a-479a-43a7-9330-669033bd94bc",
   "metadata": {},
   "outputs": [
    {
     "data": {
      "text/plain": [
       "False    62\n",
       "Name: count, dtype: int64"
      ]
     },
     "execution_count": 27,
     "metadata": {},
     "output_type": "execute_result"
    }
   ],
   "source": [
    "is_large.value_counts()"
   ]
  },
  {
   "cell_type": "code",
   "execution_count": 28,
   "id": "24e17231-89e2-486e-95e1-95763fcce02d",
   "metadata": {},
   "outputs": [
    {
     "name": "stdout",
     "output_type": "stream",
     "text": [
      "<class 'pandas.core.frame.DataFrame'>\n",
      "Index: 634719 entries, 0 to 692702\n",
      "Data columns (total 71 columns):\n",
      " #   Column                        Non-Null Count   Dtype  \n",
      "---  ------                        --------------   -----  \n",
      " 0    Destination Port             634719 non-null  int64  \n",
      " 1    Protocol                     634719 non-null  int64  \n",
      " 2    Timestamp                    634719 non-null  int64  \n",
      " 3    Flow Duration                634719 non-null  int64  \n",
      " 4    Total Fwd Packets            634719 non-null  int64  \n",
      " 5    Total Backward Packets       634719 non-null  int64  \n",
      " 6   Total Length of Fwd Packets   634719 non-null  int64  \n",
      " 7    Total Length of Bwd Packets  634719 non-null  float64\n",
      " 8    Fwd Packet Length Max        634719 non-null  int64  \n",
      " 9    Fwd Packet Length Min        634719 non-null  int64  \n",
      " 10   Fwd Packet Length Mean       634719 non-null  float64\n",
      " 11   Fwd Packet Length Std        634719 non-null  float64\n",
      " 12  Bwd Packet Length Max         634719 non-null  int64  \n",
      " 13   Bwd Packet Length Min        634719 non-null  int64  \n",
      " 14   Bwd Packet Length Mean       634719 non-null  float64\n",
      " 15   Bwd Packet Length Std        634719 non-null  float64\n",
      " 16  Flow Bytes/s                  634719 non-null  float64\n",
      " 17   Flow Packets/s               634719 non-null  float64\n",
      " 18   Flow IAT Mean                634719 non-null  float64\n",
      " 19   Flow IAT Std                 634719 non-null  float64\n",
      " 20   Flow IAT Max                 634719 non-null  float64\n",
      " 21   Flow IAT Min                 634719 non-null  float64\n",
      " 22  Fwd IAT Total                 634719 non-null  float64\n",
      " 23   Fwd IAT Mean                 634719 non-null  float64\n",
      " 24   Fwd IAT Std                  634719 non-null  float64\n",
      " 25   Fwd IAT Max                  634719 non-null  float64\n",
      " 26   Fwd IAT Min                  634719 non-null  float64\n",
      " 27  Bwd IAT Total                 634719 non-null  float64\n",
      " 28   Bwd IAT Mean                 634719 non-null  float64\n",
      " 29   Bwd IAT Std                  634719 non-null  float64\n",
      " 30   Bwd IAT Max                  634719 non-null  float64\n",
      " 31   Bwd IAT Min                  634719 non-null  float64\n",
      " 32  Fwd PSH Flags                 634719 non-null  int64  \n",
      " 33   Fwd Header Length            634719 non-null  int64  \n",
      " 34   Bwd Header Length            634719 non-null  int64  \n",
      " 35  Fwd Packets/s                 634719 non-null  float64\n",
      " 36   Bwd Packets/s                634719 non-null  float64\n",
      " 37   Min Packet Length            634719 non-null  int64  \n",
      " 38   Max Packet Length            634719 non-null  int64  \n",
      " 39   Packet Length Mean           634719 non-null  float64\n",
      " 40   Packet Length Std            634719 non-null  float64\n",
      " 41   Packet Length Variance       634719 non-null  float64\n",
      " 42  FIN Flag Count                634719 non-null  int64  \n",
      " 43   SYN Flag Count               634719 non-null  int64  \n",
      " 44   RST Flag Count               634719 non-null  int64  \n",
      " 45   PSH Flag Count               634719 non-null  int64  \n",
      " 46   ACK Flag Count               634719 non-null  int64  \n",
      " 47   URG Flag Count               634719 non-null  int64  \n",
      " 48   ECE Flag Count               634719 non-null  int64  \n",
      " 49   Down/Up Ratio                634719 non-null  int64  \n",
      " 50   Average Packet Size          634719 non-null  float64\n",
      " 51   Avg Fwd Segment Size         634719 non-null  float64\n",
      " 52   Avg Bwd Segment Size         634719 non-null  float64\n",
      " 53   Fwd Header Length.1          634719 non-null  int64  \n",
      " 54  Subflow Fwd Packets           634719 non-null  int64  \n",
      " 55   Subflow Fwd Bytes            634719 non-null  int64  \n",
      " 56   Subflow Bwd Packets          634719 non-null  int64  \n",
      " 57   Subflow Bwd Bytes            634719 non-null  int64  \n",
      " 58  Init_Win_bytes_forward        634719 non-null  int64  \n",
      " 59   Init_Win_bytes_backward      634719 non-null  int64  \n",
      " 60   act_data_pkt_fwd             634719 non-null  int64  \n",
      " 61   min_seg_size_forward         634719 non-null  int64  \n",
      " 62  Active Mean                   634719 non-null  float64\n",
      " 63   Active Std                   634719 non-null  float64\n",
      " 64   Active Max                   634719 non-null  float64\n",
      " 65   Active Min                   634719 non-null  float64\n",
      " 66  Idle Mean                     634719 non-null  float64\n",
      " 67   Idle Std                     634719 non-null  float64\n",
      " 68   Idle Max                     634719 non-null  float64\n",
      " 69   Idle Min                     634719 non-null  float64\n",
      " 70   Label                        634719 non-null  int64  \n",
      "dtypes: float64(37), int64(34)\n",
      "memory usage: 348.7 MB\n"
     ]
    }
   ],
   "source": [
    "df1.info()"
   ]
  },
  {
   "cell_type": "code",
   "execution_count": 29,
   "id": "fa0f0bb3-2d2f-48da-9a1c-440a4142aa20",
   "metadata": {},
   "outputs": [
    {
     "data": {
      "text/plain": [
       "(634719, 71)"
      ]
     },
     "execution_count": 29,
     "metadata": {},
     "output_type": "execute_result"
    }
   ],
   "source": [
    "df1.shape"
   ]
  },
  {
   "cell_type": "markdown",
   "id": "876ff826-423d-45e4-8109-dc68b621e590",
   "metadata": {},
   "source": [
    "## Seperate data for Train, Validation and Testing"
   ]
  },
  {
   "cell_type": "code",
   "execution_count": 30,
   "id": "4a722a90-0065-46dc-ad8c-26e081517d94",
   "metadata": {},
   "outputs": [],
   "source": [
    "sample = df1[:300000]"
   ]
  },
  {
   "cell_type": "code",
   "execution_count": 31,
   "id": "aa061ed1-61dd-48e9-8b4f-68750605a184",
   "metadata": {},
   "outputs": [
    {
     "data": {
      "text/plain": [
       " Label\n",
       "1    190250\n",
       "0    109750\n",
       "Name: count, dtype: int64"
      ]
     },
     "execution_count": 31,
     "metadata": {},
     "output_type": "execute_result"
    }
   ],
   "source": [
    "sample[' Label'].value_counts()"
   ]
  },
  {
   "cell_type": "code",
   "execution_count": 32,
   "id": "bda63476-e921-4348-b5db-cf89c4f4240b",
   "metadata": {},
   "outputs": [],
   "source": [
    "train_df = sample[:240000]\n",
    "# validation_df = sample[240000:256000]\n",
    "test_df = sample[240000:]"
   ]
  },
  {
   "cell_type": "code",
   "execution_count": 33,
   "id": "6d630cb9-6fbd-48a3-9c95-fc3429aa31e5",
   "metadata": {},
   "outputs": [
    {
     "data": {
      "text/plain": [
       " Label\n",
       "1    164080\n",
       "0     75920\n",
       "Name: count, dtype: int64"
      ]
     },
     "execution_count": 33,
     "metadata": {},
     "output_type": "execute_result"
    }
   ],
   "source": [
    "train_df[' Label'].value_counts()"
   ]
  },
  {
   "cell_type": "code",
   "execution_count": 34,
   "id": "cb63d92b-3f1b-4cf6-b81a-b74dc71988a1",
   "metadata": {},
   "outputs": [],
   "source": [
    "# validation_df[' Label'].value_counts()"
   ]
  },
  {
   "cell_type": "code",
   "execution_count": 35,
   "id": "05c01235-6ea8-4a62-a925-42b275c9baaf",
   "metadata": {},
   "outputs": [
    {
     "data": {
      "text/plain": [
       " Label\n",
       "0    33830\n",
       "1    26170\n",
       "Name: count, dtype: int64"
      ]
     },
     "execution_count": 35,
     "metadata": {},
     "output_type": "execute_result"
    }
   ],
   "source": [
    "test_df[' Label'].value_counts()"
   ]
  },
  {
   "cell_type": "code",
   "execution_count": 36,
   "id": "307b6b8f-d640-4bc8-8e88-b4e76490e4da",
   "metadata": {},
   "outputs": [],
   "source": [
    "X_train = train_df.drop(\" Label\", axis=1)\n",
    "y_train = train_df[\" Label\"]"
   ]
  },
  {
   "cell_type": "code",
   "execution_count": 37,
   "id": "1dc49a14-9fa3-4a92-ad62-ad7d0d12a6f0",
   "metadata": {},
   "outputs": [],
   "source": [
    "# X_val = validation_df.drop(\" Label\", axis=1)\n",
    "# y_val = validation_df[\" Label\"]"
   ]
  },
  {
   "cell_type": "code",
   "execution_count": 38,
   "id": "aad65e24-011a-4c07-bca5-f8b94717fb84",
   "metadata": {},
   "outputs": [],
   "source": [
    "X_test = test_df.drop(\" Label\", axis=1)\n",
    "y_test = test_df[\" Label\"]"
   ]
  },
  {
   "cell_type": "code",
   "execution_count": 39,
   "id": "955e13e2-88ea-46d2-897d-777b32003685",
   "metadata": {},
   "outputs": [
    {
     "name": "stdout",
     "output_type": "stream",
     "text": [
      "(240000, 70)\n",
      "(240000,)\n"
     ]
    }
   ],
   "source": [
    "print(X_train.shape)\n",
    "print(y_train.shape)"
   ]
  },
  {
   "cell_type": "code",
   "execution_count": 40,
   "id": "f697941f-c0ba-4227-8109-9767f71e512c",
   "metadata": {},
   "outputs": [],
   "source": [
    "# scaling\n",
    "\n",
    "from sklearn.preprocessing import MinMaxScaler\n",
    "\n",
    "scaler = MinMaxScaler()\n",
    "\n",
    "# Scale only non-binary columns\n",
    "X_train_scaled = X_train.copy()\n",
    "X_train_scaled[non_binary_columns] = scaler.fit_transform(X_train[non_binary_columns])\n",
    "\n",
    "# X_val_scaled = X_val.copy()\n",
    "# X_val_scaled[non_binary_columns] = scaler.transform(X_val[non_binary_columns])\n",
    "\n",
    "X_test_scaled = X_test.copy()\n",
    "X_test_scaled[non_binary_columns] = scaler.transform(X_test[non_binary_columns])"
   ]
  },
  {
   "cell_type": "code",
   "execution_count": 41,
   "id": "dde34cb5-a64c-4273-8700-b2ae359303a4",
   "metadata": {},
   "outputs": [
    {
     "data": {
      "text/plain": [
       "(240000, 70)"
      ]
     },
     "execution_count": 41,
     "metadata": {},
     "output_type": "execute_result"
    }
   ],
   "source": [
    "X_train.shape"
   ]
  },
  {
   "cell_type": "code",
   "execution_count": 42,
   "id": "2620b1a4-815b-46d7-97ca-0bdfa68017a1",
   "metadata": {},
   "outputs": [
    {
     "data": {
      "text/html": [
       "<div>\n",
       "<style scoped>\n",
       "    .dataframe tbody tr th:only-of-type {\n",
       "        vertical-align: middle;\n",
       "    }\n",
       "\n",
       "    .dataframe tbody tr th {\n",
       "        vertical-align: top;\n",
       "    }\n",
       "\n",
       "    .dataframe thead th {\n",
       "        text-align: right;\n",
       "    }\n",
       "</style>\n",
       "<table border=\"1\" class=\"dataframe\">\n",
       "  <thead>\n",
       "    <tr style=\"text-align: right;\">\n",
       "      <th></th>\n",
       "      <th>Destination Port</th>\n",
       "      <th>Protocol</th>\n",
       "      <th>Timestamp</th>\n",
       "      <th>Flow Duration</th>\n",
       "      <th>Total Fwd Packets</th>\n",
       "      <th>Total Backward Packets</th>\n",
       "      <th>Total Length of Fwd Packets</th>\n",
       "      <th>Total Length of Bwd Packets</th>\n",
       "      <th>Fwd Packet Length Max</th>\n",
       "      <th>Fwd Packet Length Min</th>\n",
       "      <th>...</th>\n",
       "      <th>act_data_pkt_fwd</th>\n",
       "      <th>min_seg_size_forward</th>\n",
       "      <th>Active Mean</th>\n",
       "      <th>Active Std</th>\n",
       "      <th>Active Max</th>\n",
       "      <th>Active Min</th>\n",
       "      <th>Idle Mean</th>\n",
       "      <th>Idle Std</th>\n",
       "      <th>Idle Max</th>\n",
       "      <th>Idle Min</th>\n",
       "    </tr>\n",
       "  </thead>\n",
       "  <tbody>\n",
       "    <tr>\n",
       "      <th>0</th>\n",
       "      <td>0.001231</td>\n",
       "      <td>0.352941</td>\n",
       "      <td>0.753597</td>\n",
       "      <td>0.000319</td>\n",
       "      <td>0.000000</td>\n",
       "      <td>0.000004</td>\n",
       "      <td>0.000005</td>\n",
       "      <td>9.569378e-09</td>\n",
       "      <td>0.000242</td>\n",
       "      <td>0.003026</td>\n",
       "      <td>...</td>\n",
       "      <td>0.000000</td>\n",
       "      <td>0.333333</td>\n",
       "      <td>0.000000e+00</td>\n",
       "      <td>0.0</td>\n",
       "      <td>0.000000e+00</td>\n",
       "      <td>0.000000e+00</td>\n",
       "      <td>0.000000</td>\n",
       "      <td>0.0</td>\n",
       "      <td>0.000000</td>\n",
       "      <td>0.000000</td>\n",
       "    </tr>\n",
       "    <tr>\n",
       "      <th>1</th>\n",
       "      <td>0.005984</td>\n",
       "      <td>0.352941</td>\n",
       "      <td>0.753597</td>\n",
       "      <td>0.000004</td>\n",
       "      <td>0.000049</td>\n",
       "      <td>0.000018</td>\n",
       "      <td>0.000141</td>\n",
       "      <td>5.199362e-07</td>\n",
       "      <td>0.003183</td>\n",
       "      <td>0.000000</td>\n",
       "      <td>...</td>\n",
       "      <td>0.000020</td>\n",
       "      <td>0.533333</td>\n",
       "      <td>0.000000e+00</td>\n",
       "      <td>0.0</td>\n",
       "      <td>0.000000e+00</td>\n",
       "      <td>0.000000e+00</td>\n",
       "      <td>0.000000</td>\n",
       "      <td>0.0</td>\n",
       "      <td>0.000000</td>\n",
       "      <td>0.000000</td>\n",
       "    </tr>\n",
       "    <tr>\n",
       "      <th>2</th>\n",
       "      <td>0.001354</td>\n",
       "      <td>0.352941</td>\n",
       "      <td>0.753597</td>\n",
       "      <td>0.000009</td>\n",
       "      <td>0.000044</td>\n",
       "      <td>0.000022</td>\n",
       "      <td>0.002573</td>\n",
       "      <td>5.023923e-06</td>\n",
       "      <td>0.063457</td>\n",
       "      <td>0.000000</td>\n",
       "      <td>...</td>\n",
       "      <td>0.000015</td>\n",
       "      <td>0.533333</td>\n",
       "      <td>0.000000e+00</td>\n",
       "      <td>0.0</td>\n",
       "      <td>0.000000e+00</td>\n",
       "      <td>0.000000e+00</td>\n",
       "      <td>0.000000</td>\n",
       "      <td>0.0</td>\n",
       "      <td>0.000000</td>\n",
       "      <td>0.000000</td>\n",
       "    </tr>\n",
       "    <tr>\n",
       "      <th>3</th>\n",
       "      <td>0.005984</td>\n",
       "      <td>0.352941</td>\n",
       "      <td>0.753597</td>\n",
       "      <td>0.000127</td>\n",
       "      <td>0.000078</td>\n",
       "      <td>0.000044</td>\n",
       "      <td>0.002820</td>\n",
       "      <td>1.062201e-05</td>\n",
       "      <td>0.052901</td>\n",
       "      <td>0.000000</td>\n",
       "      <td>...</td>\n",
       "      <td>0.000051</td>\n",
       "      <td>0.533333</td>\n",
       "      <td>0.000000e+00</td>\n",
       "      <td>0.0</td>\n",
       "      <td>0.000000e+00</td>\n",
       "      <td>0.000000e+00</td>\n",
       "      <td>0.000000</td>\n",
       "      <td>0.0</td>\n",
       "      <td>0.000000</td>\n",
       "      <td>0.000000</td>\n",
       "    </tr>\n",
       "    <tr>\n",
       "      <th>4</th>\n",
       "      <td>0.001354</td>\n",
       "      <td>0.352941</td>\n",
       "      <td>0.753597</td>\n",
       "      <td>0.000009</td>\n",
       "      <td>0.000039</td>\n",
       "      <td>0.000022</td>\n",
       "      <td>0.002573</td>\n",
       "      <td>5.027113e-06</td>\n",
       "      <td>0.063457</td>\n",
       "      <td>0.000000</td>\n",
       "      <td>...</td>\n",
       "      <td>0.000010</td>\n",
       "      <td>0.533333</td>\n",
       "      <td>0.000000e+00</td>\n",
       "      <td>0.0</td>\n",
       "      <td>0.000000e+00</td>\n",
       "      <td>0.000000e+00</td>\n",
       "      <td>0.000000</td>\n",
       "      <td>0.0</td>\n",
       "      <td>0.000000</td>\n",
       "      <td>0.000000</td>\n",
       "    </tr>\n",
       "    <tr>\n",
       "      <th>...</th>\n",
       "      <td>...</td>\n",
       "      <td>...</td>\n",
       "      <td>...</td>\n",
       "      <td>...</td>\n",
       "      <td>...</td>\n",
       "      <td>...</td>\n",
       "      <td>...</td>\n",
       "      <td>...</td>\n",
       "      <td>...</td>\n",
       "      <td>...</td>\n",
       "      <td>...</td>\n",
       "      <td>...</td>\n",
       "      <td>...</td>\n",
       "      <td>...</td>\n",
       "      <td>...</td>\n",
       "      <td>...</td>\n",
       "      <td>...</td>\n",
       "      <td>...</td>\n",
       "      <td>...</td>\n",
       "      <td>...</td>\n",
       "      <td>...</td>\n",
       "    </tr>\n",
       "    <tr>\n",
       "      <th>284417</th>\n",
       "      <td>0.001231</td>\n",
       "      <td>0.352941</td>\n",
       "      <td>0.996403</td>\n",
       "      <td>0.825506</td>\n",
       "      <td>0.000029</td>\n",
       "      <td>0.000022</td>\n",
       "      <td>0.000258</td>\n",
       "      <td>1.849282e-05</td>\n",
       "      <td>0.012732</td>\n",
       "      <td>0.000000</td>\n",
       "      <td>...</td>\n",
       "      <td>0.000005</td>\n",
       "      <td>0.533333</td>\n",
       "      <td>1.633824e-05</td>\n",
       "      <td>0.0</td>\n",
       "      <td>1.122222e-05</td>\n",
       "      <td>1.633824e-05</td>\n",
       "      <td>0.824167</td>\n",
       "      <td>0.0</td>\n",
       "      <td>0.824167</td>\n",
       "      <td>0.824167</td>\n",
       "    </tr>\n",
       "    <tr>\n",
       "      <th>284418</th>\n",
       "      <td>0.001231</td>\n",
       "      <td>0.352941</td>\n",
       "      <td>0.996403</td>\n",
       "      <td>0.825506</td>\n",
       "      <td>0.000025</td>\n",
       "      <td>0.000022</td>\n",
       "      <td>0.000292</td>\n",
       "      <td>1.849282e-05</td>\n",
       "      <td>0.014424</td>\n",
       "      <td>0.000000</td>\n",
       "      <td>...</td>\n",
       "      <td>0.000005</td>\n",
       "      <td>0.533333</td>\n",
       "      <td>4.411765e-08</td>\n",
       "      <td>0.0</td>\n",
       "      <td>3.030303e-08</td>\n",
       "      <td>4.411765e-08</td>\n",
       "      <td>0.824167</td>\n",
       "      <td>0.0</td>\n",
       "      <td>0.824167</td>\n",
       "      <td>0.824167</td>\n",
       "    </tr>\n",
       "    <tr>\n",
       "      <th>284419</th>\n",
       "      <td>0.001231</td>\n",
       "      <td>0.352941</td>\n",
       "      <td>0.996403</td>\n",
       "      <td>0.825633</td>\n",
       "      <td>0.000029</td>\n",
       "      <td>0.000022</td>\n",
       "      <td>0.000330</td>\n",
       "      <td>1.849282e-05</td>\n",
       "      <td>0.016277</td>\n",
       "      <td>0.000000</td>\n",
       "      <td>...</td>\n",
       "      <td>0.000005</td>\n",
       "      <td>0.533333</td>\n",
       "      <td>1.470588e-05</td>\n",
       "      <td>0.0</td>\n",
       "      <td>1.010101e-05</td>\n",
       "      <td>1.470588e-05</td>\n",
       "      <td>0.824167</td>\n",
       "      <td>0.0</td>\n",
       "      <td>0.824167</td>\n",
       "      <td>0.824167</td>\n",
       "    </tr>\n",
       "    <tr>\n",
       "      <th>284420</th>\n",
       "      <td>0.001231</td>\n",
       "      <td>0.352941</td>\n",
       "      <td>0.996403</td>\n",
       "      <td>0.825711</td>\n",
       "      <td>0.000034</td>\n",
       "      <td>0.000018</td>\n",
       "      <td>0.000335</td>\n",
       "      <td>1.849282e-05</td>\n",
       "      <td>0.016519</td>\n",
       "      <td>0.000000</td>\n",
       "      <td>...</td>\n",
       "      <td>0.000005</td>\n",
       "      <td>0.533333</td>\n",
       "      <td>5.357353e-05</td>\n",
       "      <td>0.0</td>\n",
       "      <td>3.679798e-05</td>\n",
       "      <td>5.357353e-05</td>\n",
       "      <td>0.824167</td>\n",
       "      <td>0.0</td>\n",
       "      <td>0.824167</td>\n",
       "      <td>0.824167</td>\n",
       "    </tr>\n",
       "    <tr>\n",
       "      <th>284421</th>\n",
       "      <td>0.001231</td>\n",
       "      <td>0.352941</td>\n",
       "      <td>0.996403</td>\n",
       "      <td>0.825715</td>\n",
       "      <td>0.000039</td>\n",
       "      <td>0.000022</td>\n",
       "      <td>0.000279</td>\n",
       "      <td>1.849282e-05</td>\n",
       "      <td>0.013779</td>\n",
       "      <td>0.000000</td>\n",
       "      <td>...</td>\n",
       "      <td>0.000005</td>\n",
       "      <td>0.533333</td>\n",
       "      <td>2.907353e-05</td>\n",
       "      <td>0.0</td>\n",
       "      <td>1.996970e-05</td>\n",
       "      <td>2.907353e-05</td>\n",
       "      <td>0.824167</td>\n",
       "      <td>0.0</td>\n",
       "      <td>0.824167</td>\n",
       "      <td>0.824167</td>\n",
       "    </tr>\n",
       "  </tbody>\n",
       "</table>\n",
       "<p>240000 rows × 70 columns</p>\n",
       "</div>"
      ],
      "text/plain": [
       "         Destination Port   Protocol   Timestamp   Flow Duration  \\\n",
       "0                0.001231   0.352941    0.753597        0.000319   \n",
       "1                0.005984   0.352941    0.753597        0.000004   \n",
       "2                0.001354   0.352941    0.753597        0.000009   \n",
       "3                0.005984   0.352941    0.753597        0.000127   \n",
       "4                0.001354   0.352941    0.753597        0.000009   \n",
       "...                   ...        ...         ...             ...   \n",
       "284417           0.001231   0.352941    0.996403        0.825506   \n",
       "284418           0.001231   0.352941    0.996403        0.825506   \n",
       "284419           0.001231   0.352941    0.996403        0.825633   \n",
       "284420           0.001231   0.352941    0.996403        0.825711   \n",
       "284421           0.001231   0.352941    0.996403        0.825715   \n",
       "\n",
       "         Total Fwd Packets   Total Backward Packets  \\\n",
       "0                 0.000000                 0.000004   \n",
       "1                 0.000049                 0.000018   \n",
       "2                 0.000044                 0.000022   \n",
       "3                 0.000078                 0.000044   \n",
       "4                 0.000039                 0.000022   \n",
       "...                    ...                      ...   \n",
       "284417            0.000029                 0.000022   \n",
       "284418            0.000025                 0.000022   \n",
       "284419            0.000029                 0.000022   \n",
       "284420            0.000034                 0.000018   \n",
       "284421            0.000039                 0.000022   \n",
       "\n",
       "        Total Length of Fwd Packets   Total Length of Bwd Packets  \\\n",
       "0                          0.000005                  9.569378e-09   \n",
       "1                          0.000141                  5.199362e-07   \n",
       "2                          0.002573                  5.023923e-06   \n",
       "3                          0.002820                  1.062201e-05   \n",
       "4                          0.002573                  5.027113e-06   \n",
       "...                             ...                           ...   \n",
       "284417                     0.000258                  1.849282e-05   \n",
       "284418                     0.000292                  1.849282e-05   \n",
       "284419                     0.000330                  1.849282e-05   \n",
       "284420                     0.000335                  1.849282e-05   \n",
       "284421                     0.000279                  1.849282e-05   \n",
       "\n",
       "         Fwd Packet Length Max   Fwd Packet Length Min  ...  \\\n",
       "0                     0.000242                0.003026  ...   \n",
       "1                     0.003183                0.000000  ...   \n",
       "2                     0.063457                0.000000  ...   \n",
       "3                     0.052901                0.000000  ...   \n",
       "4                     0.063457                0.000000  ...   \n",
       "...                        ...                     ...  ...   \n",
       "284417                0.012732                0.000000  ...   \n",
       "284418                0.014424                0.000000  ...   \n",
       "284419                0.016277                0.000000  ...   \n",
       "284420                0.016519                0.000000  ...   \n",
       "284421                0.013779                0.000000  ...   \n",
       "\n",
       "         act_data_pkt_fwd   min_seg_size_forward   Active Mean   Active Std  \\\n",
       "0                0.000000               0.333333  0.000000e+00          0.0   \n",
       "1                0.000020               0.533333  0.000000e+00          0.0   \n",
       "2                0.000015               0.533333  0.000000e+00          0.0   \n",
       "3                0.000051               0.533333  0.000000e+00          0.0   \n",
       "4                0.000010               0.533333  0.000000e+00          0.0   \n",
       "...                   ...                    ...           ...          ...   \n",
       "284417           0.000005               0.533333  1.633824e-05          0.0   \n",
       "284418           0.000005               0.533333  4.411765e-08          0.0   \n",
       "284419           0.000005               0.533333  1.470588e-05          0.0   \n",
       "284420           0.000005               0.533333  5.357353e-05          0.0   \n",
       "284421           0.000005               0.533333  2.907353e-05          0.0   \n",
       "\n",
       "          Active Max    Active Min  Idle Mean   Idle Std   Idle Max   Idle Min  \n",
       "0       0.000000e+00  0.000000e+00   0.000000        0.0   0.000000   0.000000  \n",
       "1       0.000000e+00  0.000000e+00   0.000000        0.0   0.000000   0.000000  \n",
       "2       0.000000e+00  0.000000e+00   0.000000        0.0   0.000000   0.000000  \n",
       "3       0.000000e+00  0.000000e+00   0.000000        0.0   0.000000   0.000000  \n",
       "4       0.000000e+00  0.000000e+00   0.000000        0.0   0.000000   0.000000  \n",
       "...              ...           ...        ...        ...        ...        ...  \n",
       "284417  1.122222e-05  1.633824e-05   0.824167        0.0   0.824167   0.824167  \n",
       "284418  3.030303e-08  4.411765e-08   0.824167        0.0   0.824167   0.824167  \n",
       "284419  1.010101e-05  1.470588e-05   0.824167        0.0   0.824167   0.824167  \n",
       "284420  3.679798e-05  5.357353e-05   0.824167        0.0   0.824167   0.824167  \n",
       "284421  1.996970e-05  2.907353e-05   0.824167        0.0   0.824167   0.824167  \n",
       "\n",
       "[240000 rows x 70 columns]"
      ]
     },
     "execution_count": 42,
     "metadata": {},
     "output_type": "execute_result"
    }
   ],
   "source": [
    "X_train_scaled"
   ]
  },
  {
   "cell_type": "markdown",
   "id": "598305a4-bf3f-4488-94d1-022238cbb879",
   "metadata": {},
   "source": [
    "## Train the model, with validation"
   ]
  },
  {
   "cell_type": "code",
   "execution_count": 43,
   "id": "718b9c04-5707-47c1-91ac-52ea4087e0bf",
   "metadata": {},
   "outputs": [
    {
     "name": "stderr",
     "output_type": "stream",
     "text": [
      "2024-06-30 16:49:04.697314: I external/local_tsl/tsl/cuda/cudart_stub.cc:32] Could not find cuda drivers on your machine, GPU will not be used.\n",
      "2024-06-30 16:49:04.934757: I external/local_tsl/tsl/cuda/cudart_stub.cc:32] Could not find cuda drivers on your machine, GPU will not be used.\n",
      "2024-06-30 16:49:05.847950: I tensorflow/core/platform/cpu_feature_guard.cc:210] This TensorFlow binary is optimized to use available CPU instructions in performance-critical operations.\n",
      "To enable the following instructions: AVX2 FMA, in other operations, rebuild TensorFlow with the appropriate compiler flags.\n",
      "2024-06-30 16:49:08.237149: W tensorflow/compiler/tf2tensorrt/utils/py_utils.cc:38] TF-TRT Warning: Could not find TensorRT\n"
     ]
    }
   ],
   "source": [
    "# LSTM Model\n",
    "\n",
    "from tensorflow.keras.models import Sequential\n",
    "from tensorflow.keras.layers import LSTM, Dense, Dropout\n",
    "\n",
    "def LSTM_model(input_size):\n",
    "    # Initialize the constructor\n",
    "    model = Sequential()\n",
    "    \n",
    "    # Add layers to the model\n",
    "    model.add(LSTM(64, input_shape=(input_size, 1), return_sequences=False))\n",
    "    model.add(Dropout(0.5))\n",
    "    model.add(Dense(16, activation='relu'))\n",
    "    model.add(Dense(1, activation='sigmoid'))\n",
    "    \n",
    "    # Compile the model\n",
    "    model.compile(optimizer='adam', loss='binary_crossentropy', metrics=['accuracy'])\n",
    "    \n",
    "    return model"
   ]
  },
  {
   "cell_type": "code",
   "execution_count": 44,
   "id": "662cdd76-6fd3-49a6-a045-3e8ac7ab8d09",
   "metadata": {},
   "outputs": [
    {
     "name": "stderr",
     "output_type": "stream",
     "text": [
      "/home/bishal/.local/lib/python3.12/site-packages/keras/src/layers/rnn/rnn.py:204: UserWarning: Do not pass an `input_shape`/`input_dim` argument to a layer. When using Sequential models, prefer using an `Input(shape)` object as the first layer in the model instead.\n",
      "  super().__init__(**kwargs)\n"
     ]
    }
   ],
   "source": [
    "model_lstm = LSTM_model(70)"
   ]
  },
  {
   "cell_type": "code",
   "execution_count": 45,
   "id": "2586ee1d-35cc-4af2-9882-537ca69c5397",
   "metadata": {},
   "outputs": [
    {
     "name": "stdout",
     "output_type": "stream",
     "text": [
      "Epoch 1/20\n",
      "\u001b[1m188/188\u001b[0m \u001b[32m━━━━━━━━━━━━━━━━━━━━\u001b[0m\u001b[37m\u001b[0m \u001b[1m47s\u001b[0m 232ms/step - accuracy: 0.7824 - loss: 0.4683 - val_accuracy: 0.9834 - val_loss: 0.0699\n",
      "Epoch 2/20\n",
      "\u001b[1m188/188\u001b[0m \u001b[32m━━━━━━━━━━━━━━━━━━━━\u001b[0m\u001b[37m\u001b[0m \u001b[1m44s\u001b[0m 232ms/step - accuracy: 0.9711 - loss: 0.0825 - val_accuracy: 0.9950 - val_loss: 0.0198\n",
      "Epoch 3/20\n",
      "\u001b[1m188/188\u001b[0m \u001b[32m━━━━━━━━━━━━━━━━━━━━\u001b[0m\u001b[37m\u001b[0m \u001b[1m43s\u001b[0m 229ms/step - accuracy: 0.9873 - loss: 0.0388 - val_accuracy: 0.9936 - val_loss: 0.0200\n",
      "Epoch 4/20\n",
      "\u001b[1m188/188\u001b[0m \u001b[32m━━━━━━━━━━━━━━━━━━━━\u001b[0m\u001b[37m\u001b[0m \u001b[1m44s\u001b[0m 233ms/step - accuracy: 0.9905 - loss: 0.0298 - val_accuracy: 0.9973 - val_loss: 0.0104\n",
      "Epoch 5/20\n",
      "\u001b[1m188/188\u001b[0m \u001b[32m━━━━━━━━━━━━━━━━━━━━\u001b[0m\u001b[37m\u001b[0m \u001b[1m42s\u001b[0m 222ms/step - accuracy: 0.9931 - loss: 0.0236 - val_accuracy: 0.9989 - val_loss: 0.0050\n",
      "Epoch 6/20\n",
      "\u001b[1m188/188\u001b[0m \u001b[32m━━━━━━━━━━━━━━━━━━━━\u001b[0m\u001b[37m\u001b[0m \u001b[1m42s\u001b[0m 223ms/step - accuracy: 0.9956 - loss: 0.0157 - val_accuracy: 0.9990 - val_loss: 0.0050\n",
      "Epoch 7/20\n",
      "\u001b[1m188/188\u001b[0m \u001b[32m━━━━━━━━━━━━━━━━━━━━\u001b[0m\u001b[37m\u001b[0m \u001b[1m45s\u001b[0m 241ms/step - accuracy: 0.9964 - loss: 0.0141 - val_accuracy: 0.9977 - val_loss: 0.0090\n",
      "Epoch 8/20\n",
      "\u001b[1m188/188\u001b[0m \u001b[32m━━━━━━━━━━━━━━━━━━━━\u001b[0m\u001b[37m\u001b[0m \u001b[1m43s\u001b[0m 231ms/step - accuracy: 0.9965 - loss: 0.0136 - val_accuracy: 0.9990 - val_loss: 0.0062\n",
      "Epoch 9/20\n",
      "\u001b[1m188/188\u001b[0m \u001b[32m━━━━━━━━━━━━━━━━━━━━\u001b[0m\u001b[37m\u001b[0m \u001b[1m44s\u001b[0m 234ms/step - accuracy: 0.9966 - loss: 0.0131 - val_accuracy: 0.9996 - val_loss: 0.0029\n",
      "Epoch 10/20\n",
      "\u001b[1m188/188\u001b[0m \u001b[32m━━━━━━━━━━━━━━━━━━━━\u001b[0m\u001b[37m\u001b[0m \u001b[1m48s\u001b[0m 256ms/step - accuracy: 0.9971 - loss: 0.0118 - val_accuracy: 0.9992 - val_loss: 0.0038\n",
      "Epoch 11/20\n",
      "\u001b[1m188/188\u001b[0m \u001b[32m━━━━━━━━━━━━━━━━━━━━\u001b[0m\u001b[37m\u001b[0m \u001b[1m48s\u001b[0m 255ms/step - accuracy: 0.9970 - loss: 0.0114 - val_accuracy: 0.9996 - val_loss: 0.0051\n",
      "Epoch 12/20\n",
      "\u001b[1m188/188\u001b[0m \u001b[32m━━━━━━━━━━━━━━━━━━━━\u001b[0m\u001b[37m\u001b[0m \u001b[1m46s\u001b[0m 246ms/step - accuracy: 0.9968 - loss: 0.0126 - val_accuracy: 0.9996 - val_loss: 0.0030\n",
      "Epoch 13/20\n",
      "\u001b[1m188/188\u001b[0m \u001b[32m━━━━━━━━━━━━━━━━━━━━\u001b[0m\u001b[37m\u001b[0m \u001b[1m48s\u001b[0m 256ms/step - accuracy: 0.9975 - loss: 0.0099 - val_accuracy: 0.9987 - val_loss: 0.0038\n",
      "Epoch 14/20\n",
      "\u001b[1m188/188\u001b[0m \u001b[32m━━━━━━━━━━━━━━━━━━━━\u001b[0m\u001b[37m\u001b[0m \u001b[1m44s\u001b[0m 236ms/step - accuracy: 0.9969 - loss: 0.0111 - val_accuracy: 0.9996 - val_loss: 0.0035\n",
      "Epoch 15/20\n",
      "\u001b[1m188/188\u001b[0m \u001b[32m━━━━━━━━━━━━━━━━━━━━\u001b[0m\u001b[37m\u001b[0m \u001b[1m40s\u001b[0m 212ms/step - accuracy: 0.9976 - loss: 0.0090 - val_accuracy: 0.9996 - val_loss: 0.0032\n",
      "Epoch 16/20\n",
      "\u001b[1m188/188\u001b[0m \u001b[32m━━━━━━━━━━━━━━━━━━━━\u001b[0m\u001b[37m\u001b[0m \u001b[1m42s\u001b[0m 224ms/step - accuracy: 0.9973 - loss: 0.0094 - val_accuracy: 0.9998 - val_loss: 0.0035\n",
      "Epoch 17/20\n",
      "\u001b[1m188/188\u001b[0m \u001b[32m━━━━━━━━━━━━━━━━━━━━\u001b[0m\u001b[37m\u001b[0m \u001b[1m40s\u001b[0m 215ms/step - accuracy: 0.9974 - loss: 0.0095 - val_accuracy: 0.9996 - val_loss: 0.0026\n",
      "Epoch 18/20\n",
      "\u001b[1m188/188\u001b[0m \u001b[32m━━━━━━━━━━━━━━━━━━━━\u001b[0m\u001b[37m\u001b[0m \u001b[1m44s\u001b[0m 233ms/step - accuracy: 0.9969 - loss: 0.0115 - val_accuracy: 0.9997 - val_loss: 0.0047\n",
      "Epoch 19/20\n",
      "\u001b[1m188/188\u001b[0m \u001b[32m━━━━━━━━━━━━━━━━━━━━\u001b[0m\u001b[37m\u001b[0m \u001b[1m39s\u001b[0m 206ms/step - accuracy: 0.9973 - loss: 0.0105 - val_accuracy: 0.9996 - val_loss: 0.0064\n",
      "Epoch 20/20\n",
      "\u001b[1m188/188\u001b[0m \u001b[32m━━━━━━━━━━━━━━━━━━━━\u001b[0m\u001b[37m\u001b[0m \u001b[1m39s\u001b[0m 207ms/step - accuracy: 0.9976 - loss: 0.0094 - val_accuracy: 0.9995 - val_loss: 0.0033\n"
     ]
    }
   ],
   "source": [
    "history_lstm = model_lstm.fit(\n",
    "    X_train, \n",
    "    y_train, \n",
    "    epochs=20, \n",
    "    batch_size=1024, \n",
    "    validation_split=0.2,\n",
    "    # validation_data=(X_val, y_val), \n",
    "    # shuffle=False\n",
    ")"
   ]
  },
  {
   "cell_type": "code",
   "execution_count": 46,
   "id": "8e5aac2b-deed-4e67-8fbf-143e87027d4c",
   "metadata": {},
   "outputs": [
    {
     "data": {
      "image/png": "[encoded data removed]",
      "text/plain": [
       "<Figure size 640x480 with 1 Axes>"
      ]
     },
     "metadata": {},
     "output_type": "display_data"
    }
   ],
   "source": [
    "import matplotlib.pyplot as plt\n",
    "\n",
    "# Retrieve training and validation loss from history object\n",
    "loss = history_lstm.history['loss']\n",
    "val_loss = history_lstm.history['val_loss']\n",
    "\n",
    "# Plotting the training and validation loss\n",
    "epochs = range(1, len(loss) + 1)\n",
    "plt.plot(epochs, loss, 'g', label='Training Loss')\n",
    "plt.plot(epochs, val_loss, 'r', label='Validation Loss')\n",
    "plt.title('Loss vs. Number of epochs')\n",
    "plt.xlabel('Number of Epochs')\n",
    "plt.ylabel('Loss')\n",
    "plt.legend()\n",
    "plt.show()\n"
   ]
  },
  {
   "cell_type": "code",
   "execution_count": 47,
   "id": "e5d4d172-7406-4756-94d9-326c687fd59c",
   "metadata": {},
   "outputs": [
    {
     "data": {
      "image/png": "[encoded data removed]",
      "text/plain": [
       "<Figure size 640x480 with 1 Axes>"
      ]
     },
     "metadata": {},
     "output_type": "display_data"
    }
   ],
   "source": [
    "accuracy = history_lstm.history['accuracy']\n",
    "val_accuracy = history_lstm.history['val_accuracy']\n",
    "plt.plot(epochs, accuracy , 'g', label = 'Training accuracy')\n",
    "plt.plot(epochs, val_accuracy , 'r', label = 'Validation accuracy')\n",
    "plt.title('Accuracy Scores v/s Number of Epochs')\n",
    "plt.xlabel('No. of Epochs')\n",
    "plt.ylabel('Accuracy Score')\n",
    "plt.legend()\n",
    "plt.show()"
   ]
  },
  {
   "cell_type": "markdown",
   "id": "080dc4c2-f8ba-4b69-82f2-e4ef73661452",
   "metadata": {},
   "source": [
    "## Testing and evaluation"
   ]
  },
  {
   "cell_type": "code",
   "execution_count": 48,
   "id": "c7d2f51e-8547-419f-9353-038ae3c9044e",
   "metadata": {},
   "outputs": [],
   "source": [
    "from sklearn.metrics import confusion_matrix, accuracy_score, precision_score, recall_score, f1_score\n",
    "\n",
    "def evaluate(model, X_test, y_test):\n",
    "    y_pred = model.predict(X_test)\n",
    "    y_pred_binary = (y_pred > 0.5).astype(int)\n",
    "\n",
    "    # Generating confusion matrix\n",
    "    cm = confusion_matrix(y_test, y_pred_binary)\n",
    "    print(\"Confusion Matrix:\")\n",
    "    print(cm)\n",
    "\n",
    "    # Evaluation parameters\n",
    "    accuracy = accuracy_score(y_test, y_pred_binary)\n",
    "    precision = precision_score(y_test, y_pred_binary)\n",
    "    recall = recall_score(y_test, y_pred_binary)\n",
    "    f1 = f1_score(y_test, y_pred_binary)\n",
    "\n",
    "    print(\"Accuracy:\", accuracy)\n",
    "    print(\"Precision:\", precision)\n",
    "    print(\"Recall:\", recall)\n",
    "    print(\"F1 Score:\", f1)\n",
    "\n",
    "    return cm, y_pred"
   ]
  },
  {
   "cell_type": "code",
   "execution_count": 49,
   "id": "75b9b0f9-58ab-41f6-a1bc-0f8087c45af0",
   "metadata": {},
   "outputs": [
    {
     "name": "stdout",
     "output_type": "stream",
     "text": [
      "\u001b[1m1875/1875\u001b[0m \u001b[32m━━━━━━━━━━━━━━━━━━━━\u001b[0m\u001b[37m\u001b[0m \u001b[1m14s\u001b[0m 7ms/step\n",
      "Confusion Matrix:\n",
      "[[33660   170]\n",
      " [ 1269 24901]]\n",
      "Accuracy: 0.9760166666666666\n",
      "Precision: 0.9932192573092418\n",
      "Recall: 0.9515093618647306\n",
      "F1 Score: 0.9719170195741691\n"
     ]
    }
   ],
   "source": [
    "cm_lstm, y_pred_lstm = evaluate(model_lstm, X_test, y_test)"
   ]
  },
  {
   "cell_type": "code",
   "execution_count": 50,
   "id": "33617102-dddb-4af2-b0f4-833e76677bed",
   "metadata": {},
   "outputs": [
    {
     "data": {
      "image/png": "[encoded data removed]",
      "text/plain": [
       "<Figure size 800x600 with 2 Axes>"
      ]
     },
     "metadata": {},
     "output_type": "display_data"
    }
   ],
   "source": [
    "import seaborn as sns\n",
    "import matplotlib.pyplot as plt\n",
    "\n",
    "# Plot confusion matrix\n",
    "plt.figure(figsize=(8, 6))\n",
    "sns.heatmap(cm_lstm, annot=True, cmap='Blues', fmt='g', \n",
    "            xticklabels=['Predicted Negative', 'Predicted Positive'], \n",
    "            yticklabels=['Actual Negative', 'Actual Positive'])\n",
    "plt.title('Confusion Matrix LSTM')\n",
    "plt.xlabel('Predicted label')\n",
    "plt.ylabel('True label')\n",
    "plt.show()"
   ]
  },
  {
   "cell_type": "code",
   "execution_count": 51,
   "id": "4bc70560-dd01-439c-8f9d-7d6a5a80010e",
   "metadata": {},
   "outputs": [
    {
     "data": {
      "image/png": "[encoded data removed]",
      "text/plain": [
       "<Figure size 640x480 with 1 Axes>"
      ]
     },
     "metadata": {},
     "output_type": "display_data"
    }
   ],
   "source": [
    "from sklearn.metrics import precision_recall_curve, auc\n",
    "import matplotlib.pyplot as plt\n",
    "\n",
    "# Calculate precision-recall curve\n",
    "precision, recall, _ = precision_recall_curve(y_test, y_pred_lstm)\n",
    "pr_auc = auc(recall, precision)\n",
    "\n",
    "# Plot PR curve\n",
    "plt.figure()\n",
    "plt.plot(recall, precision, color='darkorange', lw=2, label='PR curve (area = %0.6f)' % pr_auc)\n",
    "plt.xlim([0.0, 1.0])\n",
    "plt.ylim([0.0, 1.05])\n",
    "plt.xlabel('Recall')\n",
    "plt.ylabel('Precision')\n",
    "plt.title('Precision-Recall Curve LSTM')\n",
    "plt.legend(loc=\"lower right\")\n",
    "plt.show()"
   ]
  },
  {
   "cell_type": "code",
   "execution_count": null,
   "id": "02f30a4c-24af-475f-a49b-57007298e423",
   "metadata": {},
   "outputs": [],
   "source": []
  }
 ],
 "metadata": {
  "kernelspec": {
   "display_name": "Python 3 (ipykernel)",
   "language": "python",
   "name": "python3"
  },
  "language_info": {
   "codemirror_mode": {
    "name": "ipython",
    "version": 3
   },
   "file_extension": ".py",
   "mimetype": "text/x-python",
   "name": "python",
   "nbconvert_exporter": "python",
   "pygments_lexer": "ipython3",
   "version": "3.12.4"
  }
 },
 "nbformat": 4,
 "nbformat_minor": 5
}
