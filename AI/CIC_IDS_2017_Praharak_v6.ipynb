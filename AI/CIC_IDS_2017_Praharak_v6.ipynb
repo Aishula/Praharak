{
 "cells": [
  {
   "cell_type": "markdown",
   "id": "8c45ff74-9af1-4634-a521-714aa41cd592",
   "metadata": {},
   "source": [
    "## Read datasets"
   ]
  },
  {
   "cell_type": "code",
   "execution_count": 23,
   "id": "96387b00-615e-4739-a58b-c2e6ee0db698",
   "metadata": {},
   "outputs": [],
   "source": [
    "import pandas as pd"
   ]
  },
  {
   "cell_type": "code",
   "execution_count": 24,
   "id": "c31af30f-aff0-400d-b5d5-925649390b33",
   "metadata": {},
   "outputs": [],
   "source": [
    "df1 = pd.read_csv(\"cic_ids_2017_original/Wednesday-workingHours.pcap_ISCX.csv\")"
   ]
  },
  {
   "cell_type": "code",
   "execution_count": 25,
   "id": "22edc101-8b6f-4864-b02f-1ba45b89a252",
   "metadata": {},
   "outputs": [
    {
     "name": "stdout",
     "output_type": "stream",
     "text": [
      "<class 'pandas.core.frame.DataFrame'>\n",
      "RangeIndex: 692703 entries, 0 to 692702\n",
      "Data columns (total 85 columns):\n",
      " #   Column                        Non-Null Count   Dtype  \n",
      "---  ------                        --------------   -----  \n",
      " 0   Flow ID                       692703 non-null  object \n",
      " 1    Source IP                    692703 non-null  object \n",
      " 2    Source Port                  692703 non-null  int64  \n",
      " 3    Destination IP               692703 non-null  object \n",
      " 4    Destination Port             692703 non-null  int64  \n",
      " 5    Protocol                     692703 non-null  int64  \n",
      " 6    Timestamp                    692703 non-null  object \n",
      " 7    Flow Duration                692703 non-null  int64  \n",
      " 8    Total Fwd Packets            692703 non-null  int64  \n",
      " 9    Total Backward Packets       692703 non-null  int64  \n",
      " 10  Total Length of Fwd Packets   692703 non-null  int64  \n",
      " 11   Total Length of Bwd Packets  692703 non-null  float64\n",
      " 12   Fwd Packet Length Max        692703 non-null  int64  \n",
      " 13   Fwd Packet Length Min        692703 non-null  int64  \n",
      " 14   Fwd Packet Length Mean       692703 non-null  float64\n",
      " 15   Fwd Packet Length Std        692703 non-null  float64\n",
      " 16  Bwd Packet Length Max         692703 non-null  int64  \n",
      " 17   Bwd Packet Length Min        692703 non-null  int64  \n",
      " 18   Bwd Packet Length Mean       692703 non-null  float64\n",
      " 19   Bwd Packet Length Std        692703 non-null  float64\n",
      " 20  Flow Bytes/s                  691695 non-null  float64\n",
      " 21   Flow Packets/s               692703 non-null  float64\n",
      " 22   Flow IAT Mean                692703 non-null  float64\n",
      " 23   Flow IAT Std                 692703 non-null  float64\n",
      " 24   Flow IAT Max                 692703 non-null  float64\n",
      " 25   Flow IAT Min                 692703 non-null  float64\n",
      " 26  Fwd IAT Total                 692703 non-null  float64\n",
      " 27   Fwd IAT Mean                 692703 non-null  float64\n",
      " 28   Fwd IAT Std                  692703 non-null  float64\n",
      " 29   Fwd IAT Max                  692703 non-null  float64\n",
      " 30   Fwd IAT Min                  692703 non-null  float64\n",
      " 31  Bwd IAT Total                 692703 non-null  float64\n",
      " 32   Bwd IAT Mean                 692703 non-null  float64\n",
      " 33   Bwd IAT Std                  692703 non-null  float64\n",
      " 34   Bwd IAT Max                  692703 non-null  float64\n",
      " 35   Bwd IAT Min                  692703 non-null  float64\n",
      " 36  Fwd PSH Flags                 692703 non-null  int64  \n",
      " 37   Bwd PSH Flags                692703 non-null  int64  \n",
      " 38   Fwd URG Flags                692703 non-null  int64  \n",
      " 39   Bwd URG Flags                692703 non-null  int64  \n",
      " 40   Fwd Header Length            692703 non-null  int64  \n",
      " 41   Bwd Header Length            692703 non-null  int64  \n",
      " 42  Fwd Packets/s                 692703 non-null  float64\n",
      " 43   Bwd Packets/s                692703 non-null  float64\n",
      " 44   Min Packet Length            692703 non-null  int64  \n",
      " 45   Max Packet Length            692703 non-null  int64  \n",
      " 46   Packet Length Mean           692703 non-null  float64\n",
      " 47   Packet Length Std            692703 non-null  float64\n",
      " 48   Packet Length Variance       692703 non-null  float64\n",
      " 49  FIN Flag Count                692703 non-null  int64  \n",
      " 50   SYN Flag Count               692703 non-null  int64  \n",
      " 51   RST Flag Count               692703 non-null  int64  \n",
      " 52   PSH Flag Count               692703 non-null  int64  \n",
      " 53   ACK Flag Count               692703 non-null  int64  \n",
      " 54   URG Flag Count               692703 non-null  int64  \n",
      " 55   CWE Flag Count               692703 non-null  int64  \n",
      " 56   ECE Flag Count               692703 non-null  int64  \n",
      " 57   Down/Up Ratio                692703 non-null  int64  \n",
      " 58   Average Packet Size          692703 non-null  float64\n",
      " 59   Avg Fwd Segment Size         692703 non-null  float64\n",
      " 60   Avg Bwd Segment Size         692703 non-null  float64\n",
      " 61   Fwd Header Length.1          692703 non-null  int64  \n",
      " 62  Fwd Avg Bytes/Bulk            692703 non-null  int64  \n",
      " 63   Fwd Avg Packets/Bulk         692703 non-null  int64  \n",
      " 64   Fwd Avg Bulk Rate            692703 non-null  int64  \n",
      " 65   Bwd Avg Bytes/Bulk           692703 non-null  int64  \n",
      " 66   Bwd Avg Packets/Bulk         692703 non-null  int64  \n",
      " 67  Bwd Avg Bulk Rate             692703 non-null  int64  \n",
      " 68  Subflow Fwd Packets           692703 non-null  int64  \n",
      " 69   Subflow Fwd Bytes            692703 non-null  int64  \n",
      " 70   Subflow Bwd Packets          692703 non-null  int64  \n",
      " 71   Subflow Bwd Bytes            692703 non-null  int64  \n",
      " 72  Init_Win_bytes_forward        692703 non-null  int64  \n",
      " 73   Init_Win_bytes_backward      692703 non-null  int64  \n",
      " 74   act_data_pkt_fwd             692703 non-null  int64  \n",
      " 75   min_seg_size_forward         692703 non-null  int64  \n",
      " 76  Active Mean                   692703 non-null  float64\n",
      " 77   Active Std                   692703 non-null  float64\n",
      " 78   Active Max                   692703 non-null  float64\n",
      " 79   Active Min                   692703 non-null  float64\n",
      " 80  Idle Mean                     692703 non-null  float64\n",
      " 81   Idle Std                     692703 non-null  float64\n",
      " 82   Idle Max                     692703 non-null  float64\n",
      " 83   Idle Min                     692703 non-null  float64\n",
      " 84   Label                        692703 non-null  object \n",
      "dtypes: float64(37), int64(43), object(5)\n",
      "memory usage: 449.2+ MB\n"
     ]
    }
   ],
   "source": [
    "df1.info()"
   ]
  },
  {
   "cell_type": "code",
   "execution_count": 26,
   "id": "763ee1aa-fcbb-41ee-97ea-632bcab983f7",
   "metadata": {},
   "outputs": [
    {
     "data": {
      "text/plain": [
       "(692703, 85)"
      ]
     },
     "execution_count": 26,
     "metadata": {},
     "output_type": "execute_result"
    }
   ],
   "source": [
    "df1.shape"
   ]
  },
  {
   "cell_type": "code",
   "execution_count": 29,
   "id": "1f45bc14-8964-46d6-8e13-5c66c7bd40cb",
   "metadata": {},
   "outputs": [
    {
     "data": {
      "text/html": [
       "<div>\n",
       "<style scoped>\n",
       "    .dataframe tbody tr th:only-of-type {\n",
       "        vertical-align: middle;\n",
       "    }\n",
       "\n",
       "    .dataframe tbody tr th {\n",
       "        vertical-align: top;\n",
       "    }\n",
       "\n",
       "    .dataframe thead th {\n",
       "        text-align: right;\n",
       "    }\n",
       "</style>\n",
       "<table border=\"1\" class=\"dataframe\">\n",
       "  <thead>\n",
       "    <tr style=\"text-align: right;\">\n",
       "      <th></th>\n",
       "      <th>Flow ID</th>\n",
       "      <th>Source IP</th>\n",
       "      <th>Source Port</th>\n",
       "      <th>Destination IP</th>\n",
       "      <th>Destination Port</th>\n",
       "      <th>Protocol</th>\n",
       "      <th>Timestamp</th>\n",
       "      <th>Flow Duration</th>\n",
       "      <th>Total Fwd Packets</th>\n",
       "      <th>Total Backward Packets</th>\n",
       "      <th>...</th>\n",
       "      <th>min_seg_size_forward</th>\n",
       "      <th>Active Mean</th>\n",
       "      <th>Active Std</th>\n",
       "      <th>Active Max</th>\n",
       "      <th>Active Min</th>\n",
       "      <th>Idle Mean</th>\n",
       "      <th>Idle Std</th>\n",
       "      <th>Idle Max</th>\n",
       "      <th>Idle Min</th>\n",
       "      <th>Label</th>\n",
       "    </tr>\n",
       "  </thead>\n",
       "  <tbody>\n",
       "    <tr>\n",
       "      <th>0</th>\n",
       "      <td>192.168.10.14-209.48.71.168-49459-80-6</td>\n",
       "      <td>192.168.10.14</td>\n",
       "      <td>49459</td>\n",
       "      <td>209.48.71.168</td>\n",
       "      <td>80</td>\n",
       "      <td>6</td>\n",
       "      <td>5/7/2017 8:42</td>\n",
       "      <td>38308</td>\n",
       "      <td>1</td>\n",
       "      <td>1</td>\n",
       "      <td>...</td>\n",
       "      <td>20</td>\n",
       "      <td>0.0</td>\n",
       "      <td>0.0</td>\n",
       "      <td>0.0</td>\n",
       "      <td>0.0</td>\n",
       "      <td>0.0</td>\n",
       "      <td>0.0</td>\n",
       "      <td>0.0</td>\n",
       "      <td>0.0</td>\n",
       "      <td>BENIGN</td>\n",
       "    </tr>\n",
       "    <tr>\n",
       "      <th>1</th>\n",
       "      <td>192.168.10.3-192.168.10.17-389-49453-6</td>\n",
       "      <td>192.168.10.17</td>\n",
       "      <td>49453</td>\n",
       "      <td>192.168.10.3</td>\n",
       "      <td>389</td>\n",
       "      <td>6</td>\n",
       "      <td>5/7/2017 8:42</td>\n",
       "      <td>479</td>\n",
       "      <td>11</td>\n",
       "      <td>5</td>\n",
       "      <td>...</td>\n",
       "      <td>32</td>\n",
       "      <td>0.0</td>\n",
       "      <td>0.0</td>\n",
       "      <td>0.0</td>\n",
       "      <td>0.0</td>\n",
       "      <td>0.0</td>\n",
       "      <td>0.0</td>\n",
       "      <td>0.0</td>\n",
       "      <td>0.0</td>\n",
       "      <td>BENIGN</td>\n",
       "    </tr>\n",
       "    <tr>\n",
       "      <th>2</th>\n",
       "      <td>192.168.10.3-192.168.10.17-88-46124-6</td>\n",
       "      <td>192.168.10.17</td>\n",
       "      <td>46124</td>\n",
       "      <td>192.168.10.3</td>\n",
       "      <td>88</td>\n",
       "      <td>6</td>\n",
       "      <td>5/7/2017 8:42</td>\n",
       "      <td>1095</td>\n",
       "      <td>10</td>\n",
       "      <td>6</td>\n",
       "      <td>...</td>\n",
       "      <td>32</td>\n",
       "      <td>0.0</td>\n",
       "      <td>0.0</td>\n",
       "      <td>0.0</td>\n",
       "      <td>0.0</td>\n",
       "      <td>0.0</td>\n",
       "      <td>0.0</td>\n",
       "      <td>0.0</td>\n",
       "      <td>0.0</td>\n",
       "      <td>BENIGN</td>\n",
       "    </tr>\n",
       "    <tr>\n",
       "      <th>3</th>\n",
       "      <td>192.168.10.3-192.168.10.17-389-49454-6</td>\n",
       "      <td>192.168.10.17</td>\n",
       "      <td>49454</td>\n",
       "      <td>192.168.10.3</td>\n",
       "      <td>389</td>\n",
       "      <td>6</td>\n",
       "      <td>5/7/2017 8:42</td>\n",
       "      <td>15206</td>\n",
       "      <td>17</td>\n",
       "      <td>12</td>\n",
       "      <td>...</td>\n",
       "      <td>32</td>\n",
       "      <td>0.0</td>\n",
       "      <td>0.0</td>\n",
       "      <td>0.0</td>\n",
       "      <td>0.0</td>\n",
       "      <td>0.0</td>\n",
       "      <td>0.0</td>\n",
       "      <td>0.0</td>\n",
       "      <td>0.0</td>\n",
       "      <td>BENIGN</td>\n",
       "    </tr>\n",
       "    <tr>\n",
       "      <th>4</th>\n",
       "      <td>192.168.10.3-192.168.10.17-88-46126-6</td>\n",
       "      <td>192.168.10.17</td>\n",
       "      <td>46126</td>\n",
       "      <td>192.168.10.3</td>\n",
       "      <td>88</td>\n",
       "      <td>6</td>\n",
       "      <td>5/7/2017 8:42</td>\n",
       "      <td>1092</td>\n",
       "      <td>9</td>\n",
       "      <td>6</td>\n",
       "      <td>...</td>\n",
       "      <td>32</td>\n",
       "      <td>0.0</td>\n",
       "      <td>0.0</td>\n",
       "      <td>0.0</td>\n",
       "      <td>0.0</td>\n",
       "      <td>0.0</td>\n",
       "      <td>0.0</td>\n",
       "      <td>0.0</td>\n",
       "      <td>0.0</td>\n",
       "      <td>BENIGN</td>\n",
       "    </tr>\n",
       "    <tr>\n",
       "      <th>...</th>\n",
       "      <td>...</td>\n",
       "      <td>...</td>\n",
       "      <td>...</td>\n",
       "      <td>...</td>\n",
       "      <td>...</td>\n",
       "      <td>...</td>\n",
       "      <td>...</td>\n",
       "      <td>...</td>\n",
       "      <td>...</td>\n",
       "      <td>...</td>\n",
       "      <td>...</td>\n",
       "      <td>...</td>\n",
       "      <td>...</td>\n",
       "      <td>...</td>\n",
       "      <td>...</td>\n",
       "      <td>...</td>\n",
       "      <td>...</td>\n",
       "      <td>...</td>\n",
       "      <td>...</td>\n",
       "      <td>...</td>\n",
       "      <td>...</td>\n",
       "    </tr>\n",
       "    <tr>\n",
       "      <th>692698</th>\n",
       "      <td>192.168.10.3-192.168.10.14-53-51114-17</td>\n",
       "      <td>192.168.10.14</td>\n",
       "      <td>51114</td>\n",
       "      <td>192.168.10.3</td>\n",
       "      <td>53</td>\n",
       "      <td>17</td>\n",
       "      <td>5/7/2017 12:10</td>\n",
       "      <td>32215</td>\n",
       "      <td>4</td>\n",
       "      <td>2</td>\n",
       "      <td>...</td>\n",
       "      <td>20</td>\n",
       "      <td>0.0</td>\n",
       "      <td>0.0</td>\n",
       "      <td>0.0</td>\n",
       "      <td>0.0</td>\n",
       "      <td>0.0</td>\n",
       "      <td>0.0</td>\n",
       "      <td>0.0</td>\n",
       "      <td>0.0</td>\n",
       "      <td>BENIGN</td>\n",
       "    </tr>\n",
       "    <tr>\n",
       "      <th>692699</th>\n",
       "      <td>192.168.10.3-192.168.10.16-53-24054-17</td>\n",
       "      <td>192.168.10.16</td>\n",
       "      <td>24054</td>\n",
       "      <td>192.168.10.3</td>\n",
       "      <td>53</td>\n",
       "      <td>17</td>\n",
       "      <td>5/7/2017 3:02</td>\n",
       "      <td>324</td>\n",
       "      <td>2</td>\n",
       "      <td>2</td>\n",
       "      <td>...</td>\n",
       "      <td>20</td>\n",
       "      <td>0.0</td>\n",
       "      <td>0.0</td>\n",
       "      <td>0.0</td>\n",
       "      <td>0.0</td>\n",
       "      <td>0.0</td>\n",
       "      <td>0.0</td>\n",
       "      <td>0.0</td>\n",
       "      <td>0.0</td>\n",
       "      <td>BENIGN</td>\n",
       "    </tr>\n",
       "    <tr>\n",
       "      <th>692700</th>\n",
       "      <td>192.168.10.51-23.208.163.130-58030-443-6</td>\n",
       "      <td>23.208.163.130</td>\n",
       "      <td>443</td>\n",
       "      <td>192.168.10.51</td>\n",
       "      <td>58030</td>\n",
       "      <td>6</td>\n",
       "      <td>5/7/2017 10:06</td>\n",
       "      <td>82</td>\n",
       "      <td>2</td>\n",
       "      <td>1</td>\n",
       "      <td>...</td>\n",
       "      <td>32</td>\n",
       "      <td>0.0</td>\n",
       "      <td>0.0</td>\n",
       "      <td>0.0</td>\n",
       "      <td>0.0</td>\n",
       "      <td>0.0</td>\n",
       "      <td>0.0</td>\n",
       "      <td>0.0</td>\n",
       "      <td>0.0</td>\n",
       "      <td>BENIGN</td>\n",
       "    </tr>\n",
       "    <tr>\n",
       "      <th>692701</th>\n",
       "      <td>192.168.10.3-192.168.10.14-53-51694-17</td>\n",
       "      <td>192.168.10.14</td>\n",
       "      <td>51694</td>\n",
       "      <td>192.168.10.3</td>\n",
       "      <td>53</td>\n",
       "      <td>17</td>\n",
       "      <td>5/7/2017 1:19</td>\n",
       "      <td>1048635</td>\n",
       "      <td>6</td>\n",
       "      <td>2</td>\n",
       "      <td>...</td>\n",
       "      <td>20</td>\n",
       "      <td>0.0</td>\n",
       "      <td>0.0</td>\n",
       "      <td>0.0</td>\n",
       "      <td>0.0</td>\n",
       "      <td>0.0</td>\n",
       "      <td>0.0</td>\n",
       "      <td>0.0</td>\n",
       "      <td>0.0</td>\n",
       "      <td>BENIGN</td>\n",
       "    </tr>\n",
       "    <tr>\n",
       "      <th>692702</th>\n",
       "      <td>192.168.10.3-192.168.10.14-53-57949-17</td>\n",
       "      <td>192.168.10.14</td>\n",
       "      <td>57949</td>\n",
       "      <td>192.168.10.3</td>\n",
       "      <td>53</td>\n",
       "      <td>17</td>\n",
       "      <td>5/7/2017 2:43</td>\n",
       "      <td>94939</td>\n",
       "      <td>4</td>\n",
       "      <td>2</td>\n",
       "      <td>...</td>\n",
       "      <td>20</td>\n",
       "      <td>0.0</td>\n",
       "      <td>0.0</td>\n",
       "      <td>0.0</td>\n",
       "      <td>0.0</td>\n",
       "      <td>0.0</td>\n",
       "      <td>0.0</td>\n",
       "      <td>0.0</td>\n",
       "      <td>0.0</td>\n",
       "      <td>BENIGN</td>\n",
       "    </tr>\n",
       "  </tbody>\n",
       "</table>\n",
       "<p>692703 rows × 85 columns</p>\n",
       "</div>"
      ],
      "text/plain": [
       "                                         Flow ID       Source IP  \\\n",
       "0         192.168.10.14-209.48.71.168-49459-80-6   192.168.10.14   \n",
       "1         192.168.10.3-192.168.10.17-389-49453-6   192.168.10.17   \n",
       "2          192.168.10.3-192.168.10.17-88-46124-6   192.168.10.17   \n",
       "3         192.168.10.3-192.168.10.17-389-49454-6   192.168.10.17   \n",
       "4          192.168.10.3-192.168.10.17-88-46126-6   192.168.10.17   \n",
       "...                                          ...             ...   \n",
       "692698    192.168.10.3-192.168.10.14-53-51114-17   192.168.10.14   \n",
       "692699    192.168.10.3-192.168.10.16-53-24054-17   192.168.10.16   \n",
       "692700  192.168.10.51-23.208.163.130-58030-443-6  23.208.163.130   \n",
       "692701    192.168.10.3-192.168.10.14-53-51694-17   192.168.10.14   \n",
       "692702    192.168.10.3-192.168.10.14-53-57949-17   192.168.10.14   \n",
       "\n",
       "         Source Port  Destination IP   Destination Port   Protocol  \\\n",
       "0              49459   209.48.71.168                 80          6   \n",
       "1              49453    192.168.10.3                389          6   \n",
       "2              46124    192.168.10.3                 88          6   \n",
       "3              49454    192.168.10.3                389          6   \n",
       "4              46126    192.168.10.3                 88          6   \n",
       "...              ...             ...                ...        ...   \n",
       "692698         51114    192.168.10.3                 53         17   \n",
       "692699         24054    192.168.10.3                 53         17   \n",
       "692700           443   192.168.10.51              58030          6   \n",
       "692701         51694    192.168.10.3                 53         17   \n",
       "692702         57949    192.168.10.3                 53         17   \n",
       "\n",
       "             Timestamp   Flow Duration   Total Fwd Packets  \\\n",
       "0        5/7/2017 8:42           38308                   1   \n",
       "1        5/7/2017 8:42             479                  11   \n",
       "2        5/7/2017 8:42            1095                  10   \n",
       "3        5/7/2017 8:42           15206                  17   \n",
       "4        5/7/2017 8:42            1092                   9   \n",
       "...                ...             ...                 ...   \n",
       "692698  5/7/2017 12:10           32215                   4   \n",
       "692699   5/7/2017 3:02             324                   2   \n",
       "692700  5/7/2017 10:06              82                   2   \n",
       "692701   5/7/2017 1:19         1048635                   6   \n",
       "692702   5/7/2017 2:43           94939                   4   \n",
       "\n",
       "         Total Backward Packets  ...   min_seg_size_forward  Active Mean  \\\n",
       "0                             1  ...                     20          0.0   \n",
       "1                             5  ...                     32          0.0   \n",
       "2                             6  ...                     32          0.0   \n",
       "3                            12  ...                     32          0.0   \n",
       "4                             6  ...                     32          0.0   \n",
       "...                         ...  ...                    ...          ...   \n",
       "692698                        2  ...                     20          0.0   \n",
       "692699                        2  ...                     20          0.0   \n",
       "692700                        1  ...                     32          0.0   \n",
       "692701                        2  ...                     20          0.0   \n",
       "692702                        2  ...                     20          0.0   \n",
       "\n",
       "         Active Std   Active Max   Active Min  Idle Mean   Idle Std  \\\n",
       "0               0.0          0.0          0.0        0.0        0.0   \n",
       "1               0.0          0.0          0.0        0.0        0.0   \n",
       "2               0.0          0.0          0.0        0.0        0.0   \n",
       "3               0.0          0.0          0.0        0.0        0.0   \n",
       "4               0.0          0.0          0.0        0.0        0.0   \n",
       "...             ...          ...          ...        ...        ...   \n",
       "692698          0.0          0.0          0.0        0.0        0.0   \n",
       "692699          0.0          0.0          0.0        0.0        0.0   \n",
       "692700          0.0          0.0          0.0        0.0        0.0   \n",
       "692701          0.0          0.0          0.0        0.0        0.0   \n",
       "692702          0.0          0.0          0.0        0.0        0.0   \n",
       "\n",
       "         Idle Max   Idle Min   Label  \n",
       "0             0.0        0.0  BENIGN  \n",
       "1             0.0        0.0  BENIGN  \n",
       "2             0.0        0.0  BENIGN  \n",
       "3             0.0        0.0  BENIGN  \n",
       "4             0.0        0.0  BENIGN  \n",
       "...           ...        ...     ...  \n",
       "692698        0.0        0.0  BENIGN  \n",
       "692699        0.0        0.0  BENIGN  \n",
       "692700        0.0        0.0  BENIGN  \n",
       "692701        0.0        0.0  BENIGN  \n",
       "692702        0.0        0.0  BENIGN  \n",
       "\n",
       "[692703 rows x 85 columns]"
      ]
     },
     "execution_count": 29,
     "metadata": {},
     "output_type": "execute_result"
    }
   ],
   "source": [
    "df1"
   ]
  },
  {
   "cell_type": "markdown",
   "id": "92b15508-87b0-456d-bf71-e1ab8995f95c",
   "metadata": {},
   "source": [
    "## Extract relavent rows and merge into one file"
   ]
  },
  {
   "cell_type": "code",
   "execution_count": 30,
   "id": "a1b8e4be-a87b-48e7-bce0-359b94a8eb2b",
   "metadata": {},
   "outputs": [
    {
     "data": {
      "text/plain": [
       "Index(['Flow ID', ' Source IP', ' Source Port', ' Destination IP',\n",
       "       ' Destination Port', ' Protocol', ' Timestamp', ' Flow Duration',\n",
       "       ' Total Fwd Packets', ' Total Backward Packets',\n",
       "       'Total Length of Fwd Packets', ' Total Length of Bwd Packets',\n",
       "       ' Fwd Packet Length Max', ' Fwd Packet Length Min',\n",
       "       ' Fwd Packet Length Mean', ' Fwd Packet Length Std',\n",
       "       'Bwd Packet Length Max', ' Bwd Packet Length Min',\n",
       "       ' Bwd Packet Length Mean', ' Bwd Packet Length Std', 'Flow Bytes/s',\n",
       "       ' Flow Packets/s', ' Flow IAT Mean', ' Flow IAT Std', ' Flow IAT Max',\n",
       "       ' Flow IAT Min', 'Fwd IAT Total', ' Fwd IAT Mean', ' Fwd IAT Std',\n",
       "       ' Fwd IAT Max', ' Fwd IAT Min', 'Bwd IAT Total', ' Bwd IAT Mean',\n",
       "       ' Bwd IAT Std', ' Bwd IAT Max', ' Bwd IAT Min', 'Fwd PSH Flags',\n",
       "       ' Bwd PSH Flags', ' Fwd URG Flags', ' Bwd URG Flags',\n",
       "       ' Fwd Header Length', ' Bwd Header Length', 'Fwd Packets/s',\n",
       "       ' Bwd Packets/s', ' Min Packet Length', ' Max Packet Length',\n",
       "       ' Packet Length Mean', ' Packet Length Std', ' Packet Length Variance',\n",
       "       'FIN Flag Count', ' SYN Flag Count', ' RST Flag Count',\n",
       "       ' PSH Flag Count', ' ACK Flag Count', ' URG Flag Count',\n",
       "       ' CWE Flag Count', ' ECE Flag Count', ' Down/Up Ratio',\n",
       "       ' Average Packet Size', ' Avg Fwd Segment Size',\n",
       "       ' Avg Bwd Segment Size', ' Fwd Header Length.1', 'Fwd Avg Bytes/Bulk',\n",
       "       ' Fwd Avg Packets/Bulk', ' Fwd Avg Bulk Rate', ' Bwd Avg Bytes/Bulk',\n",
       "       ' Bwd Avg Packets/Bulk', 'Bwd Avg Bulk Rate', 'Subflow Fwd Packets',\n",
       "       ' Subflow Fwd Bytes', ' Subflow Bwd Packets', ' Subflow Bwd Bytes',\n",
       "       'Init_Win_bytes_forward', ' Init_Win_bytes_backward',\n",
       "       ' act_data_pkt_fwd', ' min_seg_size_forward', 'Active Mean',\n",
       "       ' Active Std', ' Active Max', ' Active Min', 'Idle Mean', ' Idle Std',\n",
       "       ' Idle Max', ' Idle Min', ' Label'],\n",
       "      dtype='object')"
      ]
     },
     "execution_count": 30,
     "metadata": {},
     "output_type": "execute_result"
    }
   ],
   "source": [
    "df1.columns"
   ]
  },
  {
   "cell_type": "code",
   "execution_count": 31,
   "id": "76d26797-7bfa-4591-a0d7-ccf52cd5ade2",
   "metadata": {},
   "outputs": [
    {
     "name": "stdout",
     "output_type": "stream",
     "text": [
      " Bwd PSH Flags - [0]\n",
      " Fwd URG Flags - [0]\n",
      " Bwd URG Flags - [0]\n",
      " CWE Flag Count - [0]\n",
      "Fwd Avg Bytes/Bulk - [0]\n",
      " Fwd Avg Packets/Bulk - [0]\n",
      " Fwd Avg Bulk Rate - [0]\n",
      " Bwd Avg Bytes/Bulk - [0]\n",
      " Bwd Avg Packets/Bulk - [0]\n",
      "Bwd Avg Bulk Rate - [0]\n"
     ]
    }
   ],
   "source": [
    "# View the zero or contant valued features\n",
    "\n",
    "for feature in df1.columns:\n",
    "    unique_values = df1[feature].unique()\n",
    "    if len(unique_values) == 1:\n",
    "        print(f\"{feature} - {unique_values}\")"
   ]
  },
  {
   "cell_type": "code",
   "execution_count": 32,
   "id": "03a0d748-b40c-4222-b5c8-ad26bd17b033",
   "metadata": {},
   "outputs": [],
   "source": [
    "drop_columns = ['Flow ID', ' Source IP', ' Source Port', ' Destination IP',\n",
    "                ' Bwd PSH Flags', ' Fwd URG Flags', ' Bwd URG Flags', ' CWE Flag Count',\n",
    "                'Fwd Avg Bytes/Bulk', ' Fwd Avg Packets/Bulk', ' Fwd Avg Bulk Rate',\n",
    "                ' Bwd Avg Bytes/Bulk', ' Bwd Avg Packets/Bulk', 'Bwd Avg Bulk Rate'\n",
    "      ]"
   ]
  },
  {
   "cell_type": "code",
   "execution_count": 33,
   "id": "7347448a-7955-4229-ab47-a638d08d1843",
   "metadata": {},
   "outputs": [],
   "source": [
    "df1.drop(columns=drop_columns, inplace=True)"
   ]
  },
  {
   "cell_type": "code",
   "execution_count": 34,
   "id": "a9dea794-edc0-4e52-b42e-82d75f1d70e6",
   "metadata": {},
   "outputs": [
    {
     "data": {
      "text/plain": [
       "(692703, 71)"
      ]
     },
     "execution_count": 34,
     "metadata": {},
     "output_type": "execute_result"
    }
   ],
   "source": [
    "df1.shape"
   ]
  },
  {
   "cell_type": "markdown",
   "id": "14623ef9-b7e1-44ef-b9db-b0aea80b145f",
   "metadata": {},
   "source": [
    "## Apply preprocessing"
   ]
  },
  {
   "cell_type": "code",
   "execution_count": 35,
   "id": "f4167e5c-0507-476c-80d8-6971f5b7a924",
   "metadata": {},
   "outputs": [],
   "source": [
    "# Remove non values\n",
    "df1.dropna(inplace=True)"
   ]
  },
  {
   "cell_type": "code",
   "execution_count": 36,
   "id": "cbae1aca-b1a6-47b0-bd63-5d0f703c430f",
   "metadata": {},
   "outputs": [],
   "source": [
    "# Remove duplicate\n",
    "df1.drop_duplicates(inplace=True)"
   ]
  },
  {
   "cell_type": "code",
   "execution_count": 37,
   "id": "8e3cce4c-2bfb-4595-958d-6fca11540177",
   "metadata": {},
   "outputs": [],
   "source": [
    "# Remove infinite rows\n",
    "df1 = df1.replace([np.inf, -np.inf], np.nan).dropna(subset=non_binary_columns)"
   ]
  },
  {
   "cell_type": "code",
   "execution_count": 38,
   "id": "235ff20e-07a8-4559-aae3-1644b4d7c8cf",
   "metadata": {},
   "outputs": [
    {
     "data": {
      "text/plain": [
       "(634719, 71)"
      ]
     },
     "execution_count": 38,
     "metadata": {},
     "output_type": "execute_result"
    }
   ],
   "source": [
    "df1.shape"
   ]
  },
  {
   "cell_type": "code",
   "execution_count": 39,
   "id": "92115706-0964-4507-afcd-63841a3a163c",
   "metadata": {},
   "outputs": [
    {
     "data": {
      "text/plain": [
       " Label\n",
       "BENIGN              435288\n",
       "DoS Hulk            178179\n",
       "DoS GoldenEye        10286\n",
       "DoS slowloris         5692\n",
       "DoS Slowhttptest      5263\n",
       "Heartbleed              11\n",
       "Name: count, dtype: int64"
      ]
     },
     "execution_count": 39,
     "metadata": {},
     "output_type": "execute_result"
    }
   ],
   "source": [
    "df1[' Label'].value_counts()"
   ]
  },
  {
   "cell_type": "markdown",
   "id": "d05d9a82-fd9f-40b1-94c6-22c95b35cd38",
   "metadata": {},
   "source": [
    "## Normalize timestamp"
   ]
  },
  {
   "cell_type": "code",
   "execution_count": 43,
   "id": "0c4fcfab-bb3f-4cb3-b0bd-768c2438e4ae",
   "metadata": {},
   "outputs": [],
   "source": [
    "# Convert to datetime\n",
    "df1[' Timestamp'] = pd.to_datetime(df1[' Timestamp'])\n",
    "\n",
    "# Replace hour mapping\n",
    "hour_mapping = {1: 13, 2: 14, 3: 15, 4: 16, 5: 17, 6: 18}\n",
    "\n",
    "# Function to replace hour\n",
    "def replace_hour(ts):\n",
    "    new_hour = hour_mapping.get(ts.hour, ts.hour)\n",
    "    return ts.replace(hour=new_hour)\n",
    "\n",
    "# Apply the function\n",
    "df1[' Timestamp'] = df1[' Timestamp'].apply(replace_hour)"
   ]
  },
  {
   "cell_type": "code",
   "execution_count": 44,
   "id": "52708d1b-3d76-4a18-a22c-4cedd7e0920c",
   "metadata": {},
   "outputs": [],
   "source": [
    "def normalize_timestamp(ddos_data):\n",
    "    ddos_data[' Timestamp'] = pd.to_datetime(ddos_data[' Timestamp'])\n",
    "    ddos_data.sort_values(by=' Timestamp', inplace=True)\n",
    "\n",
    "normalize_timestamp(df1)"
   ]
  },
  {
   "cell_type": "code",
   "execution_count": 45,
   "id": "ca92ec81-6447-4020-bac6-16d8ea6f526c",
   "metadata": {},
   "outputs": [],
   "source": [
    "# Save the updated dataset\n",
    "\n",
    "df1.to_csv('cic_ids_2017_cleaned/wednesday.csv', index=False)"
   ]
  },
  {
   "cell_type": "markdown",
   "id": "54123813-5e75-415f-b4af-153eeb557e33",
   "metadata": {},
   "source": [
    "## Again read"
   ]
  },
  {
   "cell_type": "code",
   "execution_count": 1,
   "id": "e638c167-4127-4edd-ba54-b6d4eb59cbf6",
   "metadata": {},
   "outputs": [],
   "source": [
    "import pandas as pd\n",
    "df1 = pd.read_csv(\"cic_ids_2017_cleaned/wednesday.csv\")"
   ]
  },
  {
   "cell_type": "code",
   "execution_count": 2,
   "id": "7e752aa5-3836-4cfa-aaf2-6e0587145ad9",
   "metadata": {},
   "outputs": [
    {
     "data": {
      "text/plain": [
       " Label\n",
       "BENIGN              435288\n",
       "DoS Hulk            178179\n",
       "DoS GoldenEye        10286\n",
       "DoS slowloris         5692\n",
       "DoS Slowhttptest      5263\n",
       "Heartbleed              11\n",
       "Name: count, dtype: int64"
      ]
     },
     "execution_count": 2,
     "metadata": {},
     "output_type": "execute_result"
    }
   ],
   "source": [
    "df1[' Label'].value_counts()"
   ]
  },
  {
   "cell_type": "code",
   "execution_count": 3,
   "id": "fd75aa11-c2f6-47fd-82aa-ebfb9a01707f",
   "metadata": {},
   "outputs": [
    {
     "name": "stderr",
     "output_type": "stream",
     "text": [
      "/tmp/ipykernel_593118/2329808528.py:4: FutureWarning: Downcasting behavior in `replace` is deprecated and will be removed in a future version. To retain the old behavior, explicitly call `result.infer_objects(copy=False)`. To opt-in to the future behavior, set `pd.set_option('future.no_silent_downcasting', True)`\n",
      "  df1.replace(to_replace=['BENIGN'], value=0, inplace=True)\n"
     ]
    }
   ],
   "source": [
    "# Replace BENIGN with 0 and other with 1\n",
    "\n",
    "df1.replace(to_replace=[\"DoS Hulk\", \"DoS GoldenEye\", \"DoS slowloris\", \"DoS Slowhttptest\", \"Heartbleed\"], value=1, inplace=True)\n",
    "df1.replace(to_replace=['BENIGN'], value=0, inplace=True)"
   ]
  },
  {
   "cell_type": "code",
   "execution_count": 4,
   "id": "3b3ed823-0656-4fb2-9aba-70574bcf38df",
   "metadata": {},
   "outputs": [
    {
     "data": {
      "text/plain": [
       " Label\n",
       "0    435288\n",
       "1    199431\n",
       "Name: count, dtype: int64"
      ]
     },
     "execution_count": 4,
     "metadata": {},
     "output_type": "execute_result"
    }
   ],
   "source": [
    "df1[' Label'].value_counts()"
   ]
  },
  {
   "cell_type": "code",
   "execution_count": 5,
   "id": "ce6b16fb-541b-4523-b13d-b28eb4602ed4",
   "metadata": {},
   "outputs": [],
   "source": [
    "# Find out non binary colums\n",
    "\n",
    "# non_binary_columns=df1.columns[df1.nunique()>2]"
   ]
  },
  {
   "cell_type": "code",
   "execution_count": 6,
   "id": "bb2c6c61-7ca0-43ca-85bd-589935ff8639",
   "metadata": {},
   "outputs": [],
   "source": [
    "non_binary_columns = [' Timestamp']"
   ]
  },
  {
   "cell_type": "code",
   "execution_count": 7,
   "id": "eb25f7e1-8696-4213-a633-fa1d4af1c56e",
   "metadata": {},
   "outputs": [],
   "source": [
    "# COnvert timestamp into unix time\n",
    "\n",
    "from datetime import datetime\n",
    "\n",
    "# Function to convert timestamp string to Unix timestamp\n",
    "def convert_timestamp_to_int(timestamp):\n",
    "    dt = datetime.strptime(timestamp, '%Y-%m-%d %H:%M:%S')\n",
    "    unix_timestamp = int(dt.timestamp())\n",
    "    return unix_timestamp\n",
    "\n",
    "# Apply the function to the 'Timestamp' column\n",
    "df1[' Timestamp'] = df1[' Timestamp'].apply(convert_timestamp_to_int)"
   ]
  },
  {
   "cell_type": "code",
   "execution_count": 8,
   "id": "24e17231-89e2-486e-95e1-95763fcce02d",
   "metadata": {},
   "outputs": [
    {
     "name": "stdout",
     "output_type": "stream",
     "text": [
      "<class 'pandas.core.frame.DataFrame'>\n",
      "RangeIndex: 634719 entries, 0 to 634718\n",
      "Data columns (total 71 columns):\n",
      " #   Column                        Non-Null Count   Dtype  \n",
      "---  ------                        --------------   -----  \n",
      " 0    Destination Port             634719 non-null  int64  \n",
      " 1    Protocol                     634719 non-null  int64  \n",
      " 2    Timestamp                    634719 non-null  int64  \n",
      " 3    Flow Duration                634719 non-null  int64  \n",
      " 4    Total Fwd Packets            634719 non-null  int64  \n",
      " 5    Total Backward Packets       634719 non-null  int64  \n",
      " 6   Total Length of Fwd Packets   634719 non-null  int64  \n",
      " 7    Total Length of Bwd Packets  634719 non-null  float64\n",
      " 8    Fwd Packet Length Max        634719 non-null  int64  \n",
      " 9    Fwd Packet Length Min        634719 non-null  int64  \n",
      " 10   Fwd Packet Length Mean       634719 non-null  float64\n",
      " 11   Fwd Packet Length Std        634719 non-null  float64\n",
      " 12  Bwd Packet Length Max         634719 non-null  int64  \n",
      " 13   Bwd Packet Length Min        634719 non-null  int64  \n",
      " 14   Bwd Packet Length Mean       634719 non-null  float64\n",
      " 15   Bwd Packet Length Std        634719 non-null  float64\n",
      " 16  Flow Bytes/s                  634719 non-null  float64\n",
      " 17   Flow Packets/s               634719 non-null  float64\n",
      " 18   Flow IAT Mean                634719 non-null  float64\n",
      " 19   Flow IAT Std                 634719 non-null  float64\n",
      " 20   Flow IAT Max                 634719 non-null  float64\n",
      " 21   Flow IAT Min                 634719 non-null  float64\n",
      " 22  Fwd IAT Total                 634719 non-null  float64\n",
      " 23   Fwd IAT Mean                 634719 non-null  float64\n",
      " 24   Fwd IAT Std                  634719 non-null  float64\n",
      " 25   Fwd IAT Max                  634719 non-null  float64\n",
      " 26   Fwd IAT Min                  634719 non-null  float64\n",
      " 27  Bwd IAT Total                 634719 non-null  float64\n",
      " 28   Bwd IAT Mean                 634719 non-null  float64\n",
      " 29   Bwd IAT Std                  634719 non-null  float64\n",
      " 30   Bwd IAT Max                  634719 non-null  float64\n",
      " 31   Bwd IAT Min                  634719 non-null  float64\n",
      " 32  Fwd PSH Flags                 634719 non-null  int64  \n",
      " 33   Fwd Header Length            634719 non-null  int64  \n",
      " 34   Bwd Header Length            634719 non-null  int64  \n",
      " 35  Fwd Packets/s                 634719 non-null  float64\n",
      " 36   Bwd Packets/s                634719 non-null  float64\n",
      " 37   Min Packet Length            634719 non-null  int64  \n",
      " 38   Max Packet Length            634719 non-null  int64  \n",
      " 39   Packet Length Mean           634719 non-null  float64\n",
      " 40   Packet Length Std            634719 non-null  float64\n",
      " 41   Packet Length Variance       634719 non-null  float64\n",
      " 42  FIN Flag Count                634719 non-null  int64  \n",
      " 43   SYN Flag Count               634719 non-null  int64  \n",
      " 44   RST Flag Count               634719 non-null  int64  \n",
      " 45   PSH Flag Count               634719 non-null  int64  \n",
      " 46   ACK Flag Count               634719 non-null  int64  \n",
      " 47   URG Flag Count               634719 non-null  int64  \n",
      " 48   ECE Flag Count               634719 non-null  int64  \n",
      " 49   Down/Up Ratio                634719 non-null  int64  \n",
      " 50   Average Packet Size          634719 non-null  float64\n",
      " 51   Avg Fwd Segment Size         634719 non-null  float64\n",
      " 52   Avg Bwd Segment Size         634719 non-null  float64\n",
      " 53   Fwd Header Length.1          634719 non-null  int64  \n",
      " 54  Subflow Fwd Packets           634719 non-null  int64  \n",
      " 55   Subflow Fwd Bytes            634719 non-null  int64  \n",
      " 56   Subflow Bwd Packets          634719 non-null  int64  \n",
      " 57   Subflow Bwd Bytes            634719 non-null  int64  \n",
      " 58  Init_Win_bytes_forward        634719 non-null  int64  \n",
      " 59   Init_Win_bytes_backward      634719 non-null  int64  \n",
      " 60   act_data_pkt_fwd             634719 non-null  int64  \n",
      " 61   min_seg_size_forward         634719 non-null  int64  \n",
      " 62  Active Mean                   634719 non-null  float64\n",
      " 63   Active Std                   634719 non-null  float64\n",
      " 64   Active Max                   634719 non-null  float64\n",
      " 65   Active Min                   634719 non-null  float64\n",
      " 66  Idle Mean                     634719 non-null  float64\n",
      " 67   Idle Std                     634719 non-null  float64\n",
      " 68   Idle Max                     634719 non-null  float64\n",
      " 69   Idle Min                     634719 non-null  float64\n",
      " 70   Label                        634719 non-null  int64  \n",
      "dtypes: float64(37), int64(34)\n",
      "memory usage: 343.8 MB\n"
     ]
    }
   ],
   "source": [
    "df1.info()"
   ]
  },
  {
   "cell_type": "code",
   "execution_count": 9,
   "id": "fa0f0bb3-2d2f-48da-9a1c-440a4142aa20",
   "metadata": {},
   "outputs": [
    {
     "data": {
      "text/plain": [
       "(634719, 71)"
      ]
     },
     "execution_count": 9,
     "metadata": {},
     "output_type": "execute_result"
    }
   ],
   "source": [
    "df1.shape"
   ]
  },
  {
   "cell_type": "markdown",
   "id": "876ff826-423d-45e4-8109-dc68b621e590",
   "metadata": {},
   "source": [
    "## Seperate data for Train, Validation and Testing"
   ]
  },
  {
   "cell_type": "code",
   "execution_count": 10,
   "id": "4a722a90-0065-46dc-ad8c-26e081517d94",
   "metadata": {},
   "outputs": [],
   "source": [
    "sample = df1[:300000]"
   ]
  },
  {
   "cell_type": "code",
   "execution_count": 11,
   "id": "aa061ed1-61dd-48e9-8b4f-68750605a184",
   "metadata": {},
   "outputs": [
    {
     "data": {
      "text/plain": [
       " Label\n",
       "1    166286\n",
       "0    133714\n",
       "Name: count, dtype: int64"
      ]
     },
     "execution_count": 11,
     "metadata": {},
     "output_type": "execute_result"
    }
   ],
   "source": [
    "sample[' Label'].value_counts()"
   ]
  },
  {
   "cell_type": "code",
   "execution_count": 12,
   "id": "bda63476-e921-4348-b5db-cf89c4f4240b",
   "metadata": {},
   "outputs": [],
   "source": [
    "# train_df = pd.concat([sample[:63125], sample[83125:100416], sample[120416:280000]])\n",
    "# # validation_df = sample[240000:256000]\n",
    "\n",
    "\n",
    "# test_df = pd.concat([sample[63125:83125], sample[100416:120416], sample[280000:300000]])\n",
    "\n",
    "train_df = sample[:240000]\n",
    "# validation_df = sample[240000:256000]\n",
    "test_df = sample[240000:]"
   ]
  },
  {
   "cell_type": "code",
   "execution_count": 13,
   "id": "6d630cb9-6fbd-48a3-9c95-fc3429aa31e5",
   "metadata": {},
   "outputs": [
    {
     "data": {
      "text/plain": [
       " Label\n",
       "0    125711\n",
       "1    114289\n",
       "Name: count, dtype: int64"
      ]
     },
     "execution_count": 13,
     "metadata": {},
     "output_type": "execute_result"
    }
   ],
   "source": [
    "train_df[' Label'].value_counts()"
   ]
  },
  {
   "cell_type": "code",
   "execution_count": 14,
   "id": "cb63d92b-3f1b-4cf6-b81a-b74dc71988a1",
   "metadata": {},
   "outputs": [],
   "source": [
    "# validation_df[' Label'].value_counts()"
   ]
  },
  {
   "cell_type": "code",
   "execution_count": 15,
   "id": "05c01235-6ea8-4a62-a925-42b275c9baaf",
   "metadata": {},
   "outputs": [
    {
     "data": {
      "text/plain": [
       " Label\n",
       "1    51997\n",
       "0     8003\n",
       "Name: count, dtype: int64"
      ]
     },
     "execution_count": 15,
     "metadata": {},
     "output_type": "execute_result"
    }
   ],
   "source": [
    "test_df[' Label'].value_counts()"
   ]
  },
  {
   "cell_type": "code",
   "execution_count": 16,
   "id": "307b6b8f-d640-4bc8-8e88-b4e76490e4da",
   "metadata": {},
   "outputs": [],
   "source": [
    "X_train = train_df.drop(\" Label\", axis=1)\n",
    "y_train = train_df[\" Label\"]"
   ]
  },
  {
   "cell_type": "code",
   "execution_count": 17,
   "id": "1dc49a14-9fa3-4a92-ad62-ad7d0d12a6f0",
   "metadata": {},
   "outputs": [],
   "source": [
    "# X_val = validation_df.drop(\" Label\", axis=1)\n",
    "# y_val = validation_df[\" Label\"]"
   ]
  },
  {
   "cell_type": "code",
   "execution_count": 18,
   "id": "aad65e24-011a-4c07-bca5-f8b94717fb84",
   "metadata": {},
   "outputs": [],
   "source": [
    "X_test = test_df.drop(\" Label\", axis=1)\n",
    "y_test = test_df[\" Label\"]"
   ]
  },
  {
   "cell_type": "code",
   "execution_count": 19,
   "id": "955e13e2-88ea-46d2-897d-777b32003685",
   "metadata": {},
   "outputs": [
    {
     "name": "stdout",
     "output_type": "stream",
     "text": [
      "(240000, 70)\n",
      "(240000,)\n"
     ]
    }
   ],
   "source": [
    "print(X_train.shape)\n",
    "print(y_train.shape)"
   ]
  },
  {
   "cell_type": "code",
   "execution_count": 20,
   "id": "f697941f-c0ba-4227-8109-9767f71e512c",
   "metadata": {},
   "outputs": [],
   "source": [
    "# # scaling\n",
    "\n",
    "from sklearn.preprocessing import MinMaxScaler\n",
    "from sklearn.preprocessing import StandardScaler\n",
    "\n",
    "\n",
    "scaler = MinMaxScaler()\n",
    "# scaler = StandardScaler()\n",
    "\n",
    "# Scale only non-binary columns\n",
    "X_train_scaled = X_train.copy()\n",
    "X_train_scaled[non_binary_columns] = scaler.fit_transform(X_train[non_binary_columns])\n",
    "\n",
    "# X_val_scaled = X_val.copy()\n",
    "# X_val_scaled[non_binary_columns] = scaler.transform(X_val[non_binary_columns])\n",
    "\n",
    "X_test_scaled = X_test.copy()\n",
    "X_test_scaled[non_binary_columns] = scaler.transform(X_test[non_binary_columns])"
   ]
  },
  {
   "cell_type": "code",
   "execution_count": 21,
   "id": "dde34cb5-a64c-4273-8700-b2ae359303a4",
   "metadata": {},
   "outputs": [
    {
     "data": {
      "text/plain": [
       "(240000, 70)"
      ]
     },
     "execution_count": 21,
     "metadata": {},
     "output_type": "execute_result"
    }
   ],
   "source": [
    "X_train.shape"
   ]
  },
  {
   "cell_type": "code",
   "execution_count": 22,
   "id": "2620b1a4-815b-46d7-97ca-0bdfa68017a1",
   "metadata": {},
   "outputs": [
    {
     "data": {
      "text/html": [
       "<div>\n",
       "<style scoped>\n",
       "    .dataframe tbody tr th:only-of-type {\n",
       "        vertical-align: middle;\n",
       "    }\n",
       "\n",
       "    .dataframe tbody tr th {\n",
       "        vertical-align: top;\n",
       "    }\n",
       "\n",
       "    .dataframe thead th {\n",
       "        text-align: right;\n",
       "    }\n",
       "</style>\n",
       "<table border=\"1\" class=\"dataframe\">\n",
       "  <thead>\n",
       "    <tr style=\"text-align: right;\">\n",
       "      <th></th>\n",
       "      <th>Destination Port</th>\n",
       "      <th>Protocol</th>\n",
       "      <th>Timestamp</th>\n",
       "      <th>Flow Duration</th>\n",
       "      <th>Total Fwd Packets</th>\n",
       "      <th>Total Backward Packets</th>\n",
       "      <th>Total Length of Fwd Packets</th>\n",
       "      <th>Total Length of Bwd Packets</th>\n",
       "      <th>Fwd Packet Length Max</th>\n",
       "      <th>Fwd Packet Length Min</th>\n",
       "      <th>...</th>\n",
       "      <th>act_data_pkt_fwd</th>\n",
       "      <th>min_seg_size_forward</th>\n",
       "      <th>Active Mean</th>\n",
       "      <th>Active Std</th>\n",
       "      <th>Active Max</th>\n",
       "      <th>Active Min</th>\n",
       "      <th>Idle Mean</th>\n",
       "      <th>Idle Std</th>\n",
       "      <th>Idle Max</th>\n",
       "      <th>Idle Min</th>\n",
       "    </tr>\n",
       "  </thead>\n",
       "  <tbody>\n",
       "    <tr>\n",
       "      <th>0</th>\n",
       "      <td>80</td>\n",
       "      <td>6</td>\n",
       "      <td>0.0</td>\n",
       "      <td>38308</td>\n",
       "      <td>1</td>\n",
       "      <td>1</td>\n",
       "      <td>6</td>\n",
       "      <td>6.0</td>\n",
       "      <td>6</td>\n",
       "      <td>6</td>\n",
       "      <td>...</td>\n",
       "      <td>0</td>\n",
       "      <td>20</td>\n",
       "      <td>0.0</td>\n",
       "      <td>0.000</td>\n",
       "      <td>0.0</td>\n",
       "      <td>0.0</td>\n",
       "      <td>0.0</td>\n",
       "      <td>0.0</td>\n",
       "      <td>0.0</td>\n",
       "      <td>0.0</td>\n",
       "    </tr>\n",
       "    <tr>\n",
       "      <th>1</th>\n",
       "      <td>53</td>\n",
       "      <td>17</td>\n",
       "      <td>0.0</td>\n",
       "      <td>155</td>\n",
       "      <td>2</td>\n",
       "      <td>2</td>\n",
       "      <td>88</td>\n",
       "      <td>188.0</td>\n",
       "      <td>44</td>\n",
       "      <td>44</td>\n",
       "      <td>...</td>\n",
       "      <td>1</td>\n",
       "      <td>32</td>\n",
       "      <td>0.0</td>\n",
       "      <td>0.000</td>\n",
       "      <td>0.0</td>\n",
       "      <td>0.0</td>\n",
       "      <td>0.0</td>\n",
       "      <td>0.0</td>\n",
       "      <td>0.0</td>\n",
       "      <td>0.0</td>\n",
       "    </tr>\n",
       "    <tr>\n",
       "      <th>2</th>\n",
       "      <td>53</td>\n",
       "      <td>17</td>\n",
       "      <td>0.0</td>\n",
       "      <td>239</td>\n",
       "      <td>2</td>\n",
       "      <td>2</td>\n",
       "      <td>64</td>\n",
       "      <td>158.0</td>\n",
       "      <td>32</td>\n",
       "      <td>32</td>\n",
       "      <td>...</td>\n",
       "      <td>1</td>\n",
       "      <td>32</td>\n",
       "      <td>0.0</td>\n",
       "      <td>0.000</td>\n",
       "      <td>0.0</td>\n",
       "      <td>0.0</td>\n",
       "      <td>0.0</td>\n",
       "      <td>0.0</td>\n",
       "      <td>0.0</td>\n",
       "      <td>0.0</td>\n",
       "    </tr>\n",
       "    <tr>\n",
       "      <th>3</th>\n",
       "      <td>123</td>\n",
       "      <td>17</td>\n",
       "      <td>0.0</td>\n",
       "      <td>84028603</td>\n",
       "      <td>8</td>\n",
       "      <td>8</td>\n",
       "      <td>384</td>\n",
       "      <td>384.0</td>\n",
       "      <td>48</td>\n",
       "      <td>48</td>\n",
       "      <td>...</td>\n",
       "      <td>7</td>\n",
       "      <td>20</td>\n",
       "      <td>5028930.5</td>\n",
       "      <td>7070997.808</td>\n",
       "      <td>10000000.0</td>\n",
       "      <td>28980.0</td>\n",
       "      <td>37000000.0</td>\n",
       "      <td>26900000.0</td>\n",
       "      <td>56000000.0</td>\n",
       "      <td>18000000.0</td>\n",
       "    </tr>\n",
       "    <tr>\n",
       "      <th>4</th>\n",
       "      <td>123</td>\n",
       "      <td>17</td>\n",
       "      <td>0.0</td>\n",
       "      <td>87016138</td>\n",
       "      <td>9</td>\n",
       "      <td>9</td>\n",
       "      <td>432</td>\n",
       "      <td>432.0</td>\n",
       "      <td>48</td>\n",
       "      <td>48</td>\n",
       "      <td>...</td>\n",
       "      <td>8</td>\n",
       "      <td>20</td>\n",
       "      <td>6016113.0</td>\n",
       "      <td>5657063.553</td>\n",
       "      <td>10000000.0</td>\n",
       "      <td>2015965.0</td>\n",
       "      <td>37500000.0</td>\n",
       "      <td>27600000.0</td>\n",
       "      <td>57000000.0</td>\n",
       "      <td>18000000.0</td>\n",
       "    </tr>\n",
       "    <tr>\n",
       "      <th>...</th>\n",
       "      <td>...</td>\n",
       "      <td>...</td>\n",
       "      <td>...</td>\n",
       "      <td>...</td>\n",
       "      <td>...</td>\n",
       "      <td>...</td>\n",
       "      <td>...</td>\n",
       "      <td>...</td>\n",
       "      <td>...</td>\n",
       "      <td>...</td>\n",
       "      <td>...</td>\n",
       "      <td>...</td>\n",
       "      <td>...</td>\n",
       "      <td>...</td>\n",
       "      <td>...</td>\n",
       "      <td>...</td>\n",
       "      <td>...</td>\n",
       "      <td>...</td>\n",
       "      <td>...</td>\n",
       "      <td>...</td>\n",
       "      <td>...</td>\n",
       "    </tr>\n",
       "    <tr>\n",
       "      <th>239995</th>\n",
       "      <td>80</td>\n",
       "      <td>6</td>\n",
       "      <td>1.0</td>\n",
       "      <td>85030207</td>\n",
       "      <td>8</td>\n",
       "      <td>5</td>\n",
       "      <td>316</td>\n",
       "      <td>11595.0</td>\n",
       "      <td>310</td>\n",
       "      <td>0</td>\n",
       "      <td>...</td>\n",
       "      <td>2</td>\n",
       "      <td>20</td>\n",
       "      <td>999.0</td>\n",
       "      <td>0.000</td>\n",
       "      <td>999.0</td>\n",
       "      <td>999.0</td>\n",
       "      <td>84900000.0</td>\n",
       "      <td>0.0</td>\n",
       "      <td>84900000.0</td>\n",
       "      <td>84900000.0</td>\n",
       "    </tr>\n",
       "    <tr>\n",
       "      <th>239996</th>\n",
       "      <td>80</td>\n",
       "      <td>6</td>\n",
       "      <td>1.0</td>\n",
       "      <td>85034006</td>\n",
       "      <td>5</td>\n",
       "      <td>6</td>\n",
       "      <td>375</td>\n",
       "      <td>11595.0</td>\n",
       "      <td>363</td>\n",
       "      <td>0</td>\n",
       "      <td>...</td>\n",
       "      <td>2</td>\n",
       "      <td>20</td>\n",
       "      <td>12003.0</td>\n",
       "      <td>0.000</td>\n",
       "      <td>12003.0</td>\n",
       "      <td>12003.0</td>\n",
       "      <td>84900000.0</td>\n",
       "      <td>0.0</td>\n",
       "      <td>84900000.0</td>\n",
       "      <td>84900000.0</td>\n",
       "    </tr>\n",
       "    <tr>\n",
       "      <th>239997</th>\n",
       "      <td>80</td>\n",
       "      <td>6</td>\n",
       "      <td>1.0</td>\n",
       "      <td>85034297</td>\n",
       "      <td>7</td>\n",
       "      <td>6</td>\n",
       "      <td>321</td>\n",
       "      <td>11595.0</td>\n",
       "      <td>321</td>\n",
       "      <td>0</td>\n",
       "      <td>...</td>\n",
       "      <td>1</td>\n",
       "      <td>32</td>\n",
       "      <td>5.0</td>\n",
       "      <td>0.000</td>\n",
       "      <td>5.0</td>\n",
       "      <td>5.0</td>\n",
       "      <td>84900000.0</td>\n",
       "      <td>0.0</td>\n",
       "      <td>84900000.0</td>\n",
       "      <td>84900000.0</td>\n",
       "    </tr>\n",
       "    <tr>\n",
       "      <th>239998</th>\n",
       "      <td>80</td>\n",
       "      <td>6</td>\n",
       "      <td>1.0</td>\n",
       "      <td>85030247</td>\n",
       "      <td>6</td>\n",
       "      <td>7</td>\n",
       "      <td>435</td>\n",
       "      <td>11595.0</td>\n",
       "      <td>417</td>\n",
       "      <td>0</td>\n",
       "      <td>...</td>\n",
       "      <td>3</td>\n",
       "      <td>20</td>\n",
       "      <td>10984.0</td>\n",
       "      <td>0.000</td>\n",
       "      <td>10984.0</td>\n",
       "      <td>10984.0</td>\n",
       "      <td>84900000.0</td>\n",
       "      <td>0.0</td>\n",
       "      <td>84900000.0</td>\n",
       "      <td>84900000.0</td>\n",
       "    </tr>\n",
       "    <tr>\n",
       "      <th>239999</th>\n",
       "      <td>80</td>\n",
       "      <td>6</td>\n",
       "      <td>1.0</td>\n",
       "      <td>85031206</td>\n",
       "      <td>9</td>\n",
       "      <td>5</td>\n",
       "      <td>375</td>\n",
       "      <td>11595.0</td>\n",
       "      <td>375</td>\n",
       "      <td>0</td>\n",
       "      <td>...</td>\n",
       "      <td>1</td>\n",
       "      <td>32</td>\n",
       "      <td>995.0</td>\n",
       "      <td>0.000</td>\n",
       "      <td>995.0</td>\n",
       "      <td>995.0</td>\n",
       "      <td>84900000.0</td>\n",
       "      <td>0.0</td>\n",
       "      <td>84900000.0</td>\n",
       "      <td>84900000.0</td>\n",
       "    </tr>\n",
       "  </tbody>\n",
       "</table>\n",
       "<p>240000 rows × 70 columns</p>\n",
       "</div>"
      ],
      "text/plain": [
       "         Destination Port   Protocol   Timestamp   Flow Duration  \\\n",
       "0                      80          6         0.0           38308   \n",
       "1                      53         17         0.0             155   \n",
       "2                      53         17         0.0             239   \n",
       "3                     123         17         0.0        84028603   \n",
       "4                     123         17         0.0        87016138   \n",
       "...                   ...        ...         ...             ...   \n",
       "239995                 80          6         1.0        85030207   \n",
       "239996                 80          6         1.0        85034006   \n",
       "239997                 80          6         1.0        85034297   \n",
       "239998                 80          6         1.0        85030247   \n",
       "239999                 80          6         1.0        85031206   \n",
       "\n",
       "         Total Fwd Packets   Total Backward Packets  \\\n",
       "0                        1                        1   \n",
       "1                        2                        2   \n",
       "2                        2                        2   \n",
       "3                        8                        8   \n",
       "4                        9                        9   \n",
       "...                    ...                      ...   \n",
       "239995                   8                        5   \n",
       "239996                   5                        6   \n",
       "239997                   7                        6   \n",
       "239998                   6                        7   \n",
       "239999                   9                        5   \n",
       "\n",
       "        Total Length of Fwd Packets   Total Length of Bwd Packets  \\\n",
       "0                                 6                           6.0   \n",
       "1                                88                         188.0   \n",
       "2                                64                         158.0   \n",
       "3                               384                         384.0   \n",
       "4                               432                         432.0   \n",
       "...                             ...                           ...   \n",
       "239995                          316                       11595.0   \n",
       "239996                          375                       11595.0   \n",
       "239997                          321                       11595.0   \n",
       "239998                          435                       11595.0   \n",
       "239999                          375                       11595.0   \n",
       "\n",
       "         Fwd Packet Length Max   Fwd Packet Length Min  ...  \\\n",
       "0                            6                       6  ...   \n",
       "1                           44                      44  ...   \n",
       "2                           32                      32  ...   \n",
       "3                           48                      48  ...   \n",
       "4                           48                      48  ...   \n",
       "...                        ...                     ...  ...   \n",
       "239995                     310                       0  ...   \n",
       "239996                     363                       0  ...   \n",
       "239997                     321                       0  ...   \n",
       "239998                     417                       0  ...   \n",
       "239999                     375                       0  ...   \n",
       "\n",
       "         act_data_pkt_fwd   min_seg_size_forward  Active Mean   Active Std  \\\n",
       "0                       0                     20          0.0        0.000   \n",
       "1                       1                     32          0.0        0.000   \n",
       "2                       1                     32          0.0        0.000   \n",
       "3                       7                     20    5028930.5  7070997.808   \n",
       "4                       8                     20    6016113.0  5657063.553   \n",
       "...                   ...                    ...          ...          ...   \n",
       "239995                  2                     20        999.0        0.000   \n",
       "239996                  2                     20      12003.0        0.000   \n",
       "239997                  1                     32          5.0        0.000   \n",
       "239998                  3                     20      10984.0        0.000   \n",
       "239999                  1                     32        995.0        0.000   \n",
       "\n",
       "         Active Max   Active Min   Idle Mean    Idle Std    Idle Max  \\\n",
       "0               0.0          0.0         0.0         0.0         0.0   \n",
       "1               0.0          0.0         0.0         0.0         0.0   \n",
       "2               0.0          0.0         0.0         0.0         0.0   \n",
       "3        10000000.0      28980.0  37000000.0  26900000.0  56000000.0   \n",
       "4        10000000.0    2015965.0  37500000.0  27600000.0  57000000.0   \n",
       "...             ...          ...         ...         ...         ...   \n",
       "239995        999.0        999.0  84900000.0         0.0  84900000.0   \n",
       "239996      12003.0      12003.0  84900000.0         0.0  84900000.0   \n",
       "239997          5.0          5.0  84900000.0         0.0  84900000.0   \n",
       "239998      10984.0      10984.0  84900000.0         0.0  84900000.0   \n",
       "239999        995.0        995.0  84900000.0         0.0  84900000.0   \n",
       "\n",
       "          Idle Min  \n",
       "0              0.0  \n",
       "1              0.0  \n",
       "2              0.0  \n",
       "3       18000000.0  \n",
       "4       18000000.0  \n",
       "...            ...  \n",
       "239995  84900000.0  \n",
       "239996  84900000.0  \n",
       "239997  84900000.0  \n",
       "239998  84900000.0  \n",
       "239999  84900000.0  \n",
       "\n",
       "[240000 rows x 70 columns]"
      ]
     },
     "execution_count": 22,
     "metadata": {},
     "output_type": "execute_result"
    }
   ],
   "source": [
    "X_train_scaled"
   ]
  },
  {
   "cell_type": "markdown",
   "id": "598305a4-bf3f-4488-94d1-022238cbb879",
   "metadata": {},
   "source": [
    "## Train the model, with validation"
   ]
  },
  {
   "cell_type": "code",
   "execution_count": 23,
   "id": "718b9c04-5707-47c1-91ac-52ea4087e0bf",
   "metadata": {},
   "outputs": [
    {
     "name": "stderr",
     "output_type": "stream",
     "text": [
      "2024-06-30 19:08:31.950289: I external/local_tsl/tsl/cuda/cudart_stub.cc:32] Could not find cuda drivers on your machine, GPU will not be used.\n",
      "2024-06-30 19:08:31.953835: I external/local_tsl/tsl/cuda/cudart_stub.cc:32] Could not find cuda drivers on your machine, GPU will not be used.\n",
      "2024-06-30 19:08:31.991361: I tensorflow/core/platform/cpu_feature_guard.cc:210] This TensorFlow binary is optimized to use available CPU instructions in performance-critical operations.\n",
      "To enable the following instructions: AVX2 FMA, in other operations, rebuild TensorFlow with the appropriate compiler flags.\n",
      "2024-06-30 19:08:32.899125: W tensorflow/compiler/tf2tensorrt/utils/py_utils.cc:38] TF-TRT Warning: Could not find TensorRT\n"
     ]
    }
   ],
   "source": [
    "# LSTM Model\n",
    "\n",
    "from tensorflow.keras.models import Sequential\n",
    "from tensorflow.keras.layers import LSTM, Dense, Dropout\n",
    "\n",
    "def LSTM_model(input_size):\n",
    "    # Initialize the constructor\n",
    "    model = Sequential()\n",
    "    \n",
    "    # Add layers to the model\n",
    "    model.add(LSTM(64, input_shape=(input_size, 1), return_sequences=False))\n",
    "    model.add(Dropout(0.5))\n",
    "    model.add(Dense(16, activation='relu'))\n",
    "    # model.add(Dropout(0.5))\n",
    "    # model.add(Dense(8, activation='relu'))\n",
    "    model.add(Dense(1, activation='sigmoid'))\n",
    "    \n",
    "    # Compile the model\n",
    "    model.compile(optimizer='adam', loss='binary_crossentropy', metrics=['accuracy'])\n",
    "    \n",
    "    return model"
   ]
  },
  {
   "cell_type": "code",
   "execution_count": 24,
   "id": "662cdd76-6fd3-49a6-a045-3e8ac7ab8d09",
   "metadata": {},
   "outputs": [
    {
     "name": "stderr",
     "output_type": "stream",
     "text": [
      "/home/bishal/.local/lib/python3.12/site-packages/keras/src/layers/rnn/rnn.py:204: UserWarning: Do not pass an `input_shape`/`input_dim` argument to a layer. When using Sequential models, prefer using an `Input(shape)` object as the first layer in the model instead.\n",
      "  super().__init__(**kwargs)\n"
     ]
    }
   ],
   "source": [
    "model_lstm = LSTM_model(70)"
   ]
  },
  {
   "cell_type": "code",
   "execution_count": 25,
   "id": "2586ee1d-35cc-4af2-9882-537ca69c5397",
   "metadata": {},
   "outputs": [
    {
     "name": "stdout",
     "output_type": "stream",
     "text": [
      "Epoch 1/20\n",
      "\u001b[1m188/188\u001b[0m \u001b[32m━━━━━━━━━━━━━━━━━━━━\u001b[0m\u001b[37m\u001b[0m \u001b[1m41s\u001b[0m 210ms/step - accuracy: 0.9173 - loss: 0.3488 - val_accuracy: 0.9056 - val_loss: 0.2219\n",
      "Epoch 2/20\n",
      "\u001b[1m188/188\u001b[0m \u001b[32m━━━━━━━━━━━━━━━━━━━━\u001b[0m\u001b[37m\u001b[0m \u001b[1m37s\u001b[0m 197ms/step - accuracy: 0.7928 - loss: 0.4879 - val_accuracy: 0.9049 - val_loss: 0.2381\n",
      "Epoch 3/20\n",
      "\u001b[1m188/188\u001b[0m \u001b[32m━━━━━━━━━━━━━━━━━━━━\u001b[0m\u001b[37m\u001b[0m \u001b[1m38s\u001b[0m 200ms/step - accuracy: 0.6771 - loss: 0.6434 - val_accuracy: 0.9087 - val_loss: 0.2086\n",
      "Epoch 4/20\n",
      "\u001b[1m188/188\u001b[0m \u001b[32m━━━━━━━━━━━━━━━━━━━━\u001b[0m\u001b[37m\u001b[0m \u001b[1m38s\u001b[0m 200ms/step - accuracy: 0.8436 - loss: 0.5574 - val_accuracy: 0.9087 - val_loss: 0.2074\n",
      "Epoch 5/20\n",
      "\u001b[1m188/188\u001b[0m \u001b[32m━━━━━━━━━━━━━━━━━━━━\u001b[0m\u001b[37m\u001b[0m \u001b[1m40s\u001b[0m 211ms/step - accuracy: 0.8654 - loss: 0.5279 - val_accuracy: 0.9064 - val_loss: 0.2080\n",
      "Epoch 6/20\n",
      "\u001b[1m188/188\u001b[0m \u001b[32m━━━━━━━━━━━━━━━━━━━━\u001b[0m\u001b[37m\u001b[0m \u001b[1m38s\u001b[0m 200ms/step - accuracy: 0.8228 - loss: 0.5339 - val_accuracy: 0.9135 - val_loss: 0.2000\n",
      "Epoch 7/20\n",
      "\u001b[1m188/188\u001b[0m \u001b[32m━━━━━━━━━━━━━━━━━━━━\u001b[0m\u001b[37m\u001b[0m \u001b[1m38s\u001b[0m 201ms/step - accuracy: 0.8731 - loss: 0.5041 - val_accuracy: 0.9105 - val_loss: 0.1973\n",
      "Epoch 8/20\n",
      "\u001b[1m188/188\u001b[0m \u001b[32m━━━━━━━━━━━━━━━━━━━━\u001b[0m\u001b[37m\u001b[0m \u001b[1m38s\u001b[0m 205ms/step - accuracy: 0.8574 - loss: 0.4338 - val_accuracy: 0.9097 - val_loss: 0.1820\n",
      "Epoch 9/20\n",
      "\u001b[1m188/188\u001b[0m \u001b[32m━━━━━━━━━━━━━━━━━━━━\u001b[0m\u001b[37m\u001b[0m \u001b[1m48s\u001b[0m 256ms/step - accuracy: 0.8529 - loss: 0.3911 - val_accuracy: 0.9490 - val_loss: 0.1489\n",
      "Epoch 10/20\n",
      "\u001b[1m188/188\u001b[0m \u001b[32m━━━━━━━━━━━━━━━━━━━━\u001b[0m\u001b[37m\u001b[0m \u001b[1m45s\u001b[0m 240ms/step - accuracy: 0.8475 - loss: 0.3344 - val_accuracy: 0.9655 - val_loss: 0.1423\n",
      "Epoch 11/20\n",
      "\u001b[1m188/188\u001b[0m \u001b[32m━━━━━━━━━━━━━━━━━━━━\u001b[0m\u001b[37m\u001b[0m \u001b[1m40s\u001b[0m 211ms/step - accuracy: 0.8566 - loss: 0.3298 - val_accuracy: 0.9517 - val_loss: 0.1366\n",
      "Epoch 12/20\n",
      "\u001b[1m188/188\u001b[0m \u001b[32m━━━━━━━━━━━━━━━━━━━━\u001b[0m\u001b[37m\u001b[0m \u001b[1m39s\u001b[0m 207ms/step - accuracy: 0.8634 - loss: 0.3120 - val_accuracy: 0.9654 - val_loss: 0.1331\n",
      "Epoch 13/20\n",
      "\u001b[1m188/188\u001b[0m \u001b[32m━━━━━━━━━━━━━━━━━━━━\u001b[0m\u001b[37m\u001b[0m \u001b[1m37s\u001b[0m 198ms/step - accuracy: 0.8795 - loss: 0.2914 - val_accuracy: 0.9418 - val_loss: 0.1508\n",
      "Epoch 14/20\n",
      "\u001b[1m188/188\u001b[0m \u001b[32m━━━━━━━━━━━━━━━━━━━━\u001b[0m\u001b[37m\u001b[0m \u001b[1m37s\u001b[0m 197ms/step - accuracy: 0.8757 - loss: 0.3174 - val_accuracy: 0.9634 - val_loss: 0.1210\n",
      "Epoch 15/20\n",
      "\u001b[1m188/188\u001b[0m \u001b[32m━━━━━━━━━━━━━━━━━━━━\u001b[0m\u001b[37m\u001b[0m \u001b[1m37s\u001b[0m 198ms/step - accuracy: 0.8582 - loss: 0.3197 - val_accuracy: 0.9654 - val_loss: 0.1210\n",
      "Epoch 16/20\n",
      "\u001b[1m188/188\u001b[0m \u001b[32m━━━━━━━━━━━━━━━━━━━━\u001b[0m\u001b[37m\u001b[0m \u001b[1m37s\u001b[0m 198ms/step - accuracy: 0.8431 - loss: 0.3321 - val_accuracy: 0.9649 - val_loss: 0.1193\n",
      "Epoch 17/20\n",
      "\u001b[1m188/188\u001b[0m \u001b[32m━━━━━━━━━━━━━━━━━━━━\u001b[0m\u001b[37m\u001b[0m \u001b[1m40s\u001b[0m 210ms/step - accuracy: 0.8632 - loss: 0.2681 - val_accuracy: 0.9631 - val_loss: 0.1306\n",
      "Epoch 18/20\n",
      "\u001b[1m188/188\u001b[0m \u001b[32m━━━━━━━━━━━━━━━━━━━━\u001b[0m\u001b[37m\u001b[0m \u001b[1m37s\u001b[0m 198ms/step - accuracy: 0.8907 - loss: 0.2433 - val_accuracy: 0.9623 - val_loss: 0.1275\n",
      "Epoch 19/20\n",
      "\u001b[1m188/188\u001b[0m \u001b[32m━━━━━━━━━━━━━━━━━━━━\u001b[0m\u001b[37m\u001b[0m \u001b[1m37s\u001b[0m 199ms/step - accuracy: 0.8453 - loss: 0.3224 - val_accuracy: 0.9625 - val_loss: 0.1292\n",
      "Epoch 20/20\n",
      "\u001b[1m188/188\u001b[0m \u001b[32m━━━━━━━━━━━━━━━━━━━━\u001b[0m\u001b[37m\u001b[0m \u001b[1m37s\u001b[0m 199ms/step - accuracy: 0.8578 - loss: 0.2680 - val_accuracy: 0.9663 - val_loss: 0.1247\n"
     ]
    }
   ],
   "source": [
    "history_lstm = model_lstm.fit(\n",
    "    X_train_scaled, \n",
    "    y_train, \n",
    "    epochs=20, \n",
    "    batch_size=1024, \n",
    "    validation_split=0.2,\n",
    "    # validation_data=(X_val, y_val), \n",
    "    shuffle=False\n",
    ")\n",
    "model_lstm.save(\"cic_ids_2017_praharak_v6.keras\")"
   ]
  },
  {
   "cell_type": "code",
   "execution_count": 26,
   "id": "316fac2e-24b9-4197-bc9b-92a26c9d4851",
   "metadata": {},
   "outputs": [
    {
     "data": {
      "text/html": [
       "<pre style=\"white-space:pre;overflow-x:auto;line-height:normal;font-family:Menlo,'DejaVu Sans Mono',consolas,'Courier New',monospace\"><span style=\"font-weight: bold\">Model: \"sequential\"</span>\n",
       "</pre>\n"
      ],
      "text/plain": [
       "\u001b[1mModel: \"sequential\"\u001b[0m\n"
      ]
     },
     "metadata": {},
     "output_type": "display_data"
    },
    {
     "data": {
      "text/html": [
       "<pre style=\"white-space:pre;overflow-x:auto;line-height:normal;font-family:Menlo,'DejaVu Sans Mono',consolas,'Courier New',monospace\">┏━━━━━━━━━━━━━━━━━━━━━━━━━━━━━━━━━┳━━━━━━━━━━━━━━━━━━━━━━━━┳━━━━━━━━━━━━━━━┓\n",
       "┃<span style=\"font-weight: bold\"> Layer (type)                    </span>┃<span style=\"font-weight: bold\"> Output Shape           </span>┃<span style=\"font-weight: bold\">       Param # </span>┃\n",
       "┡━━━━━━━━━━━━━━━━━━━━━━━━━━━━━━━━━╇━━━━━━━━━━━━━━━━━━━━━━━━╇━━━━━━━━━━━━━━━┩\n",
       "│ lstm (<span style=\"color: #0087ff; text-decoration-color: #0087ff\">LSTM</span>)                     │ (<span style=\"color: #00d7ff; text-decoration-color: #00d7ff\">None</span>, <span style=\"color: #00af00; text-decoration-color: #00af00\">64</span>)             │        <span style=\"color: #00af00; text-decoration-color: #00af00\">16,896</span> │\n",
       "├─────────────────────────────────┼────────────────────────┼───────────────┤\n",
       "│ dropout (<span style=\"color: #0087ff; text-decoration-color: #0087ff\">Dropout</span>)               │ (<span style=\"color: #00d7ff; text-decoration-color: #00d7ff\">None</span>, <span style=\"color: #00af00; text-decoration-color: #00af00\">64</span>)             │             <span style=\"color: #00af00; text-decoration-color: #00af00\">0</span> │\n",
       "├─────────────────────────────────┼────────────────────────┼───────────────┤\n",
       "│ dense (<span style=\"color: #0087ff; text-decoration-color: #0087ff\">Dense</span>)                   │ (<span style=\"color: #00d7ff; text-decoration-color: #00d7ff\">None</span>, <span style=\"color: #00af00; text-decoration-color: #00af00\">16</span>)             │         <span style=\"color: #00af00; text-decoration-color: #00af00\">1,040</span> │\n",
       "├─────────────────────────────────┼────────────────────────┼───────────────┤\n",
       "│ dense_1 (<span style=\"color: #0087ff; text-decoration-color: #0087ff\">Dense</span>)                 │ (<span style=\"color: #00d7ff; text-decoration-color: #00d7ff\">None</span>, <span style=\"color: #00af00; text-decoration-color: #00af00\">1</span>)              │            <span style=\"color: #00af00; text-decoration-color: #00af00\">17</span> │\n",
       "└─────────────────────────────────┴────────────────────────┴───────────────┘\n",
       "</pre>\n"
      ],
      "text/plain": [
       "┏━━━━━━━━━━━━━━━━━━━━━━━━━━━━━━━━━┳━━━━━━━━━━━━━━━━━━━━━━━━┳━━━━━━━━━━━━━━━┓\n",
       "┃\u001b[1m \u001b[0m\u001b[1mLayer (type)                   \u001b[0m\u001b[1m \u001b[0m┃\u001b[1m \u001b[0m\u001b[1mOutput Shape          \u001b[0m\u001b[1m \u001b[0m┃\u001b[1m \u001b[0m\u001b[1m      Param #\u001b[0m\u001b[1m \u001b[0m┃\n",
       "┡━━━━━━━━━━━━━━━━━━━━━━━━━━━━━━━━━╇━━━━━━━━━━━━━━━━━━━━━━━━╇━━━━━━━━━━━━━━━┩\n",
       "│ lstm (\u001b[38;5;33mLSTM\u001b[0m)                     │ (\u001b[38;5;45mNone\u001b[0m, \u001b[38;5;34m64\u001b[0m)             │        \u001b[38;5;34m16,896\u001b[0m │\n",
       "├─────────────────────────────────┼────────────────────────┼───────────────┤\n",
       "│ dropout (\u001b[38;5;33mDropout\u001b[0m)               │ (\u001b[38;5;45mNone\u001b[0m, \u001b[38;5;34m64\u001b[0m)             │             \u001b[38;5;34m0\u001b[0m │\n",
       "├─────────────────────────────────┼────────────────────────┼───────────────┤\n",
       "│ dense (\u001b[38;5;33mDense\u001b[0m)                   │ (\u001b[38;5;45mNone\u001b[0m, \u001b[38;5;34m16\u001b[0m)             │         \u001b[38;5;34m1,040\u001b[0m │\n",
       "├─────────────────────────────────┼────────────────────────┼───────────────┤\n",
       "│ dense_1 (\u001b[38;5;33mDense\u001b[0m)                 │ (\u001b[38;5;45mNone\u001b[0m, \u001b[38;5;34m1\u001b[0m)              │            \u001b[38;5;34m17\u001b[0m │\n",
       "└─────────────────────────────────┴────────────────────────┴───────────────┘\n"
      ]
     },
     "metadata": {},
     "output_type": "display_data"
    },
    {
     "data": {
      "text/html": [
       "<pre style=\"white-space:pre;overflow-x:auto;line-height:normal;font-family:Menlo,'DejaVu Sans Mono',consolas,'Courier New',monospace\"><span style=\"font-weight: bold\"> Total params: </span><span style=\"color: #00af00; text-decoration-color: #00af00\">53,861</span> (210.40 KB)\n",
       "</pre>\n"
      ],
      "text/plain": [
       "\u001b[1m Total params: \u001b[0m\u001b[38;5;34m53,861\u001b[0m (210.40 KB)\n"
      ]
     },
     "metadata": {},
     "output_type": "display_data"
    },
    {
     "data": {
      "text/html": [
       "<pre style=\"white-space:pre;overflow-x:auto;line-height:normal;font-family:Menlo,'DejaVu Sans Mono',consolas,'Courier New',monospace\"><span style=\"font-weight: bold\"> Trainable params: </span><span style=\"color: #00af00; text-decoration-color: #00af00\">17,953</span> (70.13 KB)\n",
       "</pre>\n"
      ],
      "text/plain": [
       "\u001b[1m Trainable params: \u001b[0m\u001b[38;5;34m17,953\u001b[0m (70.13 KB)\n"
      ]
     },
     "metadata": {},
     "output_type": "display_data"
    },
    {
     "data": {
      "text/html": [
       "<pre style=\"white-space:pre;overflow-x:auto;line-height:normal;font-family:Menlo,'DejaVu Sans Mono',consolas,'Courier New',monospace\"><span style=\"font-weight: bold\"> Non-trainable params: </span><span style=\"color: #00af00; text-decoration-color: #00af00\">0</span> (0.00 B)\n",
       "</pre>\n"
      ],
      "text/plain": [
       "\u001b[1m Non-trainable params: \u001b[0m\u001b[38;5;34m0\u001b[0m (0.00 B)\n"
      ]
     },
     "metadata": {},
     "output_type": "display_data"
    },
    {
     "data": {
      "text/html": [
       "<pre style=\"white-space:pre;overflow-x:auto;line-height:normal;font-family:Menlo,'DejaVu Sans Mono',consolas,'Courier New',monospace\"><span style=\"font-weight: bold\"> Optimizer params: </span><span style=\"color: #00af00; text-decoration-color: #00af00\">35,908</span> (140.27 KB)\n",
       "</pre>\n"
      ],
      "text/plain": [
       "\u001b[1m Optimizer params: \u001b[0m\u001b[38;5;34m35,908\u001b[0m (140.27 KB)\n"
      ]
     },
     "metadata": {},
     "output_type": "display_data"
    }
   ],
   "source": [
    "model_lstm.summary()"
   ]
  },
  {
   "cell_type": "code",
   "execution_count": 27,
   "id": "8e5aac2b-deed-4e67-8fbf-143e87027d4c",
   "metadata": {},
   "outputs": [
    {
     "data": {
      "image/png": "[encoded data removed]",
      "text/plain": [
       "<Figure size 640x480 with 1 Axes>"
      ]
     },
     "metadata": {},
     "output_type": "display_data"
    }
   ],
   "source": [
    "import matplotlib.pyplot as plt\n",
    "\n",
    "# Retrieve training and validation loss from history object\n",
    "loss = history_lstm.history['loss']\n",
    "val_loss = history_lstm.history['val_loss']\n",
    "\n",
    "# Plotting the training and validation loss\n",
    "epochs = range(1, len(loss) + 1)\n",
    "plt.plot(epochs, loss, 'g', label='Training Loss')\n",
    "plt.plot(epochs, val_loss, 'r', label='Validation Loss')\n",
    "plt.title('Loss vs. Number of epochs')\n",
    "plt.xlabel('Number of Epochs')\n",
    "plt.ylabel('Loss')\n",
    "plt.legend()\n",
    "plt.show()\n"
   ]
  },
  {
   "cell_type": "code",
   "execution_count": 28,
   "id": "e5d4d172-7406-4756-94d9-326c687fd59c",
   "metadata": {},
   "outputs": [
    {
     "data": {
      "image/png": "[encoded data removed]",
      "text/plain": [
       "<Figure size 640x480 with 1 Axes>"
      ]
     },
     "metadata": {},
     "output_type": "display_data"
    }
   ],
   "source": [
    "accuracy = history_lstm.history['accuracy']\n",
    "val_accuracy = history_lstm.history['val_accuracy']\n",
    "plt.plot(epochs, accuracy , 'g', label = 'Training accuracy')\n",
    "plt.plot(epochs, val_accuracy , 'r', label = 'Validation accuracy')\n",
    "plt.title('Accuracy Scores v/s Number of Epochs')\n",
    "plt.xlabel('No. of Epochs')\n",
    "plt.ylabel('Accuracy Score')\n",
    "plt.legend()\n",
    "plt.show()"
   ]
  },
  {
   "cell_type": "markdown",
   "id": "080dc4c2-f8ba-4b69-82f2-e4ef73661452",
   "metadata": {},
   "source": [
    "## Testing and evaluation"
   ]
  },
  {
   "cell_type": "code",
   "execution_count": 29,
   "id": "c7d2f51e-8547-419f-9353-038ae3c9044e",
   "metadata": {},
   "outputs": [],
   "source": [
    "from sklearn.metrics import confusion_matrix, accuracy_score, precision_score, recall_score, f1_score\n",
    "\n",
    "def evaluate(model, X_test, y_test):\n",
    "    y_pred = model.predict(X_test)\n",
    "    y_pred_binary = (y_pred > 0.5).astype(int)\n",
    "\n",
    "    # Generating confusion matrix\n",
    "    cm = confusion_matrix(y_test, y_pred_binary)\n",
    "    print(\"Confusion Matrix:\")\n",
    "    print(cm)\n",
    "\n",
    "    # Evaluation parameters\n",
    "    accuracy = accuracy_score(y_test, y_pred_binary)\n",
    "    precision = precision_score(y_test, y_pred_binary)\n",
    "    recall = recall_score(y_test, y_pred_binary)\n",
    "    f1 = f1_score(y_test, y_pred_binary)\n",
    "\n",
    "    print(\"Accuracy:\", accuracy)\n",
    "    print(\"Precision:\", precision)\n",
    "    print(\"Recall:\", recall)\n",
    "    print(\"F1 Score:\", f1)\n",
    "\n",
    "    return cm, y_pred"
   ]
  },
  {
   "cell_type": "code",
   "execution_count": 30,
   "id": "75b9b0f9-58ab-41f6-a1bc-0f8087c45af0",
   "metadata": {},
   "outputs": [
    {
     "name": "stdout",
     "output_type": "stream",
     "text": [
      "\u001b[1m1875/1875\u001b[0m \u001b[32m━━━━━━━━━━━━━━━━━━━━\u001b[0m\u001b[37m\u001b[0m \u001b[1m13s\u001b[0m 7ms/step\n",
      "Confusion Matrix:\n",
      "[[ 5110  2893]\n",
      " [  103 51894]]\n",
      "Accuracy: 0.9500666666666666\n",
      "Precision: 0.9471955025827294\n",
      "Recall: 0.9980191164874896\n",
      "F1 Score: 0.9719433623014684\n"
     ]
    }
   ],
   "source": [
    "cm_lstm, y_pred_lstm = evaluate(model_lstm, X_test, y_test)"
   ]
  },
  {
   "cell_type": "code",
   "execution_count": 31,
   "id": "33617102-dddb-4af2-b0f4-833e76677bed",
   "metadata": {},
   "outputs": [
    {
     "data": {
      "image/png": "[encoded data removed]",
      "text/plain": [
       "<Figure size 800x600 with 2 Axes>"
      ]
     },
     "metadata": {},
     "output_type": "display_data"
    }
   ],
   "source": [
    "import seaborn as sns\n",
    "import matplotlib.pyplot as plt\n",
    "\n",
    "# Plot confusion matrix\n",
    "plt.figure(figsize=(8, 6))\n",
    "sns.heatmap(cm_lstm, annot=True, cmap='Blues', fmt='g', \n",
    "            xticklabels=['Predicted Negative', 'Predicted Positive'], \n",
    "            yticklabels=['Actual Negative', 'Actual Positive'])\n",
    "plt.title('Confusion Matrix LSTM')\n",
    "plt.xlabel('Predicted label')\n",
    "plt.ylabel('True label')\n",
    "plt.show()"
   ]
  },
  {
   "cell_type": "code",
   "execution_count": 32,
   "id": "4bc70560-dd01-439c-8f9d-7d6a5a80010e",
   "metadata": {},
   "outputs": [
    {
     "data": {
      "image/png": "[encoded data removed]",
      "text/plain": [
       "<Figure size 640x480 with 1 Axes>"
      ]
     },
     "metadata": {},
     "output_type": "display_data"
    }
   ],
   "source": [
    "from sklearn.metrics import precision_recall_curve, auc\n",
    "import matplotlib.pyplot as plt\n",
    "\n",
    "# Calculate precision-recall curve\n",
    "precision, recall, _ = precision_recall_curve(y_test, y_pred_lstm)\n",
    "pr_auc = auc(recall, precision)\n",
    "\n",
    "# Plot PR curve\n",
    "plt.figure()\n",
    "plt.plot(recall, precision, color='darkorange', lw=2, label='PR curve (area = %0.6f)' % pr_auc)\n",
    "plt.xlim([0.0, 1.0])\n",
    "plt.ylim([0.0, 1.05])\n",
    "plt.xlabel('Recall')\n",
    "plt.ylabel('Precision')\n",
    "plt.title('Precision-Recall Curve LSTM')\n",
    "plt.legend(loc=\"lower right\")\n",
    "plt.show()"
   ]
  },
  {
   "cell_type": "code",
   "execution_count": null,
   "id": "02f30a4c-24af-475f-a49b-57007298e423",
   "metadata": {},
   "outputs": [],
   "source": []
  }
 ],
 "metadata": {
  "kernelspec": {
   "display_name": "Python 3 (ipykernel)",
   "language": "python",
   "name": "python3"
  },
  "language_info": {
   "codemirror_mode": {
    "name": "ipython",
    "version": 3
   },
   "file_extension": ".py",
   "mimetype": "text/x-python",
   "name": "python",
   "nbconvert_exporter": "python",
   "pygments_lexer": "ipython3",
   "version": "3.12.4"
  }
 },
 "nbformat": 4,
 "nbformat_minor": 5
}
